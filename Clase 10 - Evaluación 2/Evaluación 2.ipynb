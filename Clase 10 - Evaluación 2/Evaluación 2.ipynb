{
 "cells": [
  {
   "cell_type": "code",
   "execution_count": 223,
   "metadata": {},
   "outputs": [],
   "source": [
    "import pandas as pd\n",
    "import numpy as np\n",
    "import seaborn as sbn\n",
    "import matplotlib.pyplot as plt"
   ]
  },
  {
   "cell_type": "code",
   "execution_count": 224,
   "metadata": {},
   "outputs": [],
   "source": [
    "# Importamos los modelos de Clasificación\n",
    "from sklearn.neighbors import KNeighborsClassifier\n",
    "from sklearn.linear_model import LogisticRegression\n",
    "from sklearn.ensemble import RandomForestClassifier\n",
    "from sklearn.svm import SVC\n",
    "from sklearn.tree import DecisionTreeClassifier"
   ]
  },
  {
   "cell_type": "code",
   "execution_count": 225,
   "metadata": {},
   "outputs": [],
   "source": [
    "# Importamos los modelos de Regresión\n",
    "from sklearn.neighbors import KNeighborsRegressor\n",
    "from sklearn.linear_model import LinearRegression\n",
    "from sklearn.ensemble import RandomForestRegressor\n",
    "from sklearn.svm import SVR\n",
    "from sklearn.tree import DecisionTreeRegressor"
   ]
  },
  {
   "cell_type": "code",
   "execution_count": 226,
   "metadata": {},
   "outputs": [],
   "source": [
    "# Importamos librerias necesarias para trabajar el modelo\n",
    "from sklearn.preprocessing import LabelEncoder\n",
    "from sklearn.model_selection import RepeatedKFold, train_test_split\n",
    "from sklearn import metrics\n",
    "from sklearn.metrics import confusion_matrix"
   ]
  },
  {
   "cell_type": "code",
   "execution_count": 227,
   "metadata": {},
   "outputs": [],
   "source": [
    "df = pd.read_excel('PlayStore.xlsx')"
   ]
  },
  {
   "cell_type": "code",
   "execution_count": 228,
   "metadata": {},
   "outputs": [
    {
     "data": {
      "text/html": [
       "<div>\n",
       "<style scoped>\n",
       "    .dataframe tbody tr th:only-of-type {\n",
       "        vertical-align: middle;\n",
       "    }\n",
       "\n",
       "    .dataframe tbody tr th {\n",
       "        vertical-align: top;\n",
       "    }\n",
       "\n",
       "    .dataframe thead th {\n",
       "        text-align: right;\n",
       "    }\n",
       "</style>\n",
       "<table border=\"1\" class=\"dataframe\">\n",
       "  <thead>\n",
       "    <tr style=\"text-align: right;\">\n",
       "      <th></th>\n",
       "      <th>App</th>\n",
       "      <th>Categoría</th>\n",
       "      <th>Valoración</th>\n",
       "      <th>Comentarios</th>\n",
       "      <th>Tamaño(M)</th>\n",
       "      <th>Descargas</th>\n",
       "      <th>Tipo</th>\n",
       "      <th>Precio</th>\n",
       "      <th>Clasificación</th>\n",
       "    </tr>\n",
       "  </thead>\n",
       "  <tbody>\n",
       "    <tr>\n",
       "      <th>0</th>\n",
       "      <td>AJ Styles HD Wallpapers</td>\n",
       "      <td>ARTE Y DISEÑO</td>\n",
       "      <td>4.8</td>\n",
       "      <td>48</td>\n",
       "      <td>25.0</td>\n",
       "      <td>5,000 aprox.</td>\n",
       "      <td>Gratis</td>\n",
       "      <td>0.0</td>\n",
       "      <td>Todo público</td>\n",
       "    </tr>\n",
       "    <tr>\n",
       "      <th>1</th>\n",
       "      <td>I Creative Idea</td>\n",
       "      <td>ARTE Y DISEÑO</td>\n",
       "      <td>4.7</td>\n",
       "      <td>353</td>\n",
       "      <td>4.2</td>\n",
       "      <td>10,000 aprox.</td>\n",
       "      <td>Gratis</td>\n",
       "      <td>0.0</td>\n",
       "      <td>Adolescentes</td>\n",
       "    </tr>\n",
       "    <tr>\n",
       "      <th>2</th>\n",
       "      <td>Infinite Painter</td>\n",
       "      <td>ARTE Y DISEÑO</td>\n",
       "      <td>4.1</td>\n",
       "      <td>36815</td>\n",
       "      <td>29.0</td>\n",
       "      <td>1,000,000 aprox.</td>\n",
       "      <td>Gratis</td>\n",
       "      <td>0.0</td>\n",
       "      <td>Todo público</td>\n",
       "    </tr>\n",
       "    <tr>\n",
       "      <th>3</th>\n",
       "      <td>FlipaClip - Cartoon animation</td>\n",
       "      <td>ARTE Y DISEÑO</td>\n",
       "      <td>4.3</td>\n",
       "      <td>194216</td>\n",
       "      <td>39.0</td>\n",
       "      <td>5,000,000 aprox.</td>\n",
       "      <td>Gratis</td>\n",
       "      <td>0.0</td>\n",
       "      <td>Todo público</td>\n",
       "    </tr>\n",
       "    <tr>\n",
       "      <th>4</th>\n",
       "      <td>Text on Photo - Fonteee</td>\n",
       "      <td>ARTE Y DISEÑO</td>\n",
       "      <td>4.4</td>\n",
       "      <td>13880</td>\n",
       "      <td>28.0</td>\n",
       "      <td>1,000,000 aprox.</td>\n",
       "      <td>Gratis</td>\n",
       "      <td>0.0</td>\n",
       "      <td>Todo público</td>\n",
       "    </tr>\n",
       "  </tbody>\n",
       "</table>\n",
       "</div>"
      ],
      "text/plain": [
       "                             App      Categoría  Valoración  Comentarios  \\\n",
       "0        AJ Styles HD Wallpapers  ARTE Y DISEÑO         4.8           48   \n",
       "1                I Creative Idea  ARTE Y DISEÑO         4.7          353   \n",
       "2               Infinite Painter  ARTE Y DISEÑO         4.1        36815   \n",
       "3  FlipaClip - Cartoon animation  ARTE Y DISEÑO         4.3       194216   \n",
       "4        Text on Photo - Fonteee  ARTE Y DISEÑO         4.4        13880   \n",
       "\n",
       "   Tamaño(M)         Descargas    Tipo  Precio Clasificación  \n",
       "0       25.0      5,000 aprox.  Gratis     0.0  Todo público  \n",
       "1        4.2     10,000 aprox.  Gratis     0.0  Adolescentes  \n",
       "2       29.0  1,000,000 aprox.  Gratis     0.0  Todo público  \n",
       "3       39.0  5,000,000 aprox.  Gratis     0.0  Todo público  \n",
       "4       28.0  1,000,000 aprox.  Gratis     0.0  Todo público  "
      ]
     },
     "execution_count": 228,
     "metadata": {},
     "output_type": "execute_result"
    }
   ],
   "source": [
    "df.head()"
   ]
  },
  {
   "cell_type": "code",
   "execution_count": 229,
   "metadata": {},
   "outputs": [
    {
     "name": "stdout",
     "output_type": "stream",
     "text": [
      "(9141, 9)\n",
      "<class 'pandas.core.frame.DataFrame'>\n",
      "RangeIndex: 9141 entries, 0 to 9140\n",
      "Data columns (total 9 columns):\n",
      " #   Column         Non-Null Count  Dtype  \n",
      "---  ------         --------------  -----  \n",
      " 0   App            9141 non-null   object \n",
      " 1   Categoría      9141 non-null   object \n",
      " 2   Valoración     7725 non-null   float64\n",
      " 3   Comentarios    9141 non-null   int64  \n",
      " 4   Tamaño(M)      9141 non-null   float64\n",
      " 5   Descargas      9141 non-null   object \n",
      " 6   Tipo           9141 non-null   object \n",
      " 7   Precio         9141 non-null   float64\n",
      " 8   Clasificación  9141 non-null   object \n",
      "dtypes: float64(3), int64(1), object(5)\n",
      "memory usage: 642.9+ KB\n",
      "None\n"
     ]
    }
   ],
   "source": [
    "print(df.shape)\n",
    "print(df.info())"
   ]
  },
  {
   "cell_type": "markdown",
   "metadata": {},
   "source": [
    "#### Como podemos apreciar, el modelo consta de 9 columnas y 9141 filas\n",
    "#### Todos los valores, a excepción de la valoración están 100% integros\n",
    "#### La columna 'Descargas' debe parsearse a un valor numérico"
   ]
  },
  {
   "cell_type": "code",
   "execution_count": 230,
   "metadata": {},
   "outputs": [
    {
     "name": "stdout",
     "output_type": "stream",
     "text": [
      "<class 'pandas.core.frame.DataFrame'>\n",
      "RangeIndex: 9141 entries, 0 to 9140\n",
      "Data columns (total 9 columns):\n",
      " #   Column         Non-Null Count  Dtype  \n",
      "---  ------         --------------  -----  \n",
      " 0   App            9141 non-null   object \n",
      " 1   Categoría      9141 non-null   object \n",
      " 2   Valoración     7725 non-null   float64\n",
      " 3   Comentarios    9141 non-null   float64\n",
      " 4   Tamaño(M)      9141 non-null   float64\n",
      " 5   Descargas      9141 non-null   float64\n",
      " 6   Tipo           9141 non-null   object \n",
      " 7   Precio         9141 non-null   float64\n",
      " 8   Clasificación  9141 non-null   object \n",
      "dtypes: float64(5), object(4)\n",
      "memory usage: 642.9+ KB\n"
     ]
    }
   ],
   "source": [
    "df.Descargas = df.Descargas.apply(lambda x: x.replace(' aprox.', ''))\n",
    "df.Descargas = df.Descargas.apply(lambda x: x.replace(',', ''))\n",
    "df.Descargas = df.Descargas.astype(np.float64)\n",
    "df.Comentarios = df.Comentarios.astype(np.float64)\n",
    "df.info()"
   ]
  },
  {
   "cell_type": "code",
   "execution_count": 231,
   "metadata": {},
   "outputs": [
    {
     "data": {
      "text/html": [
       "<div>\n",
       "<style scoped>\n",
       "    .dataframe tbody tr th:only-of-type {\n",
       "        vertical-align: middle;\n",
       "    }\n",
       "\n",
       "    .dataframe tbody tr th {\n",
       "        vertical-align: top;\n",
       "    }\n",
       "\n",
       "    .dataframe thead th {\n",
       "        text-align: right;\n",
       "    }\n",
       "</style>\n",
       "<table border=\"1\" class=\"dataframe\">\n",
       "  <thead>\n",
       "    <tr style=\"text-align: right;\">\n",
       "      <th></th>\n",
       "      <th>Valoración</th>\n",
       "      <th>Tamaño(M)</th>\n",
       "      <th>Precio</th>\n",
       "    </tr>\n",
       "  </thead>\n",
       "  <tbody>\n",
       "    <tr>\n",
       "      <th>count</th>\n",
       "      <td>7725.000000</td>\n",
       "      <td>9141.000000</td>\n",
       "      <td>9141.000000</td>\n",
       "    </tr>\n",
       "    <tr>\n",
       "      <th>mean</th>\n",
       "      <td>4.173735</td>\n",
       "      <td>37.047391</td>\n",
       "      <td>1.184885</td>\n",
       "    </tr>\n",
       "    <tr>\n",
       "      <th>std</th>\n",
       "      <td>0.544548</td>\n",
       "      <td>98.893732</td>\n",
       "      <td>17.359533</td>\n",
       "    </tr>\n",
       "    <tr>\n",
       "      <th>min</th>\n",
       "      <td>1.000000</td>\n",
       "      <td>1.000000</td>\n",
       "      <td>0.000000</td>\n",
       "    </tr>\n",
       "    <tr>\n",
       "      <th>25%</th>\n",
       "      <td>4.000000</td>\n",
       "      <td>5.600000</td>\n",
       "      <td>0.000000</td>\n",
       "    </tr>\n",
       "    <tr>\n",
       "      <th>50%</th>\n",
       "      <td>4.300000</td>\n",
       "      <td>15.000000</td>\n",
       "      <td>0.000000</td>\n",
       "    </tr>\n",
       "    <tr>\n",
       "      <th>75%</th>\n",
       "      <td>4.500000</td>\n",
       "      <td>34.000000</td>\n",
       "      <td>0.000000</td>\n",
       "    </tr>\n",
       "    <tr>\n",
       "      <th>max</th>\n",
       "      <td>5.000000</td>\n",
       "      <td>1020.000000</td>\n",
       "      <td>400.000000</td>\n",
       "    </tr>\n",
       "  </tbody>\n",
       "</table>\n",
       "</div>"
      ],
      "text/plain": [
       "        Valoración    Tamaño(M)       Precio\n",
       "count  7725.000000  9141.000000  9141.000000\n",
       "mean      4.173735    37.047391     1.184885\n",
       "std       0.544548    98.893732    17.359533\n",
       "min       1.000000     1.000000     0.000000\n",
       "25%       4.000000     5.600000     0.000000\n",
       "50%       4.300000    15.000000     0.000000\n",
       "75%       4.500000    34.000000     0.000000\n",
       "max       5.000000  1020.000000   400.000000"
      ]
     },
     "execution_count": 231,
     "metadata": {},
     "output_type": "execute_result"
    }
   ],
   "source": [
    "df[['Valoración', 'Tamaño(M)', 'Precio']].describe()"
   ]
  },
  {
   "cell_type": "code",
   "execution_count": 232,
   "metadata": {},
   "outputs": [
    {
     "data": {
      "text/html": [
       "<div>\n",
       "<style scoped>\n",
       "    .dataframe tbody tr th:only-of-type {\n",
       "        vertical-align: middle;\n",
       "    }\n",
       "\n",
       "    .dataframe tbody tr th {\n",
       "        vertical-align: top;\n",
       "    }\n",
       "\n",
       "    .dataframe thead th {\n",
       "        text-align: right;\n",
       "    }\n",
       "</style>\n",
       "<table border=\"1\" class=\"dataframe\">\n",
       "  <thead>\n",
       "    <tr style=\"text-align: right;\">\n",
       "      <th></th>\n",
       "      <th>Comentarios</th>\n",
       "      <th>Descargas</th>\n",
       "    </tr>\n",
       "  </thead>\n",
       "  <tbody>\n",
       "    <tr>\n",
       "      <th>count</th>\n",
       "      <td>9141</td>\n",
       "      <td>9141</td>\n",
       "    </tr>\n",
       "    <tr>\n",
       "      <th>mean</th>\n",
       "      <td>249157</td>\n",
       "      <td>7117898</td>\n",
       "    </tr>\n",
       "    <tr>\n",
       "      <th>std</th>\n",
       "      <td>1716578</td>\n",
       "      <td>46203441</td>\n",
       "    </tr>\n",
       "    <tr>\n",
       "      <th>min</th>\n",
       "      <td>0</td>\n",
       "      <td>0</td>\n",
       "    </tr>\n",
       "    <tr>\n",
       "      <th>25%</th>\n",
       "      <td>22</td>\n",
       "      <td>1000</td>\n",
       "    </tr>\n",
       "    <tr>\n",
       "      <th>50%</th>\n",
       "      <td>742</td>\n",
       "      <td>100000</td>\n",
       "    </tr>\n",
       "    <tr>\n",
       "      <th>75%</th>\n",
       "      <td>25094</td>\n",
       "      <td>1000000</td>\n",
       "    </tr>\n",
       "    <tr>\n",
       "      <th>max</th>\n",
       "      <td>44893888</td>\n",
       "      <td>1000000000</td>\n",
       "    </tr>\n",
       "  </tbody>\n",
       "</table>\n",
       "</div>"
      ],
      "text/plain": [
       "       Comentarios   Descargas\n",
       "count         9141        9141\n",
       "mean        249157     7117898\n",
       "std        1716578    46203441\n",
       "min              0           0\n",
       "25%             22        1000\n",
       "50%            742      100000\n",
       "75%          25094     1000000\n",
       "max       44893888  1000000000"
      ]
     },
     "execution_count": 232,
     "metadata": {},
     "output_type": "execute_result"
    }
   ],
   "source": [
    "df[['Comentarios', 'Descargas']].describe().astype(np.int64)"
   ]
  },
  {
   "cell_type": "markdown",
   "metadata": {},
   "source": [
    "### Analizamos posibles variables explicativas"
   ]
  },
  {
   "cell_type": "code",
   "execution_count": 233,
   "metadata": {},
   "outputs": [
    {
     "data": {
      "text/plain": [
       "ROBLOX                                               9\n",
       "Candy Crush Saga                                     7\n",
       "8 Ball Pool                                          7\n",
       "Bubble Shooter                                       6\n",
       "Nick                                                 6\n",
       "                                                    ..\n",
       "BN Habitat - Property Experts - Buy | Sell | Rent    1\n",
       "Favorite Soviet cartoons                             1\n",
       "US Mission - buy gourmet movie KTV                   1\n",
       "HTC Sense Input - CZ                                 1\n",
       "Paper flowers instructions                           1\n",
       "Name: App, Length: 8430, dtype: int64"
      ]
     },
     "execution_count": 233,
     "metadata": {},
     "output_type": "execute_result"
    }
   ],
   "source": [
    "df.App.value_counts()"
   ]
  },
  {
   "cell_type": "code",
   "execution_count": 234,
   "metadata": {},
   "outputs": [
    {
     "data": {
      "text/plain": [
       "FAMILIA                   1770\n",
       "JUEGO                     1051\n",
       "HERRAMIENTAS               738\n",
       "MÉDICO                     433\n",
       "NEGOCIO                    400\n",
       "PERSONALIZACIÓN            356\n",
       "ESTILO DE VIDA             349\n",
       "DEPORTES                   310\n",
       "FINANCIERAS                306\n",
       "PRODUCTIVIDAD              303\n",
       "SALUD Y BELLEZA            265\n",
       "COMUNICACIÓN               264\n",
       "FOTOGRAFÍA                 253\n",
       "NOTICIAS                   215\n",
       "DATOS                      212\n",
       "SOCIAL                     209\n",
       "COMPRAS                    201\n",
       "LIBROS Y REFRERENCIAS      197\n",
       "VIAJES                     192\n",
       "REPRODUCTORES DE VIDEO     129\n",
       "EDUCACIÓN                  124\n",
       "MAPAS Y NAVEGACIÓN         108\n",
       "ENTRETENIMIENTO            102\n",
       "COMIDA Y BEBIDA            100\n",
       "LIBRERIAS                   82\n",
       "VEHICULOS                   75\n",
       "CASA Y HOGAR                68\n",
       "ARTE Y DISEÑO               65\n",
       "CLIMA                       57\n",
       "EVENTOS                     57\n",
       "PADRES                      53\n",
       "HISTORIETAS                 50\n",
       "BELLEZA                     47\n",
       "Name: Categoría, dtype: int64"
      ]
     },
     "execution_count": 234,
     "metadata": {},
     "output_type": "execute_result"
    }
   ],
   "source": [
    "df.Categoría.value_counts()"
   ]
  },
  {
   "cell_type": "code",
   "execution_count": 235,
   "metadata": {},
   "outputs": [
    {
     "data": {
      "text/plain": [
       "Gratis    8417\n",
       "Pago       724\n",
       "Name: Tipo, dtype: int64"
      ]
     },
     "execution_count": 235,
     "metadata": {},
     "output_type": "execute_result"
    }
   ],
   "source": [
    "# Estableceremos el siguiente diccionario clasificación: { 'Gratis' : 0 , 'Pago' : 1}\n",
    "df.Tipo.value_counts()"
   ]
  },
  {
   "cell_type": "code",
   "execution_count": 236,
   "metadata": {},
   "outputs": [
    {
     "data": {
      "text/html": [
       "<div>\n",
       "<style scoped>\n",
       "    .dataframe tbody tr th:only-of-type {\n",
       "        vertical-align: middle;\n",
       "    }\n",
       "\n",
       "    .dataframe tbody tr th {\n",
       "        vertical-align: top;\n",
       "    }\n",
       "\n",
       "    .dataframe thead th {\n",
       "        text-align: right;\n",
       "    }\n",
       "</style>\n",
       "<table border=\"1\" class=\"dataframe\">\n",
       "  <thead>\n",
       "    <tr style=\"text-align: right;\">\n",
       "      <th></th>\n",
       "      <th>App</th>\n",
       "      <th>Categoría</th>\n",
       "      <th>Valoración</th>\n",
       "      <th>Comentarios</th>\n",
       "      <th>Tamaño(M)</th>\n",
       "      <th>Descargas</th>\n",
       "      <th>Tipo</th>\n",
       "      <th>Precio</th>\n",
       "      <th>Clasificación</th>\n",
       "      <th>App_processed</th>\n",
       "      <th>Categoría_processed</th>\n",
       "      <th>Tipo_processed</th>\n",
       "      <th>Clasificación_processed</th>\n",
       "    </tr>\n",
       "  </thead>\n",
       "  <tbody>\n",
       "    <tr>\n",
       "      <th>0</th>\n",
       "      <td>AJ Styles HD Wallpapers</td>\n",
       "      <td>ARTE Y DISEÑO</td>\n",
       "      <td>4.8</td>\n",
       "      <td>48.0</td>\n",
       "      <td>25.0</td>\n",
       "      <td>5000.0</td>\n",
       "      <td>Gratis</td>\n",
       "      <td>0.0</td>\n",
       "      <td>Todo público</td>\n",
       "      <td>263</td>\n",
       "      <td>0</td>\n",
       "      <td>0</td>\n",
       "      <td>5</td>\n",
       "    </tr>\n",
       "    <tr>\n",
       "      <th>1</th>\n",
       "      <td>I Creative Idea</td>\n",
       "      <td>ARTE Y DISEÑO</td>\n",
       "      <td>4.7</td>\n",
       "      <td>353.0</td>\n",
       "      <td>4.2</td>\n",
       "      <td>10000.0</td>\n",
       "      <td>Gratis</td>\n",
       "      <td>0.0</td>\n",
       "      <td>Adolescentes</td>\n",
       "      <td>4761</td>\n",
       "      <td>0</td>\n",
       "      <td>0</td>\n",
       "      <td>0</td>\n",
       "    </tr>\n",
       "    <tr>\n",
       "      <th>2</th>\n",
       "      <td>Infinite Painter</td>\n",
       "      <td>ARTE Y DISEÑO</td>\n",
       "      <td>4.1</td>\n",
       "      <td>36815.0</td>\n",
       "      <td>29.0</td>\n",
       "      <td>1000000.0</td>\n",
       "      <td>Gratis</td>\n",
       "      <td>0.0</td>\n",
       "      <td>Todo público</td>\n",
       "      <td>4824</td>\n",
       "      <td>0</td>\n",
       "      <td>0</td>\n",
       "      <td>5</td>\n",
       "    </tr>\n",
       "    <tr>\n",
       "      <th>3</th>\n",
       "      <td>FlipaClip - Cartoon animation</td>\n",
       "      <td>ARTE Y DISEÑO</td>\n",
       "      <td>4.3</td>\n",
       "      <td>194216.0</td>\n",
       "      <td>39.0</td>\n",
       "      <td>5000000.0</td>\n",
       "      <td>Gratis</td>\n",
       "      <td>0.0</td>\n",
       "      <td>Todo público</td>\n",
       "      <td>4114</td>\n",
       "      <td>0</td>\n",
       "      <td>0</td>\n",
       "      <td>5</td>\n",
       "    </tr>\n",
       "    <tr>\n",
       "      <th>4</th>\n",
       "      <td>Text on Photo - Fonteee</td>\n",
       "      <td>ARTE Y DISEÑO</td>\n",
       "      <td>4.4</td>\n",
       "      <td>13880.0</td>\n",
       "      <td>28.0</td>\n",
       "      <td>1000000.0</td>\n",
       "      <td>Gratis</td>\n",
       "      <td>0.0</td>\n",
       "      <td>Todo público</td>\n",
       "      <td>7358</td>\n",
       "      <td>0</td>\n",
       "      <td>0</td>\n",
       "      <td>5</td>\n",
       "    </tr>\n",
       "  </tbody>\n",
       "</table>\n",
       "</div>"
      ],
      "text/plain": [
       "                             App      Categoría  Valoración  Comentarios  \\\n",
       "0        AJ Styles HD Wallpapers  ARTE Y DISEÑO         4.8         48.0   \n",
       "1                I Creative Idea  ARTE Y DISEÑO         4.7        353.0   \n",
       "2               Infinite Painter  ARTE Y DISEÑO         4.1      36815.0   \n",
       "3  FlipaClip - Cartoon animation  ARTE Y DISEÑO         4.3     194216.0   \n",
       "4        Text on Photo - Fonteee  ARTE Y DISEÑO         4.4      13880.0   \n",
       "\n",
       "   Tamaño(M)  Descargas    Tipo  Precio Clasificación  App_processed  \\\n",
       "0       25.0     5000.0  Gratis     0.0  Todo público            263   \n",
       "1        4.2    10000.0  Gratis     0.0  Adolescentes           4761   \n",
       "2       29.0  1000000.0  Gratis     0.0  Todo público           4824   \n",
       "3       39.0  5000000.0  Gratis     0.0  Todo público           4114   \n",
       "4       28.0  1000000.0  Gratis     0.0  Todo público           7358   \n",
       "\n",
       "   Categoría_processed  Tipo_processed  Clasificación_processed  \n",
       "0                    0               0                        5  \n",
       "1                    0               0                        0  \n",
       "2                    0               0                        5  \n",
       "3                    0               0                        5  \n",
       "4                    0               0                        5  "
      ]
     },
     "execution_count": 236,
     "metadata": {},
     "output_type": "execute_result"
    }
   ],
   "source": [
    "# Usaremos LabelEncoder para transformar variables categóricas a numéricas\n",
    "for col in ['App', 'Categoría', 'Tipo', 'Clasificación']:\n",
    "    df[col + '_processed'] = LabelEncoder().fit_transform(df[col].astype(str))\n",
    "df.head()\n"
   ]
  },
  {
   "cell_type": "markdown",
   "metadata": {},
   "source": [
    "Debido a que existen aplicaciones repetidas, agruparemos el dataset bajo los siguientes criterios\n",
    "\n",
    "* Nombre App\n",
    "* Categoria\n",
    "* Valoracion (promedio)\n",
    "* Comentarios (suma)\n",
    "* Tamaño (promedio)\n",
    "* Descargas (suma)\n",
    "* Precio (promedio)\n",
    "* Clasificación"
   ]
  },
  {
   "cell_type": "code",
   "execution_count": 237,
   "metadata": {},
   "outputs": [
    {
     "data": {
      "text/plain": [
       "<AxesSubplot:>"
      ]
     },
     "execution_count": 237,
     "metadata": {},
     "output_type": "execute_result"
    },
    {
     "data": {
      "image/png": "[encoded data removed]",
      "text/plain": [
       "<Figure size 720x720 with 2 Axes>"
      ]
     },
     "metadata": {},
     "output_type": "display_data"
    }
   ],
   "source": [
    "sbn.set(\n",
    "    rc={\n",
    "        'figure.figsize' : (10,10)\n",
    "    }\n",
    ")\n",
    "sbn.heatmap(\n",
    "    df.corr(),\n",
    "    annot=True\n",
    ")"
   ]
  },
  {
   "cell_type": "code",
   "execution_count": 238,
   "metadata": {},
   "outputs": [
    {
     "data": {
      "text/plain": [
       "<AxesSubplot:>"
      ]
     },
     "execution_count": 238,
     "metadata": {},
     "output_type": "execute_result"
    },
    {
     "data": {
      "image/png": "[encoded data removed]",
      "text/plain": [
       "<Figure size 720x720 with 2 Axes>"
      ]
     },
     "metadata": {},
     "output_type": "display_data"
    }
   ],
   "source": [
    "sbn.heatmap(\n",
    "    df[df.Valoración.notnull()].corr(),\n",
    "    annot=True\n",
    ")"
   ]
  },
  {
   "cell_type": "code",
   "execution_count": 239,
   "metadata": {},
   "outputs": [
    {
     "data": {
      "text/html": [
       "<div>\n",
       "<style scoped>\n",
       "    .dataframe tbody tr th:only-of-type {\n",
       "        vertical-align: middle;\n",
       "    }\n",
       "\n",
       "    .dataframe tbody tr th {\n",
       "        vertical-align: top;\n",
       "    }\n",
       "\n",
       "    .dataframe thead th {\n",
       "        text-align: right;\n",
       "    }\n",
       "</style>\n",
       "<table border=\"1\" class=\"dataframe\">\n",
       "  <thead>\n",
       "    <tr style=\"text-align: right;\">\n",
       "      <th></th>\n",
       "      <th>App</th>\n",
       "      <th>Categoría</th>\n",
       "      <th>Valoración</th>\n",
       "      <th>Comentarios</th>\n",
       "      <th>Tamaño(M)</th>\n",
       "      <th>Descargas</th>\n",
       "      <th>Tipo</th>\n",
       "      <th>Precio</th>\n",
       "      <th>Clasificación</th>\n",
       "      <th>App_processed</th>\n",
       "      <th>Categoría_processed</th>\n",
       "      <th>Tipo_processed</th>\n",
       "      <th>Clasificación_processed</th>\n",
       "    </tr>\n",
       "  </thead>\n",
       "  <tbody>\n",
       "    <tr>\n",
       "      <th>0</th>\n",
       "      <td>AJ Styles HD Wallpapers</td>\n",
       "      <td>ARTE Y DISEÑO</td>\n",
       "      <td>4.8</td>\n",
       "      <td>48.0</td>\n",
       "      <td>25.0</td>\n",
       "      <td>5000.0</td>\n",
       "      <td>Gratis</td>\n",
       "      <td>0.0</td>\n",
       "      <td>Todo público</td>\n",
       "      <td>263</td>\n",
       "      <td>0</td>\n",
       "      <td>0</td>\n",
       "      <td>5</td>\n",
       "    </tr>\n",
       "    <tr>\n",
       "      <th>1</th>\n",
       "      <td>I Creative Idea</td>\n",
       "      <td>ARTE Y DISEÑO</td>\n",
       "      <td>4.7</td>\n",
       "      <td>353.0</td>\n",
       "      <td>4.2</td>\n",
       "      <td>10000.0</td>\n",
       "      <td>Gratis</td>\n",
       "      <td>0.0</td>\n",
       "      <td>Adolescentes</td>\n",
       "      <td>4761</td>\n",
       "      <td>0</td>\n",
       "      <td>0</td>\n",
       "      <td>0</td>\n",
       "    </tr>\n",
       "    <tr>\n",
       "      <th>2</th>\n",
       "      <td>Infinite Painter</td>\n",
       "      <td>ARTE Y DISEÑO</td>\n",
       "      <td>4.1</td>\n",
       "      <td>36815.0</td>\n",
       "      <td>29.0</td>\n",
       "      <td>1000000.0</td>\n",
       "      <td>Gratis</td>\n",
       "      <td>0.0</td>\n",
       "      <td>Todo público</td>\n",
       "      <td>4824</td>\n",
       "      <td>0</td>\n",
       "      <td>0</td>\n",
       "      <td>5</td>\n",
       "    </tr>\n",
       "    <tr>\n",
       "      <th>3</th>\n",
       "      <td>FlipaClip - Cartoon animation</td>\n",
       "      <td>ARTE Y DISEÑO</td>\n",
       "      <td>4.3</td>\n",
       "      <td>194216.0</td>\n",
       "      <td>39.0</td>\n",
       "      <td>5000000.0</td>\n",
       "      <td>Gratis</td>\n",
       "      <td>0.0</td>\n",
       "      <td>Todo público</td>\n",
       "      <td>4114</td>\n",
       "      <td>0</td>\n",
       "      <td>0</td>\n",
       "      <td>5</td>\n",
       "    </tr>\n",
       "    <tr>\n",
       "      <th>4</th>\n",
       "      <td>Text on Photo - Fonteee</td>\n",
       "      <td>ARTE Y DISEÑO</td>\n",
       "      <td>4.4</td>\n",
       "      <td>13880.0</td>\n",
       "      <td>28.0</td>\n",
       "      <td>1000000.0</td>\n",
       "      <td>Gratis</td>\n",
       "      <td>0.0</td>\n",
       "      <td>Todo público</td>\n",
       "      <td>7358</td>\n",
       "      <td>0</td>\n",
       "      <td>0</td>\n",
       "      <td>5</td>\n",
       "    </tr>\n",
       "  </tbody>\n",
       "</table>\n",
       "</div>"
      ],
      "text/plain": [
       "                             App      Categoría  Valoración  Comentarios  \\\n",
       "0        AJ Styles HD Wallpapers  ARTE Y DISEÑO         4.8         48.0   \n",
       "1                I Creative Idea  ARTE Y DISEÑO         4.7        353.0   \n",
       "2               Infinite Painter  ARTE Y DISEÑO         4.1      36815.0   \n",
       "3  FlipaClip - Cartoon animation  ARTE Y DISEÑO         4.3     194216.0   \n",
       "4        Text on Photo - Fonteee  ARTE Y DISEÑO         4.4      13880.0   \n",
       "\n",
       "   Tamaño(M)  Descargas    Tipo  Precio Clasificación  App_processed  \\\n",
       "0       25.0     5000.0  Gratis     0.0  Todo público            263   \n",
       "1        4.2    10000.0  Gratis     0.0  Adolescentes           4761   \n",
       "2       29.0  1000000.0  Gratis     0.0  Todo público           4824   \n",
       "3       39.0  5000000.0  Gratis     0.0  Todo público           4114   \n",
       "4       28.0  1000000.0  Gratis     0.0  Todo público           7358   \n",
       "\n",
       "   Categoría_processed  Tipo_processed  Clasificación_processed  \n",
       "0                    0               0                        5  \n",
       "1                    0               0                        0  \n",
       "2                    0               0                        5  \n",
       "3                    0               0                        5  \n",
       "4                    0               0                        5  "
      ]
     },
     "execution_count": 239,
     "metadata": {},
     "output_type": "execute_result"
    }
   ],
   "source": [
    "df.head()"
   ]
  },
  {
   "cell_type": "code",
   "execution_count": 240,
   "metadata": {},
   "outputs": [
    {
     "name": "stdout",
     "output_type": "stream",
     "text": [
      "Todo público          7415\n",
      "Adolescentes           986\n",
      "Mayores de 17 años     405\n",
      "Mayores de 10 años     331\n",
      "Sólo adultos             2\n",
      "Sin clasificación        2\n",
      "Name: Clasificación, dtype: int64\n",
      "5    7415\n",
      "0     986\n",
      "2     405\n",
      "1     331\n",
      "3       2\n",
      "4       2\n",
      "Name: Clasificación_processed, dtype: int64\n"
     ]
    }
   ],
   "source": [
    "print(df.Clasificación.value_counts())\n",
    "print(df.Clasificación_processed.value_counts())\n"
   ]
  },
  {
   "cell_type": "markdown",
   "metadata": {},
   "source": [
    "# Implementación de Modelos de ML"
   ]
  },
  {
   "cell_type": "markdown",
   "metadata": {},
   "source": [
    "### Modelos de clasificación"
   ]
  },
  {
   "cell_type": "code",
   "execution_count": 241,
   "metadata": {},
   "outputs": [
    {
     "data": {
      "text/html": [
       "<div>\n",
       "<style scoped>\n",
       "    .dataframe tbody tr th:only-of-type {\n",
       "        vertical-align: middle;\n",
       "    }\n",
       "\n",
       "    .dataframe tbody tr th {\n",
       "        vertical-align: top;\n",
       "    }\n",
       "\n",
       "    .dataframe thead th {\n",
       "        text-align: right;\n",
       "    }\n",
       "</style>\n",
       "<table border=\"1\" class=\"dataframe\">\n",
       "  <thead>\n",
       "    <tr style=\"text-align: right;\">\n",
       "      <th></th>\n",
       "      <th>Valoración</th>\n",
       "      <th>Comentarios</th>\n",
       "      <th>Tamaño(M)</th>\n",
       "      <th>Descargas</th>\n",
       "      <th>Precio</th>\n",
       "      <th>App_processed</th>\n",
       "      <th>Categoría_processed</th>\n",
       "      <th>Tipo_processed</th>\n",
       "      <th>Clasificación_processed</th>\n",
       "    </tr>\n",
       "  </thead>\n",
       "  <tbody>\n",
       "    <tr>\n",
       "      <th>0</th>\n",
       "      <td>4.8</td>\n",
       "      <td>48.0</td>\n",
       "      <td>25.0</td>\n",
       "      <td>5000.0</td>\n",
       "      <td>0.0</td>\n",
       "      <td>263</td>\n",
       "      <td>0</td>\n",
       "      <td>0</td>\n",
       "      <td>5</td>\n",
       "    </tr>\n",
       "    <tr>\n",
       "      <th>1</th>\n",
       "      <td>4.7</td>\n",
       "      <td>353.0</td>\n",
       "      <td>4.2</td>\n",
       "      <td>10000.0</td>\n",
       "      <td>0.0</td>\n",
       "      <td>4761</td>\n",
       "      <td>0</td>\n",
       "      <td>0</td>\n",
       "      <td>0</td>\n",
       "    </tr>\n",
       "    <tr>\n",
       "      <th>2</th>\n",
       "      <td>4.1</td>\n",
       "      <td>36815.0</td>\n",
       "      <td>29.0</td>\n",
       "      <td>1000000.0</td>\n",
       "      <td>0.0</td>\n",
       "      <td>4824</td>\n",
       "      <td>0</td>\n",
       "      <td>0</td>\n",
       "      <td>5</td>\n",
       "    </tr>\n",
       "    <tr>\n",
       "      <th>3</th>\n",
       "      <td>4.3</td>\n",
       "      <td>194216.0</td>\n",
       "      <td>39.0</td>\n",
       "      <td>5000000.0</td>\n",
       "      <td>0.0</td>\n",
       "      <td>4114</td>\n",
       "      <td>0</td>\n",
       "      <td>0</td>\n",
       "      <td>5</td>\n",
       "    </tr>\n",
       "    <tr>\n",
       "      <th>4</th>\n",
       "      <td>4.4</td>\n",
       "      <td>13880.0</td>\n",
       "      <td>28.0</td>\n",
       "      <td>1000000.0</td>\n",
       "      <td>0.0</td>\n",
       "      <td>7358</td>\n",
       "      <td>0</td>\n",
       "      <td>0</td>\n",
       "      <td>5</td>\n",
       "    </tr>\n",
       "  </tbody>\n",
       "</table>\n",
       "</div>"
      ],
      "text/plain": [
       "   Valoración  Comentarios  Tamaño(M)  Descargas  Precio  App_processed  \\\n",
       "0         4.8         48.0       25.0     5000.0     0.0            263   \n",
       "1         4.7        353.0        4.2    10000.0     0.0           4761   \n",
       "2         4.1      36815.0       29.0  1000000.0     0.0           4824   \n",
       "3         4.3     194216.0       39.0  5000000.0     0.0           4114   \n",
       "4         4.4      13880.0       28.0  1000000.0     0.0           7358   \n",
       "\n",
       "   Categoría_processed  Tipo_processed  Clasificación_processed  \n",
       "0                    0               0                        5  \n",
       "1                    0               0                        0  \n",
       "2                    0               0                        5  \n",
       "3                    0               0                        5  \n",
       "4                    0               0                        5  "
      ]
     },
     "execution_count": 241,
     "metadata": {},
     "output_type": "execute_result"
    }
   ],
   "source": [
    "df.drop(labels=['App', 'Categoría', 'Tipo', 'Clasificación'], axis=1, inplace=True)\n",
    "df = df[df.Valoración.notnull()]\n",
    "df.head()"
   ]
  },
  {
   "cell_type": "code",
   "execution_count": 242,
   "metadata": {},
   "outputs": [
    {
     "name": "stdout",
     "output_type": "stream",
     "text": [
      "Los datos para entrenamiento son : (6180, 9)\n",
      "Los datos para prueba son : (1545, 9)\n",
      "Los eti para entrenamiento son : (6180,)\n",
      "Los eti para prueba son : (1545,)\n"
     ]
    }
   ],
   "source": [
    "#Hacemos el split de la data\n",
    "train_data, test_data, train_label, test_label = train_test_split(\n",
    "    df,\n",
    "    df.Tipo_processed,\n",
    "    test_size=0.20,\n",
    "    random_state=2\n",
    ")\n",
    "\n",
    "print('Los datos para entrenamiento son :',train_data.shape)\n",
    "print('Los datos para prueba son :',test_data.shape)\n",
    "print('Los eti para entrenamiento son :',train_label.shape)\n",
    "print('Los eti para prueba son :',test_label.shape)"
   ]
  },
  {
   "cell_type": "code",
   "execution_count": 243,
   "metadata": {},
   "outputs": [
    {
     "name": "stdout",
     "output_type": "stream",
     "text": [
      "El modelo KNeighborsClassifier tiene como resultado 92.17%\n",
      "El modelo LogisticRegression tiene como resultado 92.36%\n",
      "El modelo RandomForestClassifier tiene como resultado 100.00%\n",
      "El modelo SVC tiene como resultado 92.36%\n",
      "El modelo DecisionTreeClassifier tiene como resultado 100.00%\n"
     ]
    }
   ],
   "source": [
    "modelos_clasificacion = []\n",
    "resultados_clasificacion = []\n",
    "modelos_clasificacion.append(('KNeighborsClassifier', KNeighborsClassifier()))\n",
    "modelos_clasificacion.append(('LogisticRegression', LogisticRegression()))\n",
    "modelos_clasificacion.append(('RandomForestClassifier', RandomForestClassifier()))\n",
    "modelos_clasificacion.append(('SVC', SVC()))\n",
    "modelos_clasificacion.append(('DecisionTreeClassifier', DecisionTreeClassifier()))\n",
    "\n",
    "for nombre, modelo in modelos_clasificacion:\n",
    "    modelo.fit(train_data, train_label)\n",
    "    resultado = modelo.score(test_data, test_label)\n",
    "    resultados_clasificacion.append(resultado*100)\n",
    "    print('El modelo {} tiene como resultado {:.2f}%'.format(\n",
    "        nombre,\n",
    "        resultado*100\n",
    "    ))"
   ]
  },
  {
   "cell_type": "code",
   "execution_count": 244,
   "metadata": {},
   "outputs": [
    {
     "ename": "TypeError",
     "evalue": "score() missing 1 required positional argument: 'y'",
     "output_type": "error",
     "traceback": [
      "\u001b[1;31m---------------------------------------------------------------------------\u001b[0m",
      "\u001b[1;31mTypeError\u001b[0m                                 Traceback (most recent call last)",
      "\u001b[1;32m<ipython-input-244-6f0f6e618565>\u001b[0m in \u001b[0;36m<module>\u001b[1;34m\u001b[0m\n\u001b[0;32m      1\u001b[0m \u001b[1;31m# Aplicación del modelo KNeighborsClassifier\u001b[0m\u001b[1;33m\u001b[0m\u001b[1;33m\u001b[0m\u001b[1;33m\u001b[0m\u001b[0m\n\u001b[0;32m      2\u001b[0m \u001b[0mKNeighborsClassifier\u001b[0m\u001b[1;33m(\u001b[0m\u001b[1;33m)\u001b[0m\u001b[1;33m.\u001b[0m\u001b[0mfit\u001b[0m\u001b[1;33m(\u001b[0m\u001b[0mtrain_data\u001b[0m\u001b[1;33m,\u001b[0m \u001b[0mtrain_label\u001b[0m\u001b[1;33m)\u001b[0m\u001b[1;33m\u001b[0m\u001b[1;33m\u001b[0m\u001b[0m\n\u001b[1;32m----> 3\u001b[1;33m \u001b[0mKNeighborsClassifier\u001b[0m\u001b[1;33m.\u001b[0m\u001b[0mscore\u001b[0m\u001b[1;33m(\u001b[0m\u001b[0mtest_data\u001b[0m\u001b[1;33m,\u001b[0m \u001b[0mtest_label\u001b[0m\u001b[1;33m)\u001b[0m\u001b[1;33m\u001b[0m\u001b[1;33m\u001b[0m\u001b[0m\n\u001b[0m",
      "\u001b[1;31mTypeError\u001b[0m: score() missing 1 required positional argument: 'y'"
     ]
    }
   ],
   "source": [
    "# Aplicación del modelo KNeighborsClassifier\n",
    "KNeighborsClassifier().fit(train_data, train_label)\n",
    "KNeighborsClassifier.score(test_data, test_label)"
   ]
  },
  {
   "cell_type": "code",
   "execution_count": null,
   "metadata": {},
   "outputs": [
    {
     "name": "stdout",
     "output_type": "stream",
     "text": [
      "0    5719\n",
      "1     461\n",
      "Name: Tipo_processed, dtype: int64\n",
      "0    5719\n",
      "1     461\n",
      "dtype: int64\n"
     ]
    }
   ],
   "source": [
    "print(train_label.value_counts())\n",
    "print(pd.Series(modelos_clasificacion[2][1].predict(train_data)).value_counts())"
   ]
  },
  {
   "cell_type": "code",
   "execution_count": null,
   "metadata": {},
   "outputs": [
    {
     "name": "stdout",
     "output_type": "stream",
     "text": [
      "[[5719    0]\n",
      " [   0  461]]\n",
      "[5719    0    0  461]\n",
      "[[ 461    0]\n",
      " [   0 5719]]\n"
     ]
    },
    {
     "data": {
      "text/plain": [
       "Text(66.5, 0.5, 'Actual')"
      ]
     },
     "execution_count": 219,
     "metadata": {},
     "output_type": "execute_result"
    },
    {
     "data": {
      "image/png": "[encoded data removed]",
      "text/plain": [
       "<Figure size 720x720 with 2 Axes>"
      ]
     },
     "metadata": {},
     "output_type": "display_data"
    }
   ],
   "source": [
    "predict_data = modelos_clasificacion[2][1].predict(train_data)\n",
    "confusion = confusion_matrix(train_label, predict_data)\n",
    "print(confusion)\n",
    "print(confusion.ravel())\n",
    "vn, fp, fn, vp = confusion.ravel()\n",
    "matriz = np.array( [[vp, fn], [fp, vn]])\n",
    "print(matriz)\n",
    "\n",
    "grafico = plt.subplot()\n",
    "\n",
    "sbn.heatmap(matriz, annot=True, ax=grafico, fmt='g')\n",
    "grafico.xaxis.set_ticklabels(['Gratis', 'No'])\n",
    "grafico.yaxis.set_ticklabels(['Pago', 'No'])\n",
    "grafico.set_xlabel('Prediccion')\n",
    "grafico.set_ylabel('Actual')"
   ]
  }
 ],
 "metadata": {
  "interpreter": {
   "hash": "b3ba2566441a7c06988d0923437866b63cedc61552a5af99d1f4fb67d367b25f"
  },
  "kernelspec": {
   "display_name": "Python 3.8.8 64-bit ('base': conda)",
   "language": "python",
   "name": "python3"
  },
  "language_info": {
   "codemirror_mode": {
    "name": "ipython",
    "version": 3
   },
   "file_extension": ".py",
   "mimetype": "text/x-python",
   "name": "python",
   "nbconvert_exporter": "python",
   "pygments_lexer": "ipython3",
   "version": "3.8.8"
  },
  "orig_nbformat": 4
 },
 "nbformat": 4,
 "nbformat_minor": 2
}
