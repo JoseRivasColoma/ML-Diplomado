{
 "cells": [
  {
   "cell_type": "markdown",
   "metadata": {
    "id": "tdaohCeoe1T_"
   },
   "source": [
    "#Evaluación Final - Diplomado Data Science Duoc UC\n",
    "\n",
    "# Módulo: Machine Learning\n",
    "\n",
    "A continuación, aplicarás lo aprendido con el uso de las librerías de Python desde fuentes de datos proporcionadas por el relator.\n",
    "\n",
    "**Recuerda almacenar una copia de este Jupyter Notebook en tu Google Drive para poder ejecutar los bloques de código.**\n",
    "\n",
    "\n",
    "---\n",
    "Proponga al menos 6 preguntas que podamos responder con un modelo de Machine Learning, que permita hacer una proyección o una clasificación de acuerdo al aspecto elegido de los datos.\n",
    "\n",
    "Detecte correlaciones relevantes que permitan hacer más óptimo el modelo de ML en combinación con los algoritmos e hiperparámetros adecuados de acuerdo a la solución planteada.\n",
    "\n",
    "Elabore un informe en Jupyter Notebook haciendo uso de cuadros de texto y cuadros de código para robustecer la solución planteada.\n",
    "\n",
    "\n",
    "Datos: https://drive.google.com/file/d/1APpywYHEexQEGElHT5CJUoz9RgWdohqh/view?usp=sharing\n",
    "\n",
    "\n",
    "---\n"
   ]
  },
  {
   "cell_type": "markdown",
   "metadata": {
    "id": "Vk3pLh0AK1er"
   },
   "source": [
    "\n",
    "**Recuerda hacer uso de todo lo aprendido! mientras más cosas descubras de los datos, más robusto será tu análisis.** "
   ]
  },
  {
   "cell_type": "markdown",
   "metadata": {
    "id": "reGN707Ty1C7"
   },
   "source": [
    "# Análisis Exploratorio de Datos"
   ]
  },
  {
   "cell_type": "markdown",
   "metadata": {},
   "source": [
    "#### Importamos librerías escenciales"
   ]
  },
  {
   "cell_type": "code",
   "execution_count": 153,
   "metadata": {},
   "outputs": [],
   "source": [
    "import pandas as pd\n",
    "import numpy as np\n",
    "import seaborn as sbn\n",
    "import matplotlib.pyplot as plt"
   ]
  },
  {
   "cell_type": "markdown",
   "metadata": {},
   "source": [
    "#### Importamos los modelos de Clasificación"
   ]
  },
  {
   "cell_type": "code",
   "execution_count": 154,
   "metadata": {},
   "outputs": [],
   "source": [
    "from sklearn.neighbors import KNeighborsClassifier\n",
    "from sklearn.linear_model import LogisticRegression\n",
    "from sklearn.ensemble import RandomForestClassifier\n",
    "from sklearn.svm import SVC\n",
    "from sklearn.tree import DecisionTreeClassifier"
   ]
  },
  {
   "cell_type": "markdown",
   "metadata": {},
   "source": [
    "#### Importamos los modelos de Regresión"
   ]
  },
  {
   "cell_type": "code",
   "execution_count": 155,
   "metadata": {},
   "outputs": [],
   "source": [
    "from sklearn.neighbors import KNeighborsRegressor\n",
    "from sklearn.linear_model import LinearRegression\n",
    "from sklearn.ensemble import RandomForestRegressor\n",
    "from sklearn.svm import SVR\n",
    "from sklearn.tree import DecisionTreeRegressor"
   ]
  },
  {
   "cell_type": "markdown",
   "metadata": {},
   "source": [
    "#### Importamos librerias necesarias para trabajar el modelo"
   ]
  },
  {
   "cell_type": "code",
   "execution_count": 156,
   "metadata": {},
   "outputs": [],
   "source": [
    "from sklearn.preprocessing import LabelEncoder\n",
    "from sklearn.model_selection import RepeatedKFold, train_test_split\n",
    "from sklearn import metrics\n",
    "from sklearn.metrics import confusion_matrix"
   ]
  },
  {
   "cell_type": "markdown",
   "metadata": {},
   "source": [
    "#### Lectura inicial del dataset    "
   ]
  },
  {
   "cell_type": "code",
   "execution_count": 157,
   "metadata": {},
   "outputs": [
    {
     "data": {
      "text/html": [
       "<div>\n",
       "<style scoped>\n",
       "    .dataframe tbody tr th:only-of-type {\n",
       "        vertical-align: middle;\n",
       "    }\n",
       "\n",
       "    .dataframe tbody tr th {\n",
       "        vertical-align: top;\n",
       "    }\n",
       "\n",
       "    .dataframe thead th {\n",
       "        text-align: right;\n",
       "    }\n",
       "</style>\n",
       "<table border=\"1\" class=\"dataframe\">\n",
       "  <thead>\n",
       "    <tr style=\"text-align: right;\">\n",
       "      <th></th>\n",
       "      <th>App</th>\n",
       "      <th>Categoría</th>\n",
       "      <th>Valoración</th>\n",
       "      <th>Comentarios</th>\n",
       "      <th>Tamaño(M)</th>\n",
       "      <th>Descargas</th>\n",
       "      <th>Tipo</th>\n",
       "      <th>Precio</th>\n",
       "      <th>Clasificación</th>\n",
       "    </tr>\n",
       "  </thead>\n",
       "  <tbody>\n",
       "    <tr>\n",
       "      <th>0</th>\n",
       "      <td>AJ Styles HD Wallpapers</td>\n",
       "      <td>ARTE Y DISEÑO</td>\n",
       "      <td>4.8</td>\n",
       "      <td>48</td>\n",
       "      <td>25.0</td>\n",
       "      <td>5,000 aprox.</td>\n",
       "      <td>Gratis</td>\n",
       "      <td>0.0</td>\n",
       "      <td>Todo público</td>\n",
       "    </tr>\n",
       "    <tr>\n",
       "      <th>1</th>\n",
       "      <td>I Creative Idea</td>\n",
       "      <td>ARTE Y DISEÑO</td>\n",
       "      <td>4.7</td>\n",
       "      <td>353</td>\n",
       "      <td>4.2</td>\n",
       "      <td>10,000 aprox.</td>\n",
       "      <td>Gratis</td>\n",
       "      <td>0.0</td>\n",
       "      <td>Adolescentes</td>\n",
       "    </tr>\n",
       "    <tr>\n",
       "      <th>2</th>\n",
       "      <td>Infinite Painter</td>\n",
       "      <td>ARTE Y DISEÑO</td>\n",
       "      <td>4.1</td>\n",
       "      <td>36815</td>\n",
       "      <td>29.0</td>\n",
       "      <td>1,000,000 aprox.</td>\n",
       "      <td>Gratis</td>\n",
       "      <td>0.0</td>\n",
       "      <td>Todo público</td>\n",
       "    </tr>\n",
       "    <tr>\n",
       "      <th>3</th>\n",
       "      <td>FlipaClip - Cartoon animation</td>\n",
       "      <td>ARTE Y DISEÑO</td>\n",
       "      <td>4.3</td>\n",
       "      <td>194216</td>\n",
       "      <td>39.0</td>\n",
       "      <td>5,000,000 aprox.</td>\n",
       "      <td>Gratis</td>\n",
       "      <td>0.0</td>\n",
       "      <td>Todo público</td>\n",
       "    </tr>\n",
       "    <tr>\n",
       "      <th>4</th>\n",
       "      <td>Text on Photo - Fonteee</td>\n",
       "      <td>ARTE Y DISEÑO</td>\n",
       "      <td>4.4</td>\n",
       "      <td>13880</td>\n",
       "      <td>28.0</td>\n",
       "      <td>1,000,000 aprox.</td>\n",
       "      <td>Gratis</td>\n",
       "      <td>0.0</td>\n",
       "      <td>Todo público</td>\n",
       "    </tr>\n",
       "  </tbody>\n",
       "</table>\n",
       "</div>"
      ],
      "text/plain": [
       "                             App      Categoría  Valoración  Comentarios  \\\n",
       "0        AJ Styles HD Wallpapers  ARTE Y DISEÑO         4.8           48   \n",
       "1                I Creative Idea  ARTE Y DISEÑO         4.7          353   \n",
       "2               Infinite Painter  ARTE Y DISEÑO         4.1        36815   \n",
       "3  FlipaClip - Cartoon animation  ARTE Y DISEÑO         4.3       194216   \n",
       "4        Text on Photo - Fonteee  ARTE Y DISEÑO         4.4        13880   \n",
       "\n",
       "   Tamaño(M)         Descargas    Tipo  Precio Clasificación  \n",
       "0       25.0      5,000 aprox.  Gratis     0.0  Todo público  \n",
       "1        4.2     10,000 aprox.  Gratis     0.0  Adolescentes  \n",
       "2       29.0  1,000,000 aprox.  Gratis     0.0  Todo público  \n",
       "3       39.0  5,000,000 aprox.  Gratis     0.0  Todo público  \n",
       "4       28.0  1,000,000 aprox.  Gratis     0.0  Todo público  "
      ]
     },
     "execution_count": 157,
     "metadata": {},
     "output_type": "execute_result"
    }
   ],
   "source": [
    "df = pd.read_excel('PlayStore.xlsx') #Hacemos lectura del dataset\n",
    "df.head()"
   ]
  },
  {
   "cell_type": "code",
   "execution_count": 158,
   "metadata": {},
   "outputs": [
    {
     "name": "stdout",
     "output_type": "stream",
     "text": [
      "(9141, 9)\n",
      "<class 'pandas.core.frame.DataFrame'>\n",
      "RangeIndex: 9141 entries, 0 to 9140\n",
      "Data columns (total 9 columns):\n",
      " #   Column         Non-Null Count  Dtype  \n",
      "---  ------         --------------  -----  \n",
      " 0   App            9141 non-null   object \n",
      " 1   Categoría      9141 non-null   object \n",
      " 2   Valoración     7725 non-null   float64\n",
      " 3   Comentarios    9141 non-null   int64  \n",
      " 4   Tamaño(M)      9141 non-null   float64\n",
      " 5   Descargas      9141 non-null   object \n",
      " 6   Tipo           9141 non-null   object \n",
      " 7   Precio         9141 non-null   float64\n",
      " 8   Clasificación  9141 non-null   object \n",
      "dtypes: float64(3), int64(1), object(5)\n",
      "memory usage: 642.9+ KB\n",
      "None\n"
     ]
    }
   ],
   "source": [
    "# Análisis preliminar del modelo\n",
    "print(df.shape)\n",
    "print(df.info())"
   ]
  },
  {
   "cell_type": "markdown",
   "metadata": {},
   "source": [
    "#### Como podemos apreciar, el dataset consta de 9 columnas y 9141 filas\n",
    "#### Todos los valores, a excepción de la valoración están 100% integros (1416 valores perdidos)\n",
    "#### La columna 'Descargas' debe parsearse a un valor numérico"
   ]
  },
  {
   "cell_type": "code",
   "execution_count": 159,
   "metadata": {},
   "outputs": [
    {
     "name": "stdout",
     "output_type": "stream",
     "text": [
      "<class 'pandas.core.frame.DataFrame'>\n",
      "RangeIndex: 9141 entries, 0 to 9140\n",
      "Data columns (total 9 columns):\n",
      " #   Column         Non-Null Count  Dtype  \n",
      "---  ------         --------------  -----  \n",
      " 0   App            9141 non-null   object \n",
      " 1   Categoría      9141 non-null   object \n",
      " 2   Valoración     7725 non-null   float64\n",
      " 3   Comentarios    9141 non-null   float64\n",
      " 4   Tamaño(M)      9141 non-null   float64\n",
      " 5   Descargas      9141 non-null   float64\n",
      " 6   Tipo           9141 non-null   object \n",
      " 7   Precio         9141 non-null   float64\n",
      " 8   Clasificación  9141 non-null   object \n",
      "dtypes: float64(5), object(4)\n",
      "memory usage: 642.9+ KB\n"
     ]
    }
   ],
   "source": [
    "df.Descargas = df.Descargas.apply(lambda x: x.replace(' aprox.', ''))\n",
    "df.Descargas = df.Descargas.apply(lambda x: x.replace(',', ''))\n",
    "df.Descargas = df.Descargas.astype(np.float64)\n",
    "df.Comentarios = df.Comentarios.astype(np.float64)\n",
    "df.info()"
   ]
  },
  {
   "cell_type": "code",
   "execution_count": 160,
   "metadata": {},
   "outputs": [
    {
     "data": {
      "text/html": [
       "<div>\n",
       "<style scoped>\n",
       "    .dataframe tbody tr th:only-of-type {\n",
       "        vertical-align: middle;\n",
       "    }\n",
       "\n",
       "    .dataframe tbody tr th {\n",
       "        vertical-align: top;\n",
       "    }\n",
       "\n",
       "    .dataframe thead th {\n",
       "        text-align: right;\n",
       "    }\n",
       "</style>\n",
       "<table border=\"1\" class=\"dataframe\">\n",
       "  <thead>\n",
       "    <tr style=\"text-align: right;\">\n",
       "      <th></th>\n",
       "      <th>Valoración</th>\n",
       "      <th>Tamaño(M)</th>\n",
       "      <th>Precio</th>\n",
       "    </tr>\n",
       "  </thead>\n",
       "  <tbody>\n",
       "    <tr>\n",
       "      <th>count</th>\n",
       "      <td>7725.000000</td>\n",
       "      <td>9141.000000</td>\n",
       "      <td>9141.000000</td>\n",
       "    </tr>\n",
       "    <tr>\n",
       "      <th>mean</th>\n",
       "      <td>4.173735</td>\n",
       "      <td>37.047391</td>\n",
       "      <td>1.184885</td>\n",
       "    </tr>\n",
       "    <tr>\n",
       "      <th>std</th>\n",
       "      <td>0.544548</td>\n",
       "      <td>98.893732</td>\n",
       "      <td>17.359533</td>\n",
       "    </tr>\n",
       "    <tr>\n",
       "      <th>min</th>\n",
       "      <td>1.000000</td>\n",
       "      <td>1.000000</td>\n",
       "      <td>0.000000</td>\n",
       "    </tr>\n",
       "    <tr>\n",
       "      <th>25%</th>\n",
       "      <td>4.000000</td>\n",
       "      <td>5.600000</td>\n",
       "      <td>0.000000</td>\n",
       "    </tr>\n",
       "    <tr>\n",
       "      <th>50%</th>\n",
       "      <td>4.300000</td>\n",
       "      <td>15.000000</td>\n",
       "      <td>0.000000</td>\n",
       "    </tr>\n",
       "    <tr>\n",
       "      <th>75%</th>\n",
       "      <td>4.500000</td>\n",
       "      <td>34.000000</td>\n",
       "      <td>0.000000</td>\n",
       "    </tr>\n",
       "    <tr>\n",
       "      <th>max</th>\n",
       "      <td>5.000000</td>\n",
       "      <td>1020.000000</td>\n",
       "      <td>400.000000</td>\n",
       "    </tr>\n",
       "  </tbody>\n",
       "</table>\n",
       "</div>"
      ],
      "text/plain": [
       "        Valoración    Tamaño(M)       Precio\n",
       "count  7725.000000  9141.000000  9141.000000\n",
       "mean      4.173735    37.047391     1.184885\n",
       "std       0.544548    98.893732    17.359533\n",
       "min       1.000000     1.000000     0.000000\n",
       "25%       4.000000     5.600000     0.000000\n",
       "50%       4.300000    15.000000     0.000000\n",
       "75%       4.500000    34.000000     0.000000\n",
       "max       5.000000  1020.000000   400.000000"
      ]
     },
     "execution_count": 160,
     "metadata": {},
     "output_type": "execute_result"
    }
   ],
   "source": [
    "df[['Valoración', 'Tamaño(M)', 'Precio']].describe()"
   ]
  },
  {
   "cell_type": "code",
   "execution_count": 161,
   "metadata": {},
   "outputs": [
    {
     "data": {
      "text/html": [
       "<div>\n",
       "<style scoped>\n",
       "    .dataframe tbody tr th:only-of-type {\n",
       "        vertical-align: middle;\n",
       "    }\n",
       "\n",
       "    .dataframe tbody tr th {\n",
       "        vertical-align: top;\n",
       "    }\n",
       "\n",
       "    .dataframe thead th {\n",
       "        text-align: right;\n",
       "    }\n",
       "</style>\n",
       "<table border=\"1\" class=\"dataframe\">\n",
       "  <thead>\n",
       "    <tr style=\"text-align: right;\">\n",
       "      <th></th>\n",
       "      <th>Comentarios</th>\n",
       "      <th>Descargas</th>\n",
       "    </tr>\n",
       "  </thead>\n",
       "  <tbody>\n",
       "    <tr>\n",
       "      <th>count</th>\n",
       "      <td>9141</td>\n",
       "      <td>9141</td>\n",
       "    </tr>\n",
       "    <tr>\n",
       "      <th>mean</th>\n",
       "      <td>249157</td>\n",
       "      <td>7117898</td>\n",
       "    </tr>\n",
       "    <tr>\n",
       "      <th>std</th>\n",
       "      <td>1716578</td>\n",
       "      <td>46203441</td>\n",
       "    </tr>\n",
       "    <tr>\n",
       "      <th>min</th>\n",
       "      <td>0</td>\n",
       "      <td>0</td>\n",
       "    </tr>\n",
       "    <tr>\n",
       "      <th>25%</th>\n",
       "      <td>22</td>\n",
       "      <td>1000</td>\n",
       "    </tr>\n",
       "    <tr>\n",
       "      <th>50%</th>\n",
       "      <td>742</td>\n",
       "      <td>100000</td>\n",
       "    </tr>\n",
       "    <tr>\n",
       "      <th>75%</th>\n",
       "      <td>25094</td>\n",
       "      <td>1000000</td>\n",
       "    </tr>\n",
       "    <tr>\n",
       "      <th>max</th>\n",
       "      <td>44893888</td>\n",
       "      <td>1000000000</td>\n",
       "    </tr>\n",
       "  </tbody>\n",
       "</table>\n",
       "</div>"
      ],
      "text/plain": [
       "       Comentarios   Descargas\n",
       "count         9141        9141\n",
       "mean        249157     7117898\n",
       "std        1716578    46203441\n",
       "min              0           0\n",
       "25%             22        1000\n",
       "50%            742      100000\n",
       "75%          25094     1000000\n",
       "max       44893888  1000000000"
      ]
     },
     "execution_count": 161,
     "metadata": {},
     "output_type": "execute_result"
    }
   ],
   "source": [
    "df[['Comentarios', 'Descargas']].describe().astype(np.int64)"
   ]
  },
  {
   "cell_type": "markdown",
   "metadata": {},
   "source": [
    "#### Analizamos posibles variables explicativas"
   ]
  },
  {
   "cell_type": "code",
   "execution_count": 162,
   "metadata": {},
   "outputs": [
    {
     "data": {
      "text/plain": [
       "Gratis    8417\n",
       "Pago       724\n",
       "Name: Tipo, dtype: int64"
      ]
     },
     "execution_count": 162,
     "metadata": {},
     "output_type": "execute_result"
    }
   ],
   "source": [
    "df.Tipo.value_counts()"
   ]
  },
  {
   "cell_type": "code",
   "execution_count": 163,
   "metadata": {},
   "outputs": [
    {
     "data": {
      "text/plain": [
       "ROBLOX                                         9\n",
       "Candy Crush Saga                               7\n",
       "8 Ball Pool                                    7\n",
       "Nick                                           6\n",
       "Zombie Catchers                                6\n",
       "                                              ..\n",
       "BM Pharmacy                                    1\n",
       "BM SPM Practice                                1\n",
       "Klix.ba                                        1\n",
       "Square InPic - Photo Editor & Collage Maker    1\n",
       "Ever After High™ Charmed Style                 1\n",
       "Name: App, Length: 8430, dtype: int64"
      ]
     },
     "execution_count": 163,
     "metadata": {},
     "output_type": "execute_result"
    }
   ],
   "source": [
    "df.App.value_counts()"
   ]
  },
  {
   "cell_type": "code",
   "execution_count": 164,
   "metadata": {},
   "outputs": [
    {
     "data": {
      "text/plain": [
       "Todo público          7415\n",
       "Adolescentes           986\n",
       "Mayores de 17 años     405\n",
       "Mayores de 10 años     331\n",
       "Sin clasificación        2\n",
       "Sólo adultos             2\n",
       "Name: Clasificación, dtype: int64"
      ]
     },
     "execution_count": 164,
     "metadata": {},
     "output_type": "execute_result"
    }
   ],
   "source": [
    "df.Clasificación.value_counts()"
   ]
  },
  {
   "cell_type": "code",
   "execution_count": 165,
   "metadata": {},
   "outputs": [
    {
     "data": {
      "text/plain": [
       "FAMILIA                   1770\n",
       "JUEGO                     1051\n",
       "HERRAMIENTAS               738\n",
       "MÉDICO                     433\n",
       "NEGOCIO                    400\n",
       "PERSONALIZACIÓN            356\n",
       "ESTILO DE VIDA             349\n",
       "DEPORTES                   310\n",
       "FINANCIERAS                306\n",
       "PRODUCTIVIDAD              303\n",
       "SALUD Y BELLEZA            265\n",
       "COMUNICACIÓN               264\n",
       "FOTOGRAFÍA                 253\n",
       "NOTICIAS                   215\n",
       "DATOS                      212\n",
       "SOCIAL                     209\n",
       "COMPRAS                    201\n",
       "LIBROS Y REFRERENCIAS      197\n",
       "VIAJES                     192\n",
       "REPRODUCTORES DE VIDEO     129\n",
       "EDUCACIÓN                  124\n",
       "MAPAS Y NAVEGACIÓN         108\n",
       "ENTRETENIMIENTO            102\n",
       "COMIDA Y BEBIDA            100\n",
       "LIBRERIAS                   82\n",
       "VEHICULOS                   75\n",
       "CASA Y HOGAR                68\n",
       "ARTE Y DISEÑO               65\n",
       "EVENTOS                     57\n",
       "CLIMA                       57\n",
       "PADRES                      53\n",
       "HISTORIETAS                 50\n",
       "BELLEZA                     47\n",
       "Name: Categoría, dtype: int64"
      ]
     },
     "execution_count": 165,
     "metadata": {},
     "output_type": "execute_result"
    }
   ],
   "source": [
    "df.Categoría.value_counts()"
   ]
  },
  {
   "cell_type": "code",
   "execution_count": 166,
   "metadata": {},
   "outputs": [
    {
     "name": "stdout",
     "output_type": "stream",
     "text": [
      "<class 'pandas.core.frame.DataFrame'>\n",
      "Int64Index: 7725 entries, 0 to 9140\n",
      "Data columns (total 9 columns):\n",
      " #   Column         Non-Null Count  Dtype  \n",
      "---  ------         --------------  -----  \n",
      " 0   App            7725 non-null   object \n",
      " 1   Categoría      7725 non-null   object \n",
      " 2   Valoración     7725 non-null   float64\n",
      " 3   Comentarios    7725 non-null   float64\n",
      " 4   Tamaño(M)      7725 non-null   float64\n",
      " 5   Descargas      7725 non-null   float64\n",
      " 6   Tipo           7725 non-null   object \n",
      " 7   Precio         7725 non-null   float64\n",
      " 8   Clasificación  7725 non-null   object \n",
      "dtypes: float64(5), object(4)\n",
      "memory usage: 603.5+ KB\n"
     ]
    }
   ],
   "source": [
    "# Optamos por droppear las valoraciones nulas\n",
    "df = df.dropna(axis=0, how='any')\n",
    "df.info()"
   ]
  },
  {
   "cell_type": "code",
   "execution_count": 167,
   "metadata": {},
   "outputs": [
    {
     "data": {
      "text/html": [
       "<div>\n",
       "<style scoped>\n",
       "    .dataframe tbody tr th:only-of-type {\n",
       "        vertical-align: middle;\n",
       "    }\n",
       "\n",
       "    .dataframe tbody tr th {\n",
       "        vertical-align: top;\n",
       "    }\n",
       "\n",
       "    .dataframe thead th {\n",
       "        text-align: right;\n",
       "    }\n",
       "</style>\n",
       "<table border=\"1\" class=\"dataframe\">\n",
       "  <thead>\n",
       "    <tr style=\"text-align: right;\">\n",
       "      <th></th>\n",
       "      <th>App</th>\n",
       "      <th>Categoría</th>\n",
       "      <th>Valoración</th>\n",
       "      <th>Comentarios</th>\n",
       "      <th>Tamaño(M)</th>\n",
       "      <th>Descargas</th>\n",
       "      <th>Tipo</th>\n",
       "      <th>Precio</th>\n",
       "      <th>Clasificación</th>\n",
       "      <th>App_processed</th>\n",
       "      <th>Categoría_processed</th>\n",
       "      <th>Tipo_processed</th>\n",
       "      <th>Clasificación_processed</th>\n",
       "    </tr>\n",
       "  </thead>\n",
       "  <tbody>\n",
       "    <tr>\n",
       "      <th>0</th>\n",
       "      <td>AJ Styles HD Wallpapers</td>\n",
       "      <td>ARTE Y DISEÑO</td>\n",
       "      <td>4.8</td>\n",
       "      <td>48.0</td>\n",
       "      <td>25.0</td>\n",
       "      <td>5000.0</td>\n",
       "      <td>Gratis</td>\n",
       "      <td>0.0</td>\n",
       "      <td>Todo público</td>\n",
       "      <td>215</td>\n",
       "      <td>0</td>\n",
       "      <td>0</td>\n",
       "      <td>5</td>\n",
       "    </tr>\n",
       "    <tr>\n",
       "      <th>1</th>\n",
       "      <td>I Creative Idea</td>\n",
       "      <td>ARTE Y DISEÑO</td>\n",
       "      <td>4.7</td>\n",
       "      <td>353.0</td>\n",
       "      <td>4.2</td>\n",
       "      <td>10000.0</td>\n",
       "      <td>Gratis</td>\n",
       "      <td>0.0</td>\n",
       "      <td>Adolescentes</td>\n",
       "      <td>3821</td>\n",
       "      <td>0</td>\n",
       "      <td>0</td>\n",
       "      <td>0</td>\n",
       "    </tr>\n",
       "    <tr>\n",
       "      <th>2</th>\n",
       "      <td>Infinite Painter</td>\n",
       "      <td>ARTE Y DISEÑO</td>\n",
       "      <td>4.1</td>\n",
       "      <td>36815.0</td>\n",
       "      <td>29.0</td>\n",
       "      <td>1000000.0</td>\n",
       "      <td>Gratis</td>\n",
       "      <td>0.0</td>\n",
       "      <td>Todo público</td>\n",
       "      <td>3875</td>\n",
       "      <td>0</td>\n",
       "      <td>0</td>\n",
       "      <td>5</td>\n",
       "    </tr>\n",
       "    <tr>\n",
       "      <th>3</th>\n",
       "      <td>FlipaClip - Cartoon animation</td>\n",
       "      <td>ARTE Y DISEÑO</td>\n",
       "      <td>4.3</td>\n",
       "      <td>194216.0</td>\n",
       "      <td>39.0</td>\n",
       "      <td>5000000.0</td>\n",
       "      <td>Gratis</td>\n",
       "      <td>0.0</td>\n",
       "      <td>Todo público</td>\n",
       "      <td>3236</td>\n",
       "      <td>0</td>\n",
       "      <td>0</td>\n",
       "      <td>5</td>\n",
       "    </tr>\n",
       "    <tr>\n",
       "      <th>4</th>\n",
       "      <td>Text on Photo - Fonteee</td>\n",
       "      <td>ARTE Y DISEÑO</td>\n",
       "      <td>4.4</td>\n",
       "      <td>13880.0</td>\n",
       "      <td>28.0</td>\n",
       "      <td>1000000.0</td>\n",
       "      <td>Gratis</td>\n",
       "      <td>0.0</td>\n",
       "      <td>Todo público</td>\n",
       "      <td>6114</td>\n",
       "      <td>0</td>\n",
       "      <td>0</td>\n",
       "      <td>5</td>\n",
       "    </tr>\n",
       "  </tbody>\n",
       "</table>\n",
       "</div>"
      ],
      "text/plain": [
       "                             App      Categoría  Valoración  Comentarios  \\\n",
       "0        AJ Styles HD Wallpapers  ARTE Y DISEÑO         4.8         48.0   \n",
       "1                I Creative Idea  ARTE Y DISEÑO         4.7        353.0   \n",
       "2               Infinite Painter  ARTE Y DISEÑO         4.1      36815.0   \n",
       "3  FlipaClip - Cartoon animation  ARTE Y DISEÑO         4.3     194216.0   \n",
       "4        Text on Photo - Fonteee  ARTE Y DISEÑO         4.4      13880.0   \n",
       "\n",
       "   Tamaño(M)  Descargas    Tipo  Precio Clasificación  App_processed  \\\n",
       "0       25.0     5000.0  Gratis     0.0  Todo público            215   \n",
       "1        4.2    10000.0  Gratis     0.0  Adolescentes           3821   \n",
       "2       29.0  1000000.0  Gratis     0.0  Todo público           3875   \n",
       "3       39.0  5000000.0  Gratis     0.0  Todo público           3236   \n",
       "4       28.0  1000000.0  Gratis     0.0  Todo público           6114   \n",
       "\n",
       "   Categoría_processed  Tipo_processed  Clasificación_processed  \n",
       "0                    0               0                        5  \n",
       "1                    0               0                        0  \n",
       "2                    0               0                        5  \n",
       "3                    0               0                        5  \n",
       "4                    0               0                        5  "
      ]
     },
     "execution_count": 167,
     "metadata": {},
     "output_type": "execute_result"
    }
   ],
   "source": [
    "# Usaremos LabelEncoder para transformar variables categóricas a numéricas\n",
    "for col in ['App', 'Categoría', 'Tipo', 'Clasificación']:\n",
    "    df[col + '_processed'] = LabelEncoder().fit_transform(df[col].astype(str))\n",
    "df.head()"
   ]
  },
  {
   "cell_type": "code",
   "execution_count": 168,
   "metadata": {},
   "outputs": [
    {
     "data": {
      "text/html": [
       "<div>\n",
       "<style scoped>\n",
       "    .dataframe tbody tr th:only-of-type {\n",
       "        vertical-align: middle;\n",
       "    }\n",
       "\n",
       "    .dataframe tbody tr th {\n",
       "        vertical-align: top;\n",
       "    }\n",
       "\n",
       "    .dataframe thead th {\n",
       "        text-align: right;\n",
       "    }\n",
       "</style>\n",
       "<table border=\"1\" class=\"dataframe\">\n",
       "  <thead>\n",
       "    <tr style=\"text-align: right;\">\n",
       "      <th></th>\n",
       "      <th>Valoración</th>\n",
       "      <th>Comentarios</th>\n",
       "      <th>Tamaño(M)</th>\n",
       "      <th>Descargas</th>\n",
       "      <th>Precio</th>\n",
       "      <th>App_processed</th>\n",
       "      <th>Categoría_processed</th>\n",
       "      <th>Tipo_processed</th>\n",
       "      <th>Clasificación_processed</th>\n",
       "    </tr>\n",
       "  </thead>\n",
       "  <tbody>\n",
       "    <tr>\n",
       "      <th>0</th>\n",
       "      <td>4.8</td>\n",
       "      <td>48.0</td>\n",
       "      <td>25.0</td>\n",
       "      <td>5000.0</td>\n",
       "      <td>0.0</td>\n",
       "      <td>215</td>\n",
       "      <td>0</td>\n",
       "      <td>0</td>\n",
       "      <td>5</td>\n",
       "    </tr>\n",
       "    <tr>\n",
       "      <th>1</th>\n",
       "      <td>4.7</td>\n",
       "      <td>353.0</td>\n",
       "      <td>4.2</td>\n",
       "      <td>10000.0</td>\n",
       "      <td>0.0</td>\n",
       "      <td>3821</td>\n",
       "      <td>0</td>\n",
       "      <td>0</td>\n",
       "      <td>0</td>\n",
       "    </tr>\n",
       "    <tr>\n",
       "      <th>2</th>\n",
       "      <td>4.1</td>\n",
       "      <td>36815.0</td>\n",
       "      <td>29.0</td>\n",
       "      <td>1000000.0</td>\n",
       "      <td>0.0</td>\n",
       "      <td>3875</td>\n",
       "      <td>0</td>\n",
       "      <td>0</td>\n",
       "      <td>5</td>\n",
       "    </tr>\n",
       "    <tr>\n",
       "      <th>3</th>\n",
       "      <td>4.3</td>\n",
       "      <td>194216.0</td>\n",
       "      <td>39.0</td>\n",
       "      <td>5000000.0</td>\n",
       "      <td>0.0</td>\n",
       "      <td>3236</td>\n",
       "      <td>0</td>\n",
       "      <td>0</td>\n",
       "      <td>5</td>\n",
       "    </tr>\n",
       "    <tr>\n",
       "      <th>4</th>\n",
       "      <td>4.4</td>\n",
       "      <td>13880.0</td>\n",
       "      <td>28.0</td>\n",
       "      <td>1000000.0</td>\n",
       "      <td>0.0</td>\n",
       "      <td>6114</td>\n",
       "      <td>0</td>\n",
       "      <td>0</td>\n",
       "      <td>5</td>\n",
       "    </tr>\n",
       "  </tbody>\n",
       "</table>\n",
       "</div>"
      ],
      "text/plain": [
       "   Valoración  Comentarios  Tamaño(M)  Descargas  Precio  App_processed  \\\n",
       "0         4.8         48.0       25.0     5000.0     0.0            215   \n",
       "1         4.7        353.0        4.2    10000.0     0.0           3821   \n",
       "2         4.1      36815.0       29.0  1000000.0     0.0           3875   \n",
       "3         4.3     194216.0       39.0  5000000.0     0.0           3236   \n",
       "4         4.4      13880.0       28.0  1000000.0     0.0           6114   \n",
       "\n",
       "   Categoría_processed  Tipo_processed  Clasificación_processed  \n",
       "0                    0               0                        5  \n",
       "1                    0               0                        0  \n",
       "2                    0               0                        5  \n",
       "3                    0               0                        5  \n",
       "4                    0               0                        5  "
      ]
     },
     "execution_count": 168,
     "metadata": {},
     "output_type": "execute_result"
    }
   ],
   "source": [
    "df.drop(labels=['App', 'Categoría', 'Tipo', 'Clasificación'], axis=1, inplace=True)\n",
    "df.head()"
   ]
  },
  {
   "cell_type": "code",
   "execution_count": 169,
   "metadata": {},
   "outputs": [
    {
     "data": {
      "text/plain": [
       "<AxesSubplot:>"
      ]
     },
     "execution_count": 169,
     "metadata": {},
     "output_type": "execute_result"
    },
    {
     "data": {
      "image/png": "[encoded data removed]",
      "text/plain": [
       "<Figure size 720x720 with 2 Axes>"
      ]
     },
     "metadata": {},
     "output_type": "display_data"
    }
   ],
   "source": [
    "sbn.set(\n",
    "    rc={\n",
    "        'figure.figsize' : (10,10)\n",
    "    }\n",
    ")\n",
    "sbn.heatmap(\n",
    "    df.corr(),\n",
    "    annot=True\n",
    ")"
   ]
  },
  {
   "cell_type": "markdown",
   "metadata": {
    "id": "_CI6ykiX6j35"
   },
   "source": [
    "## Plantée sus preguntas acá\n",
    "\n",
    "1. ¿Cómo se correlaciona la cantidad de descargas con el tipo de App?\n",
    "2. ¿Como se correlaciona la valoración de las apps con su categoría?\n",
    "3. ¿Como se corrrelaciona la cantidad de descargas con la clasificación?\n",
    "4. ¿Es posible predecir la cantidad de descargas que tendrá una app según sus características?\n",
    "5. ¿Es posible predecir que tipo de app tendrá mayor éxito considerando sus características?\n",
    "6. ¿Es posible predecir el retorno de inversión de una aplicación de pago?"
   ]
  },
  {
   "cell_type": "markdown",
   "metadata": {
    "id": "zhQTxlFZ0MLT"
   },
   "source": [
    "# Propuesta de limpieza\n"
   ]
  },
  {
   "cell_type": "markdown",
   "metadata": {},
   "source": [
    "### Ejecución de limpieza 1 \n",
    "\n",
    "* Identificación de tipos de datos de cada columna: Nos permite conocer qué datos corresponden números, cuales a strings, cuales a booleanos, fechas etc\n",
    "* Identifiación de valores núlos y no nulos en cada columna: Nos permite conocer la integridad de la información\n",
    "* Tomar la decisión: ¿Imputar o eliminar la información del dataframe?: Se debe definir la factibilidad de inferir el valor de un dato vacío, \n",
    "        o bien deshacerse de éste, en función de su nivel de importancia dentro del modelo."
   ]
  },
  {
   "cell_type": "markdown",
   "metadata": {},
   "source": [
    "### Ejecución de limpieza 2 \n",
    "\n",
    "* Remover variables no explicativas: Aquellas columnas que no aporten valor al modelo deben ser purgadas de este\n",
    "* Mantener variables categóricas: Las variables categóricas permiten conocer cómo se segmenta la información"
   ]
  },
  {
   "cell_type": "markdown",
   "metadata": {},
   "source": [
    "### Ejecución de limpieza 3 \n",
    "\n",
    "\n",
    "* Estandarizar: dentro de lo posible, generar un estándar para nombrar las columnas (camel case, notación húngara, entre otros). Esto hará mucho más cómodo manipular la información.\n",
    "* Eliminar columnas que no aporten valor al modelo."
   ]
  },
  {
   "cell_type": "markdown",
   "metadata": {},
   "source": [
    "### Ejecución de limpieza 3 \n",
    "\n",
    "* Transformar a valores numéricos las variables explicativas con el fin de identificar correlaciones"
   ]
  },
  {
   "cell_type": "markdown",
   "metadata": {
    "id": "qLqx2TAo5PDe"
   },
   "source": [
    "## Escribir una pequeña reseña de los resultados analizados y las correlaciones que  usaría para implementar un modelo de Machine Learning.\n",
    "\n",
    "Según nuestra matriz de correlaciones, la asociación más alta entre columnas es la cantidad de descargas con la cantidad de comentarios.\n",
    "\n",
    "Sin embargo, sería interesante explicar la cantidad de descargas de una aplicación según las siguientes dimensiones:\n",
    "\n",
    "* Tipo\n",
    "* Categoría\n",
    "* Clasificación\n",
    "* Valoración\n",
    "* Tamaño\n",
    "\n",
    "El objetivo final del modelo es apoyar a definir hacia donde destinar los esfuerzos de desarrollo de aplicaciones, de modo que estas generen el mayor retorno de inversión posible."
   ]
  },
  {
   "cell_type": "markdown",
   "metadata": {
    "id": "4iM-5K-vWgxt"
   },
   "source": [
    "# Implemente sus modelos desde aquí"
   ]
  },
  {
   "cell_type": "markdown",
   "metadata": {},
   "source": [
    "### Modelos de clasificación"
   ]
  },
  {
   "cell_type": "code",
   "execution_count": 170,
   "metadata": {},
   "outputs": [
    {
     "name": "stdout",
     "output_type": "stream",
     "text": [
      "Los datos para entrenamiento son : (4635, 9)\n",
      "Los datos para prueba son : (3090, 9)\n",
      "Los eti para entrenamiento son : (4635,)\n",
      "Los eti para prueba son : (3090,)\n"
     ]
    }
   ],
   "source": [
    "#Hacemos el split de la data. Queremos predecir el tipo de aplicación.\n",
    "train_data, test_data, train_label, test_label = train_test_split(\n",
    "    df,\n",
    "    df.Tipo_processed,\n",
    "    test_size=0.40,\n",
    "    random_state=2\n",
    ")\n",
    "\n",
    "print('Los datos para entrenamiento son :',train_data.shape)\n",
    "print('Los datos para prueba son :',test_data.shape)\n",
    "print('Los eti para entrenamiento son :',train_label.shape)\n",
    "print('Los eti para prueba son :',test_label.shape)"
   ]
  },
  {
   "cell_type": "code",
   "execution_count": 171,
   "metadata": {},
   "outputs": [
    {
     "name": "stdout",
     "output_type": "stream",
     "text": [
      "El modelo KNeighborsClassifier tiene como resultado 92.72%\n",
      "El modelo LogisticRegression tiene como resultado 92.88%\n",
      "El modelo RandomForestClassifier tiene como resultado 100.00%\n",
      "El modelo SVC tiene como resultado 92.88%\n",
      "El modelo DecisionTreeClassifier tiene como resultado 100.00%\n"
     ]
    }
   ],
   "source": [
    "# Evaluamos la puntuación del modelo\n",
    "modelos_clasificacion = []\n",
    "resultados_clasificacion = []\n",
    "modelos_clasificacion.append(('KNeighborsClassifier', KNeighborsClassifier()))\n",
    "modelos_clasificacion.append(('LogisticRegression', LogisticRegression()))\n",
    "modelos_clasificacion.append(('RandomForestClassifier', RandomForestClassifier()))\n",
    "modelos_clasificacion.append(('SVC', SVC()))\n",
    "modelos_clasificacion.append(('DecisionTreeClassifier', DecisionTreeClassifier()))\n",
    "\n",
    "for nombre, modelo in modelos_clasificacion:\n",
    "    modelo.fit(train_data, train_label)\n",
    "    resultado = modelo.score(test_data, test_label)\n",
    "    resultados_clasificacion.append(resultado*100)\n",
    "    print('El modelo {} tiene como resultado {:.2f}%'.format(\n",
    "        nombre,\n",
    "        resultado*100\n",
    "    ))"
   ]
  },
  {
   "cell_type": "code",
   "execution_count": 172,
   "metadata": {},
   "outputs": [
    {
     "name": "stdout",
     "output_type": "stream",
     "text": [
      "Valores de entrenamiento\n",
      "0    4276\n",
      "1     359\n",
      "Name: Tipo_processed, dtype: int64\n"
     ]
    },
    {
     "data": {
      "text/plain": [
       "0    4276\n",
       "1     359\n",
       "dtype: int64"
      ]
     },
     "execution_count": 172,
     "metadata": {},
     "output_type": "execute_result"
    }
   ],
   "source": [
    "# Utilizaremos Random Forest\n",
    "random_forest = RandomForestClassifier()\n",
    "#Entrenamos el modelo\n",
    "random_forest.fit(train_data, train_label)\n",
    "print('Valores de entrenamiento')\n",
    "print(train_label.value_counts())\n",
    "pd.Series( random_forest.predict(train_data) ).value_counts()"
   ]
  },
  {
   "cell_type": "code",
   "execution_count": 173,
   "metadata": {},
   "outputs": [
    {
     "name": "stdout",
     "output_type": "stream",
     "text": [
      "[[ 359    0]\n",
      " [   0 4276]]\n"
     ]
    },
    {
     "data": {
      "text/plain": [
       "Text(84.5, 0.5, 'Actual')"
      ]
     },
     "execution_count": 173,
     "metadata": {},
     "output_type": "execute_result"
    },
    {
     "data": {
      "image/png": "[encoded data removed]",
      "text/plain": [
       "<Figure size 864x720 with 2 Axes>"
      ]
     },
     "metadata": {},
     "output_type": "display_data"
    }
   ],
   "source": [
    "\n",
    "predict_random_forest = random_forest.predict(train_data)\n",
    "confusion = confusion_matrix(train_label, predict_random_forest)\n",
    "vn, fp, fn, vp = confusion.ravel()\n",
    "matriz = np.array([[vp,fn],[fp,vn]])\n",
    "print(matriz)\n",
    "plt.figure(\n",
    "    figsize=(12,10)\n",
    ")\n",
    "grafico = plt.subplot()\n",
    "\n",
    "sbn.heatmap(matriz,annot=True,ax=grafico,\n",
    "            fmt='g')\n",
    "grafico.xaxis.set_ticklabels([\"Acierta\",\n",
    "                              \"Si\"])\n",
    "grafico.yaxis.set_ticklabels([\"Acierta\",\"No\"])\n",
    "grafico.set_xlabel('Predicción')\n",
    "grafico.set_ylabel('Actual')"
   ]
  },
  {
   "cell_type": "markdown",
   "metadata": {},
   "source": [
    "# Modelos de regresión"
   ]
  },
  {
   "cell_type": "markdown",
   "metadata": {},
   "source": [
    "### Queremos analizar el puntaje de los modelos de regresión intentando explicar la valoración"
   ]
  },
  {
   "cell_type": "code",
   "execution_count": 174,
   "metadata": {},
   "outputs": [],
   "source": [
    "#Hacemos el split de la data\n",
    "train_data_reg, test_data_reg, train_label_reg, test_label_reg = train_test_split(\n",
    "    df,\n",
    "    df.Descargas,\n",
    "    test_size=0.45,\n",
    "    random_state=2\n",
    ")"
   ]
  },
  {
   "cell_type": "code",
   "execution_count": 175,
   "metadata": {},
   "outputs": [
    {
     "name": "stdout",
     "output_type": "stream",
     "text": [
      "El modelo KNeighborsRegressor tiene como resultado 100.00%\n",
      "El modelo LinearRegression tiene como resultado 100.00%\n",
      "El modelo RandomForestRegressor tiene como resultado 99.80%\n",
      "El modelo SVR tiene como resultado -2.80%\n",
      "El modelo DecisionTreeRegressor tiene como resultado 100.00%\n"
     ]
    }
   ],
   "source": [
    "# Obtenemos la puntuación de cada modelo\n",
    "modelos_regresion = []\n",
    "resultados_regresion = []\n",
    "modelos_regresion.append(('KNeighborsRegressor', KNeighborsRegressor()))\n",
    "modelos_regresion.append(('LinearRegression', LinearRegression()))\n",
    "modelos_regresion.append(('RandomForestRegressor', RandomForestRegressor()))\n",
    "modelos_regresion.append(('SVR', SVR()))\n",
    "modelos_regresion.append(('DecisionTreeRegressor', DecisionTreeRegressor()))\n",
    "\n",
    "for nombre, modelo in modelos_regresion:\n",
    "    modelo.fit(train_data_reg, train_label_reg)\n",
    "    resultado = modelo.score(test_data_reg, test_label_reg)\n",
    "    resultados_regresion.append(resultado*100)\n",
    "    print('El modelo {} tiene como resultado {:.2f}%'.format(\n",
    "        nombre,\n",
    "        resultado*100\n",
    "    ))"
   ]
  },
  {
   "cell_type": "code",
   "execution_count": 176,
   "metadata": {},
   "outputs": [
    {
     "data": {
      "text/plain": [
       "1.0"
      ]
     },
     "execution_count": 176,
     "metadata": {},
     "output_type": "execute_result"
    }
   ],
   "source": [
    "# Utilizaremos el árbol de decisión de regresión para explicar la cantidad de descargas\n",
    "dtr = DecisionTreeRegressor()\n",
    "dtr.fit(train_data_reg, train_label_reg)\n",
    "dtr.score(test_data_reg, test_label_reg)"
   ]
  },
  {
   "cell_type": "code",
   "execution_count": 177,
   "metadata": {},
   "outputs": [
    {
     "name": "stdout",
     "output_type": "stream",
     "text": [
      "[1.e+04 1.e+07 5.e+05 ... 1.e+03 1.e+04 1.e+05] \n",
      " 8500       10000.0\n",
      "1534    10000000.0\n",
      "2918      500000.0\n",
      "1018     1000000.0\n",
      "5349        1000.0\n",
      "           ...    \n",
      "4185     5000000.0\n",
      "6530        1000.0\n",
      "7811        1000.0\n",
      "3008       10000.0\n",
      "8675      100000.0\n",
      "Name: Descargas, Length: 4248, dtype: float64\n"
     ]
    }
   ],
   "source": [
    "#\n",
    "predict_dtr = dtr.predict(train_data_reg)\n",
    "dtr.fit(train_data, train_label)\n",
    "resultado = dtr.score(test_data, test_label)\n",
    "resultado*100\n",
    "predict_knn = dtr.predict(train_data)\n",
    "print(predict_dtr, '\\n', train_label_reg)"
   ]
  },
  {
   "cell_type": "code",
   "execution_count": 178,
   "metadata": {},
   "outputs": [
    {
     "name": "stdout",
     "output_type": "stream",
     "text": [
      "[0 0 0 ... 0 0 0] \n",
      " 229     0\n",
      "8965    0\n",
      "6296    0\n",
      "3658    0\n",
      "6150    0\n",
      "       ..\n",
      "4185    0\n",
      "6530    0\n",
      "7811    0\n",
      "3008    0\n",
      "8675    0\n",
      "Name: Tipo_processed, Length: 4635, dtype: int32\n"
     ]
    }
   ],
   "source": [
    "knn = KNeighborsClassifier()\n",
    "knn.fit(train_data, train_label)\n",
    "resultado = knn.score(test_data, test_label)\n",
    "resultado*100\n",
    "predict_knn = knn.predict(train_data)\n",
    "print(predict_knn, '\\n', train_label)\n"
   ]
  },
  {
   "cell_type": "code",
   "execution_count": 179,
   "metadata": {},
   "outputs": [
    {
     "name": "stdout",
     "output_type": "stream",
     "text": [
      "[0 0 0 ... 0 0 0] \n",
      " 229     0\n",
      "8965    0\n",
      "6296    0\n",
      "3658    0\n",
      "6150    0\n",
      "       ..\n",
      "4185    0\n",
      "6530    0\n",
      "7811    0\n",
      "3008    0\n",
      "8675    0\n",
      "Name: Tipo_processed, Length: 4635, dtype: int32\n"
     ]
    },
    {
     "data": {
      "text/plain": [
       "(4635,)"
      ]
     },
     "execution_count": 179,
     "metadata": {},
     "output_type": "execute_result"
    }
   ],
   "source": [
    "predict_knn = knn.predict(train_data)\n",
    "print(predict_knn, '\\n', train_label)\n",
    "\n",
    "predict_knn.shape"
   ]
  },
  {
   "cell_type": "code",
   "execution_count": 180,
   "metadata": {},
   "outputs": [
    {
     "name": "stdout",
     "output_type": "stream",
     "text": [
      "[[ 130  229]\n",
      " [  47 4229]]\n"
     ]
    },
    {
     "data": {
      "text/plain": [
       "Text(84.5, 0.5, 'Actual')"
      ]
     },
     "execution_count": 180,
     "metadata": {},
     "output_type": "execute_result"
    },
    {
     "data": {
      "image/png": "[encoded data removed]",
      "text/plain": [
       "<Figure size 864x720 with 2 Axes>"
      ]
     },
     "metadata": {},
     "output_type": "display_data"
    }
   ],
   "source": [
    "confusion = confusion_matrix(train_label, predict_knn)\n",
    "vn, fp, fn, vp = confusion.ravel()\n",
    "matriz = np.array([[vp,fn],[fp,vn]])\n",
    "print(matriz)\n",
    "plt.figure(\n",
    "    figsize=(12,10)\n",
    ")\n",
    "grafico = plt.subplot()\n",
    "\n",
    "sbn.heatmap(matriz,annot=True,ax=grafico,\n",
    "            fmt='g')\n",
    "grafico.xaxis.set_ticklabels([\"Acierta\",\n",
    "                              \"No\"])\n",
    "grafico.yaxis.set_ticklabels([\"Acierta\",\"No\"])\n",
    "grafico.set_xlabel('Predicción')\n",
    "grafico.set_ylabel('Actual')"
   ]
  },
  {
   "cell_type": "markdown",
   "metadata": {
    "id": "q9VlRdVVW9F1"
   },
   "source": [
    "# Evalúe sus modelos"
   ]
  },
  {
   "cell_type": "markdown",
   "metadata": {},
   "source": [
    "#### Requerimos las librerías necesarias para la evaluación de los modelos"
   ]
  },
  {
   "cell_type": "code",
   "execution_count": 181,
   "metadata": {},
   "outputs": [],
   "source": [
    "from sklearn.metrics import accuracy_score #Exactitud\n",
    "from sklearn.metrics import precision_score #Precisión\n",
    "from sklearn.metrics import recall_score #Sensibilidad\n",
    "# Especificidad: tnr = (vn)/(vn+fp)\n",
    "from sklearn.metrics import f1_score\n",
    "from sklearn.metrics import roc_auc_score\n",
    "from sklearn.metrics import roc_curve\n"
   ]
  },
  {
   "cell_type": "markdown",
   "metadata": {},
   "source": [
    "### Evaluamos el Random Forest Classifier"
   ]
  },
  {
   "cell_type": "code",
   "execution_count": 182,
   "metadata": {},
   "outputs": [
    {
     "name": "stdout",
     "output_type": "stream",
     "text": [
      "El modelo Random Forest tiene una precisión del 100.00%\n",
      "El modelo Random Forest tiene una sensibilidad del 100.00%\n",
      "El modelo tiene un puntaje f1 del 100.00%\n",
      "El modelo Random Forest tiene un ROC - AUC del 100.00%\n"
     ]
    }
   ],
   "source": [
    "print('El modelo Random Forest tiene una precisión del {:.2f}%'.format(accuracy_score(train_label, predict_random_forest)*100))\n",
    "print('El modelo Random Forest tiene una sensibilidad del {:.2f}%'.format(recall_score(train_label, predict_random_forest)*100))\n",
    "print('El modelo tiene un puntaje f1 del {:.2f}%'.format(f1_score(train_label, predict_random_forest)*100))\n",
    "print('El modelo Random Forest tiene un ROC - AUC del {:.2f}%'.format(roc_auc_score(train_label, predict_random_forest)*100))"
   ]
  },
  {
   "cell_type": "markdown",
   "metadata": {},
   "source": [
    "### Evaluamos el desempeño de KNeighbors Classifier"
   ]
  },
  {
   "cell_type": "code",
   "execution_count": 183,
   "metadata": {},
   "outputs": [
    {
     "name": "stdout",
     "output_type": "stream",
     "text": [
      "El modelo KNeighbors Classifier tiene una precisión del 73.45%\n",
      "El modelo KNeighbors Classifier tiene una sensibilidad del 36.21%\n",
      "El modelo KNeighbors Classifier tiene una especificidad del 73.45%\n",
      "El modelo KNeighbors Classifier tiene un puntaje f1 del 48.51%\n"
     ]
    }
   ],
   "source": [
    "precision = (vp)/(vp+fp)\n",
    "recall = (vp)/(vp+fn)\n",
    "tnr = (vn)/(vn+fp)\n",
    "f1 =(2 * recall * precision) / (precision + recall)\n",
    "\n",
    "print('El modelo KNeighbors Classifier tiene una precisión del {:.2f}%'.format( (precision*100)))\n",
    "print('El modelo KNeighbors Classifier tiene una sensibilidad del {:.2f}%'.format( (recall*100)))\n",
    "print('El modelo KNeighbors Classifier tiene una especificidad del {:.2f}%'.format( (precision*100)))\n",
    "print('El modelo KNeighbors Classifier tiene un puntaje f1 del {:.2f}%'.format( (f1*100)))"
   ]
  },
  {
   "cell_type": "markdown",
   "metadata": {
    "id": "8HwtjkpqW4Is"
   },
   "source": [
    "# Responda las preguntas planteadas"
   ]
  },
  {
   "cell_type": "markdown",
   "metadata": {},
   "source": [
    "\n",
    "1. ¿Cómo se correlaciona la cantidad de descargas con el tipo de App?\n",
    "* R: La correlación es negativa (-0.047) \n",
    "2. ¿Como se correlaciona la valoración de las apps con su categoría?\n",
    "* R: La correlación es de 0.041\n",
    "3. ¿Como se correlaciona la cantidad de descargas con la clasificación?\n",
    "* R: La correlación es negativa (-0.072) \n",
    "4. ¿Es posible predecir la cantidad de descargas que tendrá una app según sus características?\n",
    "* R: Es posible con un modelo optimizado y mejor entrenado\n",
    "5. ¿Es posible predecir que tipo de app tendrá mayor éxito considerando sus características?\n",
    "* R: Es posible con un modelo optimizado y mejor entrenado\n",
    "6. ¿Es posible predecir el retorno de inversión de una aplicación de pago?\n",
    "* R: Es posible con un modelo optimizado y mejor entrenado\n",
    "\n",
    "#### Conclusiones\n",
    "\n",
    "Si bien en este ejercicio no pudieron realizarse grandes predicciones ni un modelo perfectamente entrenado con el cuál poder generar hipótesis de valor con el cuál guiar la toma de decisiones, este ejercicio fué util para conocer procedimientos para trabajar la información con herramientas de machine learning en Python.\n",
    "\n",
    "Se hace la autocrítica y reflexión, es necesario seguir estudiando y capacitándose en esta materia y aplicar las herramientas para generar conclusiones acertadas mediante los modelos de ML.\n",
    "\n",
    "Por otra parte, en necesario optimizar el código python para agilizar e idealmente automatizar la creación, aplicación, entrenamiento y medición de los modelos, para de esta forma ganar tiempo y mejorar los pipelines de cara a procedimientos de integración contínua y entrega continuo (CI-CD)."
   ]
  }
 ],
 "metadata": {
  "colab": {
   "collapsed_sections": [],
   "name": "Estructura_Evaluación Final.ipynb",
   "provenance": [],
   "toc_visible": true
  },
  "kernelspec": {
   "display_name": "Python 3",
   "language": "python",
   "name": "python3"
  },
  "language_info": {
   "codemirror_mode": {
    "name": "ipython",
    "version": 3
   },
   "file_extension": ".py",
   "mimetype": "text/x-python",
   "name": "python",
   "nbconvert_exporter": "python",
   "pygments_lexer": "ipython3",
   "version": "3.8.8"
  }
 },
 "nbformat": 4,
 "nbformat_minor": 4
}
