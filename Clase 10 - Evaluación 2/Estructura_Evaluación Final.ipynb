{
 "cells": [
  {
   "cell_type": "markdown",
   "metadata": {
    "id": "tdaohCeoe1T_"
   },
   "source": [
    "#Evaluación Final - Diplomado Data Science Duoc UC\n",
    "\n",
    "# Módulo: Machine Learning\n",
    "\n",
    "A continuación, aplicarás lo aprendido con el uso de las librerías de Python desde fuentes de datos proporcionadas por el relator.\n",
    "\n",
    "**Recuerda almacenar una copia de este Jupyter Notebook en tu Google Drive para poder ejecutar los bloques de código.**\n",
    "\n",
    "\n",
    "---\n",
    "Proponga al menos 6 preguntas que podamos responder con un modelo de Machine Learning, que permita hacer una proyección o una clasificación de acuerdo al aspecto elegido de los datos.\n",
    "\n",
    "Detecte correlaciones relevantes que permitan hacer más óptimo el modelo de ML en combinación con los algoritmos e hiperparámetros adecuados de acuerdo a la solución planteada.\n",
    "\n",
    "Elabore un informe en Jupyter Notebook haciendo uso de cuadros de texto y cuadros de código para robustecer la solución planteada.\n",
    "\n",
    "\n",
    "Datos: https://drive.google.com/file/d/1APpywYHEexQEGElHT5CJUoz9RgWdohqh/view?usp=sharing\n",
    "\n",
    "\n",
    "---\n"
   ]
  },
  {
   "cell_type": "markdown",
   "metadata": {
    "id": "Vk3pLh0AK1er"
   },
   "source": [
    "\n",
    "**Recuerda hacer uso de todo lo aprendido! mientras más cosas descubras de los datos, más robusto será tu análisis.** "
   ]
  },
  {
   "cell_type": "markdown",
   "metadata": {
    "id": "reGN707Ty1C7"
   },
   "source": [
    "# Análisis Exploratorio de Datos"
   ]
  },
  {
   "cell_type": "markdown",
   "metadata": {},
   "source": [
    "#### Importamos librerías escenciales"
   ]
  },
  {
   "cell_type": "code",
   "execution_count": 3,
   "metadata": {},
   "outputs": [],
   "source": [
    "import pandas as pd\n",
    "import numpy as np\n",
    "import seaborn as sbn\n",
    "import matplotlib.pyplot as plt"
   ]
  },
  {
   "cell_type": "markdown",
   "metadata": {},
   "source": [
    "#### Importamos los modelos de Clasificación"
   ]
  },
  {
   "cell_type": "code",
   "execution_count": 2,
   "metadata": {},
   "outputs": [],
   "source": [
    "from sklearn.neighbors import KNeighborsClassifier\n",
    "from sklearn.linear_model import LogisticRegression\n",
    "from sklearn.ensemble import RandomForestClassifier\n",
    "from sklearn.svm import SVC\n",
    "from sklearn.tree import DecisionTreeClassifier"
   ]
  },
  {
   "cell_type": "markdown",
   "metadata": {},
   "source": [
    "#### Importamos los modelos de Regresión"
   ]
  },
  {
   "cell_type": "code",
   "execution_count": 3,
   "metadata": {},
   "outputs": [],
   "source": [
    "from sklearn.neighbors import KNeighborsRegressor\n",
    "from sklearn.linear_model import LinearRegression\n",
    "from sklearn.ensemble import RandomForestRegressor\n",
    "from sklearn.svm import SVR\n",
    "from sklearn.tree import DecisionTreeRegressor"
   ]
  },
  {
   "cell_type": "markdown",
   "metadata": {},
   "source": [
    "#### Importamos librerias necesarias para trabajar el modelo"
   ]
  },
  {
   "cell_type": "code",
   "execution_count": 4,
   "metadata": {},
   "outputs": [],
   "source": [
    "from sklearn.preprocessing import LabelEncoder\n",
    "from sklearn.model_selection import RepeatedKFold, train_test_split\n",
    "from sklearn import metrics\n",
    "from sklearn.metrics import confusion_matrix"
   ]
  },
  {
   "cell_type": "code",
   "execution_count": 6,
   "metadata": {},
   "outputs": [
    {
     "data": {
      "text/html": [
       "<div>\n",
       "<style scoped>\n",
       "    .dataframe tbody tr th:only-of-type {\n",
       "        vertical-align: middle;\n",
       "    }\n",
       "\n",
       "    .dataframe tbody tr th {\n",
       "        vertical-align: top;\n",
       "    }\n",
       "\n",
       "    .dataframe thead th {\n",
       "        text-align: right;\n",
       "    }\n",
       "</style>\n",
       "<table border=\"1\" class=\"dataframe\">\n",
       "  <thead>\n",
       "    <tr style=\"text-align: right;\">\n",
       "      <th></th>\n",
       "      <th>App</th>\n",
       "      <th>Categoría</th>\n",
       "      <th>Valoración</th>\n",
       "      <th>Comentarios</th>\n",
       "      <th>Tamaño(M)</th>\n",
       "      <th>Descargas</th>\n",
       "      <th>Tipo</th>\n",
       "      <th>Precio</th>\n",
       "      <th>Clasificación</th>\n",
       "    </tr>\n",
       "  </thead>\n",
       "  <tbody>\n",
       "    <tr>\n",
       "      <th>0</th>\n",
       "      <td>AJ Styles HD Wallpapers</td>\n",
       "      <td>ARTE Y DISEÑO</td>\n",
       "      <td>4.8</td>\n",
       "      <td>48</td>\n",
       "      <td>25.0</td>\n",
       "      <td>5,000 aprox.</td>\n",
       "      <td>Gratis</td>\n",
       "      <td>0.0</td>\n",
       "      <td>Todo público</td>\n",
       "    </tr>\n",
       "    <tr>\n",
       "      <th>1</th>\n",
       "      <td>I Creative Idea</td>\n",
       "      <td>ARTE Y DISEÑO</td>\n",
       "      <td>4.7</td>\n",
       "      <td>353</td>\n",
       "      <td>4.2</td>\n",
       "      <td>10,000 aprox.</td>\n",
       "      <td>Gratis</td>\n",
       "      <td>0.0</td>\n",
       "      <td>Adolescentes</td>\n",
       "    </tr>\n",
       "    <tr>\n",
       "      <th>2</th>\n",
       "      <td>Infinite Painter</td>\n",
       "      <td>ARTE Y DISEÑO</td>\n",
       "      <td>4.1</td>\n",
       "      <td>36815</td>\n",
       "      <td>29.0</td>\n",
       "      <td>1,000,000 aprox.</td>\n",
       "      <td>Gratis</td>\n",
       "      <td>0.0</td>\n",
       "      <td>Todo público</td>\n",
       "    </tr>\n",
       "    <tr>\n",
       "      <th>3</th>\n",
       "      <td>FlipaClip - Cartoon animation</td>\n",
       "      <td>ARTE Y DISEÑO</td>\n",
       "      <td>4.3</td>\n",
       "      <td>194216</td>\n",
       "      <td>39.0</td>\n",
       "      <td>5,000,000 aprox.</td>\n",
       "      <td>Gratis</td>\n",
       "      <td>0.0</td>\n",
       "      <td>Todo público</td>\n",
       "    </tr>\n",
       "    <tr>\n",
       "      <th>4</th>\n",
       "      <td>Text on Photo - Fonteee</td>\n",
       "      <td>ARTE Y DISEÑO</td>\n",
       "      <td>4.4</td>\n",
       "      <td>13880</td>\n",
       "      <td>28.0</td>\n",
       "      <td>1,000,000 aprox.</td>\n",
       "      <td>Gratis</td>\n",
       "      <td>0.0</td>\n",
       "      <td>Todo público</td>\n",
       "    </tr>\n",
       "  </tbody>\n",
       "</table>\n",
       "</div>"
      ],
      "text/plain": [
       "                             App      Categoría  Valoración  Comentarios  \\\n",
       "0        AJ Styles HD Wallpapers  ARTE Y DISEÑO         4.8           48   \n",
       "1                I Creative Idea  ARTE Y DISEÑO         4.7          353   \n",
       "2               Infinite Painter  ARTE Y DISEÑO         4.1        36815   \n",
       "3  FlipaClip - Cartoon animation  ARTE Y DISEÑO         4.3       194216   \n",
       "4        Text on Photo - Fonteee  ARTE Y DISEÑO         4.4        13880   \n",
       "\n",
       "   Tamaño(M)         Descargas    Tipo  Precio Clasificación  \n",
       "0       25.0      5,000 aprox.  Gratis     0.0  Todo público  \n",
       "1        4.2     10,000 aprox.  Gratis     0.0  Adolescentes  \n",
       "2       29.0  1,000,000 aprox.  Gratis     0.0  Todo público  \n",
       "3       39.0  5,000,000 aprox.  Gratis     0.0  Todo público  \n",
       "4       28.0  1,000,000 aprox.  Gratis     0.0  Todo público  "
      ]
     },
     "execution_count": 6,
     "metadata": {},
     "output_type": "execute_result"
    }
   ],
   "source": [
    "df = pd.read_excel('PlayStore.xlsx') #Hacemos lectura del dataset\n",
    "df.head()"
   ]
  },
  {
   "cell_type": "code",
   "execution_count": 7,
   "metadata": {},
   "outputs": [
    {
     "name": "stdout",
     "output_type": "stream",
     "text": [
      "(9141, 9)\n",
      "<class 'pandas.core.frame.DataFrame'>\n",
      "RangeIndex: 9141 entries, 0 to 9140\n",
      "Data columns (total 9 columns):\n",
      " #   Column         Non-Null Count  Dtype  \n",
      "---  ------         --------------  -----  \n",
      " 0   App            9141 non-null   object \n",
      " 1   Categoría      9141 non-null   object \n",
      " 2   Valoración     7725 non-null   float64\n",
      " 3   Comentarios    9141 non-null   int64  \n",
      " 4   Tamaño(M)      9141 non-null   float64\n",
      " 5   Descargas      9141 non-null   object \n",
      " 6   Tipo           9141 non-null   object \n",
      " 7   Precio         9141 non-null   float64\n",
      " 8   Clasificación  9141 non-null   object \n",
      "dtypes: float64(3), int64(1), object(5)\n",
      "memory usage: 642.9+ KB\n",
      "None\n"
     ]
    }
   ],
   "source": [
    "# Análisis preliminar del modelo\n",
    "print(df.shape)\n",
    "print(df.info())"
   ]
  },
  {
   "cell_type": "markdown",
   "metadata": {},
   "source": [
    "#### Como podemos apreciar, el dataset consta de 9 columnas y 9141 filas\n",
    "#### Todos los valores, a excepción de la valoración están 100% integros (1416 valores perdidos)\n",
    "#### La columna 'Descargas' debe parsearse a un valor numérico"
   ]
  },
  {
   "cell_type": "code",
   "execution_count": 8,
   "metadata": {},
   "outputs": [
    {
     "name": "stdout",
     "output_type": "stream",
     "text": [
      "<class 'pandas.core.frame.DataFrame'>\n",
      "RangeIndex: 9141 entries, 0 to 9140\n",
      "Data columns (total 9 columns):\n",
      " #   Column         Non-Null Count  Dtype  \n",
      "---  ------         --------------  -----  \n",
      " 0   App            9141 non-null   object \n",
      " 1   Categoría      9141 non-null   object \n",
      " 2   Valoración     7725 non-null   float64\n",
      " 3   Comentarios    9141 non-null   float64\n",
      " 4   Tamaño(M)      9141 non-null   float64\n",
      " 5   Descargas      9141 non-null   float64\n",
      " 6   Tipo           9141 non-null   object \n",
      " 7   Precio         9141 non-null   float64\n",
      " 8   Clasificación  9141 non-null   object \n",
      "dtypes: float64(5), object(4)\n",
      "memory usage: 642.9+ KB\n"
     ]
    }
   ],
   "source": [
    "df.Descargas = df.Descargas.apply(lambda x: x.replace(' aprox.', ''))\n",
    "df.Descargas = df.Descargas.apply(lambda x: x.replace(',', ''))\n",
    "df.Descargas = df.Descargas.astype(np.float64)\n",
    "df.Comentarios = df.Comentarios.astype(np.float64)\n",
    "df.info()"
   ]
  },
  {
   "cell_type": "code",
   "execution_count": 9,
   "metadata": {},
   "outputs": [
    {
     "data": {
      "text/html": [
       "<div>\n",
       "<style scoped>\n",
       "    .dataframe tbody tr th:only-of-type {\n",
       "        vertical-align: middle;\n",
       "    }\n",
       "\n",
       "    .dataframe tbody tr th {\n",
       "        vertical-align: top;\n",
       "    }\n",
       "\n",
       "    .dataframe thead th {\n",
       "        text-align: right;\n",
       "    }\n",
       "</style>\n",
       "<table border=\"1\" class=\"dataframe\">\n",
       "  <thead>\n",
       "    <tr style=\"text-align: right;\">\n",
       "      <th></th>\n",
       "      <th>Valoración</th>\n",
       "      <th>Tamaño(M)</th>\n",
       "      <th>Precio</th>\n",
       "    </tr>\n",
       "  </thead>\n",
       "  <tbody>\n",
       "    <tr>\n",
       "      <th>count</th>\n",
       "      <td>7725.000000</td>\n",
       "      <td>9141.000000</td>\n",
       "      <td>9141.000000</td>\n",
       "    </tr>\n",
       "    <tr>\n",
       "      <th>mean</th>\n",
       "      <td>4.173735</td>\n",
       "      <td>37.047391</td>\n",
       "      <td>1.184885</td>\n",
       "    </tr>\n",
       "    <tr>\n",
       "      <th>std</th>\n",
       "      <td>0.544548</td>\n",
       "      <td>98.893732</td>\n",
       "      <td>17.359533</td>\n",
       "    </tr>\n",
       "    <tr>\n",
       "      <th>min</th>\n",
       "      <td>1.000000</td>\n",
       "      <td>1.000000</td>\n",
       "      <td>0.000000</td>\n",
       "    </tr>\n",
       "    <tr>\n",
       "      <th>25%</th>\n",
       "      <td>4.000000</td>\n",
       "      <td>5.600000</td>\n",
       "      <td>0.000000</td>\n",
       "    </tr>\n",
       "    <tr>\n",
       "      <th>50%</th>\n",
       "      <td>4.300000</td>\n",
       "      <td>15.000000</td>\n",
       "      <td>0.000000</td>\n",
       "    </tr>\n",
       "    <tr>\n",
       "      <th>75%</th>\n",
       "      <td>4.500000</td>\n",
       "      <td>34.000000</td>\n",
       "      <td>0.000000</td>\n",
       "    </tr>\n",
       "    <tr>\n",
       "      <th>max</th>\n",
       "      <td>5.000000</td>\n",
       "      <td>1020.000000</td>\n",
       "      <td>400.000000</td>\n",
       "    </tr>\n",
       "  </tbody>\n",
       "</table>\n",
       "</div>"
      ],
      "text/plain": [
       "        Valoración    Tamaño(M)       Precio\n",
       "count  7725.000000  9141.000000  9141.000000\n",
       "mean      4.173735    37.047391     1.184885\n",
       "std       0.544548    98.893732    17.359533\n",
       "min       1.000000     1.000000     0.000000\n",
       "25%       4.000000     5.600000     0.000000\n",
       "50%       4.300000    15.000000     0.000000\n",
       "75%       4.500000    34.000000     0.000000\n",
       "max       5.000000  1020.000000   400.000000"
      ]
     },
     "execution_count": 9,
     "metadata": {},
     "output_type": "execute_result"
    }
   ],
   "source": [
    "df[['Valoración', 'Tamaño(M)', 'Precio']].describe()"
   ]
  },
  {
   "cell_type": "code",
   "execution_count": 10,
   "metadata": {},
   "outputs": [
    {
     "data": {
      "text/html": [
       "<div>\n",
       "<style scoped>\n",
       "    .dataframe tbody tr th:only-of-type {\n",
       "        vertical-align: middle;\n",
       "    }\n",
       "\n",
       "    .dataframe tbody tr th {\n",
       "        vertical-align: top;\n",
       "    }\n",
       "\n",
       "    .dataframe thead th {\n",
       "        text-align: right;\n",
       "    }\n",
       "</style>\n",
       "<table border=\"1\" class=\"dataframe\">\n",
       "  <thead>\n",
       "    <tr style=\"text-align: right;\">\n",
       "      <th></th>\n",
       "      <th>Comentarios</th>\n",
       "      <th>Descargas</th>\n",
       "    </tr>\n",
       "  </thead>\n",
       "  <tbody>\n",
       "    <tr>\n",
       "      <th>count</th>\n",
       "      <td>9141</td>\n",
       "      <td>9141</td>\n",
       "    </tr>\n",
       "    <tr>\n",
       "      <th>mean</th>\n",
       "      <td>249157</td>\n",
       "      <td>7117898</td>\n",
       "    </tr>\n",
       "    <tr>\n",
       "      <th>std</th>\n",
       "      <td>1716578</td>\n",
       "      <td>46203441</td>\n",
       "    </tr>\n",
       "    <tr>\n",
       "      <th>min</th>\n",
       "      <td>0</td>\n",
       "      <td>0</td>\n",
       "    </tr>\n",
       "    <tr>\n",
       "      <th>25%</th>\n",
       "      <td>22</td>\n",
       "      <td>1000</td>\n",
       "    </tr>\n",
       "    <tr>\n",
       "      <th>50%</th>\n",
       "      <td>742</td>\n",
       "      <td>100000</td>\n",
       "    </tr>\n",
       "    <tr>\n",
       "      <th>75%</th>\n",
       "      <td>25094</td>\n",
       "      <td>1000000</td>\n",
       "    </tr>\n",
       "    <tr>\n",
       "      <th>max</th>\n",
       "      <td>44893888</td>\n",
       "      <td>1000000000</td>\n",
       "    </tr>\n",
       "  </tbody>\n",
       "</table>\n",
       "</div>"
      ],
      "text/plain": [
       "       Comentarios   Descargas\n",
       "count         9141        9141\n",
       "mean        249157     7117898\n",
       "std        1716578    46203441\n",
       "min              0           0\n",
       "25%             22        1000\n",
       "50%            742      100000\n",
       "75%          25094     1000000\n",
       "max       44893888  1000000000"
      ]
     },
     "execution_count": 10,
     "metadata": {},
     "output_type": "execute_result"
    }
   ],
   "source": [
    "df[['Comentarios', 'Descargas']].describe().astype(np.int64)"
   ]
  },
  {
   "cell_type": "markdown",
   "metadata": {},
   "source": [
    "#### Analizamos posibles variables explicativas"
   ]
  },
  {
   "cell_type": "code",
   "execution_count": 30,
   "metadata": {},
   "outputs": [
    {
     "data": {
      "text/plain": [
       "Gratis    8417\n",
       "Pago       724\n",
       "Name: Tipo, dtype: int64"
      ]
     },
     "execution_count": 30,
     "metadata": {},
     "output_type": "execute_result"
    }
   ],
   "source": [
    "df.Tipo.value_counts()"
   ]
  },
  {
   "cell_type": "code",
   "execution_count": 31,
   "metadata": {},
   "outputs": [
    {
     "data": {
      "text/plain": [
       "ROBLOX                                                 9\n",
       "Candy Crush Saga                                       7\n",
       "8 Ball Pool                                            7\n",
       "Temple Run 2                                           6\n",
       "Helix Jump                                             6\n",
       "                                                      ..\n",
       "Autool BT-BOX                                          1\n",
       "Castle Clash: Epic Empire ES                           1\n",
       "CNY Slots : Gong Xi Fa Cai <U+53D1><U+8D22><U+673A>    1\n",
       "HCP Anywhere                                           1\n",
       "Complete Spanish Movies                                1\n",
       "Name: App, Length: 8430, dtype: int64"
      ]
     },
     "execution_count": 31,
     "metadata": {},
     "output_type": "execute_result"
    }
   ],
   "source": [
    "df.App.value_counts()"
   ]
  },
  {
   "cell_type": "code",
   "execution_count": 32,
   "metadata": {},
   "outputs": [
    {
     "data": {
      "text/plain": [
       "FAMILIA                   1770\n",
       "JUEGO                     1051\n",
       "HERRAMIENTAS               738\n",
       "MÉDICO                     433\n",
       "NEGOCIO                    400\n",
       "PERSONALIZACIÓN            356\n",
       "ESTILO DE VIDA             349\n",
       "DEPORTES                   310\n",
       "FINANCIERAS                306\n",
       "PRODUCTIVIDAD              303\n",
       "SALUD Y BELLEZA            265\n",
       "COMUNICACIÓN               264\n",
       "FOTOGRAFÍA                 253\n",
       "NOTICIAS                   215\n",
       "DATOS                      212\n",
       "SOCIAL                     209\n",
       "COMPRAS                    201\n",
       "LIBROS Y REFRERENCIAS      197\n",
       "VIAJES                     192\n",
       "REPRODUCTORES DE VIDEO     129\n",
       "EDUCACIÓN                  124\n",
       "MAPAS Y NAVEGACIÓN         108\n",
       "ENTRETENIMIENTO            102\n",
       "COMIDA Y BEBIDA            100\n",
       "LIBRERIAS                   82\n",
       "VEHICULOS                   75\n",
       "CASA Y HOGAR                68\n",
       "ARTE Y DISEÑO               65\n",
       "EVENTOS                     57\n",
       "CLIMA                       57\n",
       "PADRES                      53\n",
       "HISTORIETAS                 50\n",
       "BELLEZA                     47\n",
       "Name: Categoría, dtype: int64"
      ]
     },
     "execution_count": 32,
     "metadata": {},
     "output_type": "execute_result"
    }
   ],
   "source": [
    "df.Categoría.value_counts()"
   ]
  },
  {
   "cell_type": "code",
   "execution_count": 24,
   "metadata": {},
   "outputs": [
    {
     "name": "stdout",
     "output_type": "stream",
     "text": [
      "<class 'pandas.core.frame.DataFrame'>\n",
      "Int64Index: 7725 entries, 0 to 9140\n",
      "Data columns (total 9 columns):\n",
      " #   Column         Non-Null Count  Dtype  \n",
      "---  ------         --------------  -----  \n",
      " 0   App            7725 non-null   object \n",
      " 1   Categoría      7725 non-null   object \n",
      " 2   Valoración     7725 non-null   float64\n",
      " 3   Comentarios    7725 non-null   float64\n",
      " 4   Tamaño(M)      7725 non-null   float64\n",
      " 5   Descargas      7725 non-null   float64\n",
      " 6   Tipo           7725 non-null   object \n",
      " 7   Precio         7725 non-null   float64\n",
      " 8   Clasificación  7725 non-null   object \n",
      "dtypes: float64(5), object(4)\n",
      "memory usage: 603.5+ KB\n"
     ]
    }
   ],
   "source": [
    "# Optamos por droppear las valoraciones nulas\n",
    "data = df\n",
    "apps = data.dropna(axis=0, how='any')\n",
    "apps.info()"
   ]
  },
  {
   "cell_type": "markdown",
   "metadata": {},
   "source": [
    "#### Separamos el dataset inicial en dos subset  para analizar las aplicaciones de pago por un lado, y por otro las gratis"
   ]
  },
  {
   "cell_type": "code",
   "execution_count": 27,
   "metadata": {},
   "outputs": [
    {
     "data": {
      "text/html": [
       "<div>\n",
       "<style scoped>\n",
       "    .dataframe tbody tr th:only-of-type {\n",
       "        vertical-align: middle;\n",
       "    }\n",
       "\n",
       "    .dataframe tbody tr th {\n",
       "        vertical-align: top;\n",
       "    }\n",
       "\n",
       "    .dataframe thead th {\n",
       "        text-align: right;\n",
       "    }\n",
       "</style>\n",
       "<table border=\"1\" class=\"dataframe\">\n",
       "  <thead>\n",
       "    <tr style=\"text-align: right;\">\n",
       "      <th></th>\n",
       "      <th>App</th>\n",
       "      <th>Categoría</th>\n",
       "      <th>Valoración</th>\n",
       "      <th>Comentarios</th>\n",
       "      <th>Tamaño(M)</th>\n",
       "      <th>Descargas</th>\n",
       "      <th>Tipo</th>\n",
       "      <th>Precio</th>\n",
       "      <th>Clasificación</th>\n",
       "    </tr>\n",
       "  </thead>\n",
       "  <tbody>\n",
       "    <tr>\n",
       "      <th>0</th>\n",
       "      <td>AJ Styles HD Wallpapers</td>\n",
       "      <td>ARTE Y DISEÑO</td>\n",
       "      <td>4.8</td>\n",
       "      <td>48.0</td>\n",
       "      <td>25.0</td>\n",
       "      <td>5000.0</td>\n",
       "      <td>Gratis</td>\n",
       "      <td>0.0</td>\n",
       "      <td>Todo público</td>\n",
       "    </tr>\n",
       "    <tr>\n",
       "      <th>1</th>\n",
       "      <td>I Creative Idea</td>\n",
       "      <td>ARTE Y DISEÑO</td>\n",
       "      <td>4.7</td>\n",
       "      <td>353.0</td>\n",
       "      <td>4.2</td>\n",
       "      <td>10000.0</td>\n",
       "      <td>Gratis</td>\n",
       "      <td>0.0</td>\n",
       "      <td>Adolescentes</td>\n",
       "    </tr>\n",
       "    <tr>\n",
       "      <th>2</th>\n",
       "      <td>Infinite Painter</td>\n",
       "      <td>ARTE Y DISEÑO</td>\n",
       "      <td>4.1</td>\n",
       "      <td>36815.0</td>\n",
       "      <td>29.0</td>\n",
       "      <td>1000000.0</td>\n",
       "      <td>Gratis</td>\n",
       "      <td>0.0</td>\n",
       "      <td>Todo público</td>\n",
       "    </tr>\n",
       "    <tr>\n",
       "      <th>3</th>\n",
       "      <td>FlipaClip - Cartoon animation</td>\n",
       "      <td>ARTE Y DISEÑO</td>\n",
       "      <td>4.3</td>\n",
       "      <td>194216.0</td>\n",
       "      <td>39.0</td>\n",
       "      <td>5000000.0</td>\n",
       "      <td>Gratis</td>\n",
       "      <td>0.0</td>\n",
       "      <td>Todo público</td>\n",
       "    </tr>\n",
       "    <tr>\n",
       "      <th>4</th>\n",
       "      <td>Text on Photo - Fonteee</td>\n",
       "      <td>ARTE Y DISEÑO</td>\n",
       "      <td>4.4</td>\n",
       "      <td>13880.0</td>\n",
       "      <td>28.0</td>\n",
       "      <td>1000000.0</td>\n",
       "      <td>Gratis</td>\n",
       "      <td>0.0</td>\n",
       "      <td>Todo público</td>\n",
       "    </tr>\n",
       "  </tbody>\n",
       "</table>\n",
       "</div>"
      ],
      "text/plain": [
       "                             App      Categoría  Valoración  Comentarios  \\\n",
       "0        AJ Styles HD Wallpapers  ARTE Y DISEÑO         4.8         48.0   \n",
       "1                I Creative Idea  ARTE Y DISEÑO         4.7        353.0   \n",
       "2               Infinite Painter  ARTE Y DISEÑO         4.1      36815.0   \n",
       "3  FlipaClip - Cartoon animation  ARTE Y DISEÑO         4.3     194216.0   \n",
       "4        Text on Photo - Fonteee  ARTE Y DISEÑO         4.4      13880.0   \n",
       "\n",
       "   Tamaño(M)  Descargas    Tipo  Precio Clasificación  \n",
       "0       25.0     5000.0  Gratis     0.0  Todo público  \n",
       "1        4.2    10000.0  Gratis     0.0  Adolescentes  \n",
       "2       29.0  1000000.0  Gratis     0.0  Todo público  \n",
       "3       39.0  5000000.0  Gratis     0.0  Todo público  \n",
       "4       28.0  1000000.0  Gratis     0.0  Todo público  "
      ]
     },
     "execution_count": 27,
     "metadata": {},
     "output_type": "execute_result"
    }
   ],
   "source": [
    "free_apps = apps[apps.Tipo == \"Gratis\"]\n",
    "paid_apps = apps[apps.Tipo == \"Pago\"]\n",
    "\n",
    "free_apps.head()"
   ]
  },
  {
   "cell_type": "code",
   "execution_count": 29,
   "metadata": {},
   "outputs": [
    {
     "data": {
      "text/html": [
       "<div>\n",
       "<style scoped>\n",
       "    .dataframe tbody tr th:only-of-type {\n",
       "        vertical-align: middle;\n",
       "    }\n",
       "\n",
       "    .dataframe tbody tr th {\n",
       "        vertical-align: top;\n",
       "    }\n",
       "\n",
       "    .dataframe thead th {\n",
       "        text-align: right;\n",
       "    }\n",
       "</style>\n",
       "<table border=\"1\" class=\"dataframe\">\n",
       "  <thead>\n",
       "    <tr style=\"text-align: right;\">\n",
       "      <th></th>\n",
       "      <th>App</th>\n",
       "      <th>Categoría</th>\n",
       "      <th>Valoración</th>\n",
       "      <th>Comentarios</th>\n",
       "      <th>Tamaño(M)</th>\n",
       "      <th>Descargas</th>\n",
       "      <th>Tipo</th>\n",
       "      <th>Precio</th>\n",
       "      <th>Clasificación</th>\n",
       "    </tr>\n",
       "  </thead>\n",
       "  <tbody>\n",
       "    <tr>\n",
       "      <th>11</th>\n",
       "      <td>X Launcher Prime: With OS Style Theme &amp; No Ads</td>\n",
       "      <td>ARTE Y DISEÑO</td>\n",
       "      <td>4.7</td>\n",
       "      <td>149.0</td>\n",
       "      <td>3.5</td>\n",
       "      <td>1000.0</td>\n",
       "      <td>Pago</td>\n",
       "      <td>1.99</td>\n",
       "      <td>Todo público</td>\n",
       "    </tr>\n",
       "    <tr>\n",
       "      <th>32</th>\n",
       "      <td>X Launcher Pro - IOS Style Theme &amp; Control Center</td>\n",
       "      <td>ARTE Y DISEÑO</td>\n",
       "      <td>4.8</td>\n",
       "      <td>1216.0</td>\n",
       "      <td>8.6</td>\n",
       "      <td>10000.0</td>\n",
       "      <td>Pago</td>\n",
       "      <td>1.99</td>\n",
       "      <td>Todo público</td>\n",
       "    </tr>\n",
       "    <tr>\n",
       "      <th>59</th>\n",
       "      <td>X Launcher Pro: PhoneX Theme, OS11 Control Center</td>\n",
       "      <td>ARTE Y DISEÑO</td>\n",
       "      <td>4.7</td>\n",
       "      <td>801.0</td>\n",
       "      <td>3.5</td>\n",
       "      <td>5000.0</td>\n",
       "      <td>Pago</td>\n",
       "      <td>1.99</td>\n",
       "      <td>Todo público</td>\n",
       "    </tr>\n",
       "    <tr>\n",
       "      <th>201</th>\n",
       "      <td>MyRadar NOAA Weather Radar Ad Free</td>\n",
       "      <td>CLIMA</td>\n",
       "      <td>4.5</td>\n",
       "      <td>3005.0</td>\n",
       "      <td>26.0</td>\n",
       "      <td>10000.0</td>\n",
       "      <td>Pago</td>\n",
       "      <td>2.99</td>\n",
       "      <td>Todo público</td>\n",
       "    </tr>\n",
       "    <tr>\n",
       "      <th>207</th>\n",
       "      <td>Weather Forecast Pro</td>\n",
       "      <td>CLIMA</td>\n",
       "      <td>4.7</td>\n",
       "      <td>14051.0</td>\n",
       "      <td>8.7</td>\n",
       "      <td>100000.0</td>\n",
       "      <td>Pago</td>\n",
       "      <td>3.99</td>\n",
       "      <td>Todo público</td>\n",
       "    </tr>\n",
       "  </tbody>\n",
       "</table>\n",
       "</div>"
      ],
      "text/plain": [
       "                                                   App      Categoría  \\\n",
       "11      X Launcher Prime: With OS Style Theme & No Ads  ARTE Y DISEÑO   \n",
       "32   X Launcher Pro - IOS Style Theme & Control Center  ARTE Y DISEÑO   \n",
       "59   X Launcher Pro: PhoneX Theme, OS11 Control Center  ARTE Y DISEÑO   \n",
       "201                 MyRadar NOAA Weather Radar Ad Free          CLIMA   \n",
       "207                               Weather Forecast Pro          CLIMA   \n",
       "\n",
       "     Valoración  Comentarios  Tamaño(M)  Descargas  Tipo  Precio Clasificación  \n",
       "11          4.7        149.0        3.5     1000.0  Pago    1.99  Todo público  \n",
       "32          4.8       1216.0        8.6    10000.0  Pago    1.99  Todo público  \n",
       "59          4.7        801.0        3.5     5000.0  Pago    1.99  Todo público  \n",
       "201         4.5       3005.0       26.0    10000.0  Pago    2.99  Todo público  \n",
       "207         4.7      14051.0        8.7   100000.0  Pago    3.99  Todo público  "
      ]
     },
     "execution_count": 29,
     "metadata": {},
     "output_type": "execute_result"
    }
   ],
   "source": [
    "paid_apps.head()"
   ]
  },
  {
   "cell_type": "markdown",
   "metadata": {},
   "source": [
    "## Análisis de correlaciones de las aplicaciones gratis"
   ]
  },
  {
   "cell_type": "code",
   "execution_count": null,
   "metadata": {},
   "outputs": [
    {
     "ename": "NameError",
     "evalue": "name 'sbn' is not defined",
     "output_type": "error",
     "traceback": [
      "\u001b[1;31m---------------------------------------------------------------------------\u001b[0m",
      "\u001b[1;31mNameError\u001b[0m                                 Traceback (most recent call last)",
      "\u001b[1;32m<ipython-input-2-c16b72e50dd1>\u001b[0m in \u001b[0;36m<module>\u001b[1;34m\u001b[0m\n\u001b[1;32m----> 1\u001b[1;33m sbn.set(\n\u001b[0m\u001b[0;32m      2\u001b[0m     rc={\n\u001b[0;32m      3\u001b[0m         \u001b[1;34m'figure.figsize'\u001b[0m \u001b[1;33m:\u001b[0m \u001b[1;33m(\u001b[0m\u001b[1;36m10\u001b[0m\u001b[1;33m,\u001b[0m\u001b[1;36m10\u001b[0m\u001b[1;33m)\u001b[0m\u001b[1;33m\u001b[0m\u001b[1;33m\u001b[0m\u001b[0m\n\u001b[0;32m      4\u001b[0m     }\n\u001b[0;32m      5\u001b[0m )\n",
      "\u001b[1;31mNameError\u001b[0m: name 'sbn' is not defined"
     ]
    }
   ],
   "source": [
    "sbn.set(\n",
    "    rc={\n",
    "        'figure.figsize' : (10,10)\n",
    "    }\n",
    ")\n",
    "sbn.heatmap(\n",
    "    free_apps.corr(),\n",
    "    annot=True\n",
    ")"
   ]
  },
  {
   "cell_type": "markdown",
   "metadata": {},
   "source": [
    "## Análisis de correlaciones de las aplicaciones de pago"
   ]
  },
  {
   "cell_type": "code",
   "execution_count": 4,
   "metadata": {},
   "outputs": [
    {
     "ename": "NameError",
     "evalue": "name 'paid_apps' is not defined",
     "output_type": "error",
     "traceback": [
      "\u001b[1;31m---------------------------------------------------------------------------\u001b[0m",
      "\u001b[1;31mNameError\u001b[0m                                 Traceback (most recent call last)",
      "\u001b[1;32m<ipython-input-4-810fda64cd9e>\u001b[0m in \u001b[0;36m<module>\u001b[1;34m\u001b[0m\n\u001b[0;32m      5\u001b[0m )\n\u001b[0;32m      6\u001b[0m sbn.heatmap(\n\u001b[1;32m----> 7\u001b[1;33m     \u001b[0mpaid_apps\u001b[0m\u001b[1;33m.\u001b[0m\u001b[0mcorr\u001b[0m\u001b[1;33m(\u001b[0m\u001b[1;33m)\u001b[0m\u001b[1;33m,\u001b[0m\u001b[1;33m\u001b[0m\u001b[1;33m\u001b[0m\u001b[0m\n\u001b[0m\u001b[0;32m      8\u001b[0m     \u001b[0mannot\u001b[0m\u001b[1;33m=\u001b[0m\u001b[1;32mTrue\u001b[0m\u001b[1;33m\u001b[0m\u001b[1;33m\u001b[0m\u001b[0m\n\u001b[0;32m      9\u001b[0m )\n",
      "\u001b[1;31mNameError\u001b[0m: name 'paid_apps' is not defined"
     ]
    }
   ],
   "source": [
    "sbn.set(\n",
    "    rc={\n",
    "        'figure.figsize' : (10,10)\n",
    "    }\n",
    ")\n",
    "sbn.heatmap(\n",
    "    paid_apps.corr(),\n",
    "    annot=True\n",
    ")"
   ]
  },
  {
   "cell_type": "code",
   "execution_count": 35,
   "metadata": {},
   "outputs": [
    {
     "data": {
      "text/plain": [
       "[<matplotlib.lines.Line2D at 0x1cbe5c0dbe0>]"
      ]
     },
     "execution_count": 35,
     "metadata": {},
     "output_type": "execute_result"
    },
    {
     "data": {
      "image/png": "[encoded data removed]",
      "text/plain": [
       "<Figure size 720x720 with 1 Axes>"
      ]
     },
     "metadata": {},
     "output_type": "display_data"
    }
   ],
   "source": [
    "plt.plot(paid_apps.Descargas, paid_apps.Comentarios, 'ro')"
   ]
  },
  {
   "cell_type": "code",
   "execution_count": 37,
   "metadata": {},
   "outputs": [
    {
     "data": {
      "text/plain": [
       "[<matplotlib.lines.Line2D at 0x1cbe69030a0>]"
      ]
     },
     "execution_count": 37,
     "metadata": {},
     "output_type": "execute_result"
    },
    {
     "data": {
      "image/png": "[encoded data removed]",
      "text/plain": [
       "<Figure size 720x720 with 1 Axes>"
      ]
     },
     "metadata": {},
     "output_type": "display_data"
    }
   ],
   "source": [
    "plt.plot(paid_apps.Precio, paid_apps.Descargas, 'ro')"
   ]
  },
  {
   "cell_type": "code",
   "execution_count": 46,
   "metadata": {},
   "outputs": [
    {
     "data": {
      "text/plain": [
       "<AxesSubplot:xlabel='Precio', ylabel='Comentarios'>"
      ]
     },
     "execution_count": 46,
     "metadata": {},
     "output_type": "execute_result"
    },
    {
     "data": {
      "image/png": "[encoded data removed]",
      "text/plain": [
       "<Figure size 720x720 with 1 Axes>"
      ]
     },
     "metadata": {},
     "output_type": "display_data"
    }
   ],
   "source": [
    "# Dropeamos valor atípico para concentrarnos en la tendencia central de los datos\n",
    "paid_apps = paid_apps[paid_apps.Precio < 400]\n",
    "sbn.histplot(data=paid_apps, x='Precio', y='Comentarios')"
   ]
  },
  {
   "cell_type": "markdown",
   "metadata": {},
   "source": [
    "## Continuamos trabajando el dataset inicial"
   ]
  },
  {
   "cell_type": "code",
   "execution_count": 66,
   "metadata": {},
   "outputs": [
    {
     "name": "stderr",
     "output_type": "stream",
     "text": [
      "<ipython-input-66-00716a5e827b>:1: SettingWithCopyWarning: \n",
      "A value is trying to be set on a copy of a slice from a DataFrame.\n",
      "Try using .loc[row_indexer,col_indexer] = value instead\n",
      "\n",
      "See the caveats in the documentation: https://pandas.pydata.org/pandas-docs/stable/user_guide/indexing.html#returning-a-view-versus-a-copy\n",
      "  apps['Gratis'] = [1 if ele  == \"Gratis\" else 0 for ele in apps.Tipo]\n",
      "<ipython-input-66-00716a5e827b>:2: SettingWithCopyWarning: \n",
      "A value is trying to be set on a copy of a slice from a DataFrame.\n",
      "Try using .loc[row_indexer,col_indexer] = value instead\n",
      "\n",
      "See the caveats in the documentation: https://pandas.pydata.org/pandas-docs/stable/user_guide/indexing.html#returning-a-view-versus-a-copy\n",
      "  apps['Pagada'] = [1 if ele  == \"Pago\" else 0 for ele in apps.Tipo]\n"
     ]
    },
    {
     "data": {
      "text/html": [
       "<div>\n",
       "<style scoped>\n",
       "    .dataframe tbody tr th:only-of-type {\n",
       "        vertical-align: middle;\n",
       "    }\n",
       "\n",
       "    .dataframe tbody tr th {\n",
       "        vertical-align: top;\n",
       "    }\n",
       "\n",
       "    .dataframe thead th {\n",
       "        text-align: right;\n",
       "    }\n",
       "</style>\n",
       "<table border=\"1\" class=\"dataframe\">\n",
       "  <thead>\n",
       "    <tr style=\"text-align: right;\">\n",
       "      <th></th>\n",
       "      <th>App</th>\n",
       "      <th>Categoría</th>\n",
       "      <th>Valoración</th>\n",
       "      <th>Comentarios</th>\n",
       "      <th>Tamaño(M)</th>\n",
       "      <th>Descargas</th>\n",
       "      <th>Tipo</th>\n",
       "      <th>Precio</th>\n",
       "      <th>Clasificación</th>\n",
       "      <th>Gratis</th>\n",
       "      <th>Pagada</th>\n",
       "    </tr>\n",
       "  </thead>\n",
       "  <tbody>\n",
       "    <tr>\n",
       "      <th>0</th>\n",
       "      <td>AJ Styles HD Wallpapers</td>\n",
       "      <td>ARTE Y DISEÑO</td>\n",
       "      <td>4.8</td>\n",
       "      <td>48.0</td>\n",
       "      <td>25.0</td>\n",
       "      <td>5000.0</td>\n",
       "      <td>Gratis</td>\n",
       "      <td>0.0</td>\n",
       "      <td>Todo público</td>\n",
       "      <td>1</td>\n",
       "      <td>0</td>\n",
       "    </tr>\n",
       "    <tr>\n",
       "      <th>1</th>\n",
       "      <td>I Creative Idea</td>\n",
       "      <td>ARTE Y DISEÑO</td>\n",
       "      <td>4.7</td>\n",
       "      <td>353.0</td>\n",
       "      <td>4.2</td>\n",
       "      <td>10000.0</td>\n",
       "      <td>Gratis</td>\n",
       "      <td>0.0</td>\n",
       "      <td>Adolescentes</td>\n",
       "      <td>1</td>\n",
       "      <td>0</td>\n",
       "    </tr>\n",
       "    <tr>\n",
       "      <th>2</th>\n",
       "      <td>Infinite Painter</td>\n",
       "      <td>ARTE Y DISEÑO</td>\n",
       "      <td>4.1</td>\n",
       "      <td>36815.0</td>\n",
       "      <td>29.0</td>\n",
       "      <td>1000000.0</td>\n",
       "      <td>Gratis</td>\n",
       "      <td>0.0</td>\n",
       "      <td>Todo público</td>\n",
       "      <td>1</td>\n",
       "      <td>0</td>\n",
       "    </tr>\n",
       "    <tr>\n",
       "      <th>3</th>\n",
       "      <td>FlipaClip - Cartoon animation</td>\n",
       "      <td>ARTE Y DISEÑO</td>\n",
       "      <td>4.3</td>\n",
       "      <td>194216.0</td>\n",
       "      <td>39.0</td>\n",
       "      <td>5000000.0</td>\n",
       "      <td>Gratis</td>\n",
       "      <td>0.0</td>\n",
       "      <td>Todo público</td>\n",
       "      <td>1</td>\n",
       "      <td>0</td>\n",
       "    </tr>\n",
       "    <tr>\n",
       "      <th>4</th>\n",
       "      <td>Text on Photo - Fonteee</td>\n",
       "      <td>ARTE Y DISEÑO</td>\n",
       "      <td>4.4</td>\n",
       "      <td>13880.0</td>\n",
       "      <td>28.0</td>\n",
       "      <td>1000000.0</td>\n",
       "      <td>Gratis</td>\n",
       "      <td>0.0</td>\n",
       "      <td>Todo público</td>\n",
       "      <td>1</td>\n",
       "      <td>0</td>\n",
       "    </tr>\n",
       "  </tbody>\n",
       "</table>\n",
       "</div>"
      ],
      "text/plain": [
       "                             App      Categoría  Valoración  Comentarios  \\\n",
       "0        AJ Styles HD Wallpapers  ARTE Y DISEÑO         4.8         48.0   \n",
       "1                I Creative Idea  ARTE Y DISEÑO         4.7        353.0   \n",
       "2               Infinite Painter  ARTE Y DISEÑO         4.1      36815.0   \n",
       "3  FlipaClip - Cartoon animation  ARTE Y DISEÑO         4.3     194216.0   \n",
       "4        Text on Photo - Fonteee  ARTE Y DISEÑO         4.4      13880.0   \n",
       "\n",
       "   Tamaño(M)  Descargas    Tipo  Precio Clasificación  Gratis  Pagada  \n",
       "0       25.0     5000.0  Gratis     0.0  Todo público       1       0  \n",
       "1        4.2    10000.0  Gratis     0.0  Adolescentes       1       0  \n",
       "2       29.0  1000000.0  Gratis     0.0  Todo público       1       0  \n",
       "3       39.0  5000000.0  Gratis     0.0  Todo público       1       0  \n",
       "4       28.0  1000000.0  Gratis     0.0  Todo público       1       0  "
      ]
     },
     "execution_count": 66,
     "metadata": {},
     "output_type": "execute_result"
    }
   ],
   "source": [
    "apps['Gratis'] = [1 if ele  == \"Gratis\" else 0 for ele in apps.Tipo]\n",
    "apps['Pagada'] = [1 if ele  == \"Pago\" else 0 for ele in apps.Tipo]\n",
    "apps[apps['Tipo']!='Pago'].head()\n"
   ]
  },
  {
   "cell_type": "code",
   "execution_count": 68,
   "metadata": {},
   "outputs": [
    {
     "data": {
      "text/plain": [
       "<AxesSubplot:>"
      ]
     },
     "execution_count": 68,
     "metadata": {},
     "output_type": "execute_result"
    },
    {
     "data": {
      "image/png": "[encoded data removed]",
      "text/plain": [
       "<Figure size 720x720 with 2 Axes>"
      ]
     },
     "metadata": {},
     "output_type": "display_data"
    }
   ],
   "source": [
    "sbn.heatmap(apps.corr(), annot=True)"
   ]
  },
  {
   "cell_type": "markdown",
   "metadata": {
    "id": "_CI6ykiX6j35"
   },
   "source": [
    "## Plantée sus preguntas acá"
   ]
  },
  {
   "cell_type": "markdown",
   "metadata": {},
   "source": [
    "¿Cómo se relaciona la valoración del producto con el precio y la cantidad de descargas?\n",
    "¿Qué tan probable"
   ]
  },
  {
   "cell_type": "markdown",
   "metadata": {
    "id": "zhQTxlFZ0MLT"
   },
   "source": [
    "# Propuesta de limpieza\n"
   ]
  },
  {
   "cell_type": "markdown",
   "metadata": {
    "id": "qLqx2TAo5PDe"
   },
   "source": [
    "## Escribir una pequeña reseña de los resultados analizados y las correlaciones que  usaría para implementar un modelo de Machine Learning."
   ]
  },
  {
   "cell_type": "markdown",
   "metadata": {
    "id": "4iM-5K-vWgxt"
   },
   "source": [
    "# Implemente sus modelos desde aquí"
   ]
  },
  {
   "cell_type": "code",
   "execution_count": null,
   "metadata": {},
   "outputs": [],
   "source": []
  },
  {
   "cell_type": "markdown",
   "metadata": {
    "id": "q9VlRdVVW9F1"
   },
   "source": [
    "# Evalúe sus modelos"
   ]
  },
  {
   "cell_type": "markdown",
   "metadata": {
    "id": "8HwtjkpqW4Is"
   },
   "source": [
    "# Responda las preguntas planteadas"
   ]
  }
 ],
 "metadata": {
  "colab": {
   "collapsed_sections": [],
   "name": "Estructura_Evaluación Final.ipynb",
   "provenance": [],
   "toc_visible": true
  },
  "kernelspec": {
   "display_name": "Python 3",
   "language": "python",
   "name": "python3"
  },
  "language_info": {
   "codemirror_mode": {
    "name": "ipython",
    "version": 3
   },
   "file_extension": ".py",
   "mimetype": "text/x-python",
   "name": "python",
   "nbconvert_exporter": "python",
   "pygments_lexer": "ipython3",
   "version": "3.8.8"
  }
 },
 "nbformat": 4,
 "nbformat_minor": 4
}
