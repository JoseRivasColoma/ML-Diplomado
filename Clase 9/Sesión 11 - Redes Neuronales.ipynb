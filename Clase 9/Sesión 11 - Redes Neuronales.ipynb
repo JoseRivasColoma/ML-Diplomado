{
 "cells": [
  {
   "cell_type": "markdown",
   "metadata": {
    "id": "pvv0e6EPlGf8"
   },
   "source": [
    "#Sesión 11 - Diplomado Data Science Duoc UC\r\n",
    "\r\n",
    "# Módulo: Machine Learning\r\n",
    "\r\n",
    "A continuación, aprenderás como son los sistemas de reconocimiento de imágenes con el uso de redes neuronales.\r\n",
    "\r\n",
    "**Recuerda almacenar una copia de este Jupyter Notebook con todos los recursos adicionales en tu Google Drive para poder ejecutar los bloques de código.**\r\n",
    "\r\n",
    "\r\n",
    "---"
   ]
  },
  {
   "cell_type": "markdown",
   "metadata": {
    "id": "u8ViiNzhso38"
   },
   "source": [
    "# Descripción o Motivación\r\n",
    "La actividad que se realizará a continuación, está basada en el reconocimiento de figuras geométricas (clasificación) a través del uso de Redes Neuronales de tipo Convolucionales.\r\n",
    "\r\n",
    "Las figuras que utilizaremos son Círculos, Cuadrados, Estrellas y Triángulos.\r\n"
   ]
  },
  {
   "cell_type": "markdown",
   "metadata": {
    "id": "vWThyvOilGgd"
   },
   "source": [
    "# Importar Librerías"
   ]
  },
  {
   "cell_type": "code",
   "execution_count": null,
   "metadata": {
    "ExecuteTime": {
     "end_time": "2018-11-08T00:12:59.231970Z",
     "start_time": "2018-11-08T00:12:51.800950Z"
    },
    "id": "mPt-Qb-blGgf"
   },
   "outputs": [],
   "source": [
    "import numpy as np\n",
    "import os\n",
    "import re\n",
    "import matplotlib.pyplot as plt\n",
    "%matplotlib inline\n",
    "from sklearn.model_selection import train_test_split\n",
    "from sklearn.metrics import classification_report"
   ]
  },
  {
   "cell_type": "code",
   "execution_count": null,
   "metadata": {
    "ExecuteTime": {
     "end_time": "2018-11-08T00:13:12.550878Z",
     "start_time": "2018-11-08T00:12:59.234748Z"
    },
    "id": "l_9fEMVOlGgl"
   },
   "outputs": [],
   "source": [
    "import keras\n",
    "from keras.utils import to_categorical\n",
    "from keras.models import Sequential,Input,Model\n",
    "from keras.layers import Dense, Dropout, Flatten\n",
    "from keras.layers import Conv2D, MaxPooling2D\n",
    "from keras.layers.normalization import BatchNormalization\n",
    "from keras.layers.advanced_activations import LeakyReLU"
   ]
  },
  {
   "cell_type": "markdown",
   "metadata": {
    "id": "WcajtT5FlGgo"
   },
   "source": [
    "# Cargar set de Imágenes"
   ]
  },
  {
   "cell_type": "code",
   "execution_count": null,
   "metadata": {
    "colab": {
     "base_uri": "https://localhost:8080/"
    },
    "executionInfo": {
     "elapsed": 33691,
     "status": "ok",
     "timestamp": 1608534751729,
     "user": {
      "displayName": "Claudia Bustamante",
      "photoUrl": "https://lh3.googleusercontent.com/a-/AOh14Gj3gB09vTQ6fCofKnHVD8yQjWD6eZDeT5aOpUTHBw=s64",
      "userId": "11580939077059969713"
     },
     "user_tz": 180
    },
    "id": "B--3-snRuvbp",
    "outputId": "35440abd-ce6b-4d45-dd9f-ffefac340229"
   },
   "outputs": [
    {
     "name": "stdout",
     "output_type": "stream",
     "text": [
      "Mounting your Google Drive ...\n",
      "Drive not mounted, so nothing to flush and unmount.\n",
      "Mounted at /content/drive\n",
      " Ejercicio_CNN.ipynb  'Figuras Geométricas'   test\n"
     ]
    }
   ],
   "source": [
    "print(\"Mounting your Google Drive ...\")\r\n",
    "\r\n",
    "from google.colab import drive\r\n",
    "drive.flush_and_unmount()\r\n",
    "drive.mount('/content/drive',force_remount=True)\r\n",
    " \r\n",
    "path = \"/content/drive/My Drive/Diplomado DS Duoc/Sesión 11 - Redes Neuronales y Reconocimiento de Imágenes/\"#Esta es la ruta\r\n",
    "!ls /content/drive/My\\ Drive/Diplomado\\ DS\\ Duoc/Sesión\\ 11\\ -\\ Redes\\ Neuronales\\ y\\ Reconocimiento\\ de\\ Imágenes/\r\n"
   ]
  },
  {
   "cell_type": "code",
   "execution_count": null,
   "metadata": {
    "ExecuteTime": {
     "end_time": "2018-11-08T00:16:45.248080Z",
     "start_time": "2018-11-08T00:13:12.553292Z"
    },
    "colab": {
     "base_uri": "https://localhost:8080/"
    },
    "executionInfo": {
     "elapsed": 23123,
     "status": "ok",
     "timestamp": 1608534993965,
     "user": {
      "displayName": "Claudia Bustamante",
      "photoUrl": "https://lh3.googleusercontent.com/a-/AOh14Gj3gB09vTQ6fCofKnHVD8yQjWD6eZDeT5aOpUTHBw=s64",
      "userId": "11580939077059969713"
     },
     "user_tz": 180
    },
    "id": "BZBDXT2ulGgp",
    "outputId": "29f6f2f9-cd40-4ef0-989b-1bb3b0ce773b",
    "scrolled": true
   },
   "outputs": [
    {
     "name": "stdout",
     "output_type": "stream",
     "text": [
      "leyendo imagenes de  /content/drive/My Drive/Diplomado DS Duoc/Sesión 11 - Redes Neuronales y Reconocimiento de Imágenes/Figuras Geométricas/\n",
      "estrella1(1).jpg   (34, 50, 3)\n",
      "/content/drive/My Drive/Diplomado DS Duoc/Sesión 11 - Redes Neuronales y Reconocimiento de Imágenes/Figuras Geométricas/Estrellas 1\n",
      "estrella2(1).jpg   (34, 50, 3)\n",
      "estrella4(1).jpg   (34, 50, 3)\n",
      "estrella6(1).jpg   (34, 50, 3)\n",
      "estrella7(1).jpg   (34, 50, 3)\n",
      "estrella8(1).jpg   (34, 50, 3)\n",
      "estrella9(1).jpg   (34, 50, 3)\n",
      "estrella10(1).jpg   (34, 50, 3)\n",
      "estrella5(1).jpg   (34, 50, 3)\n",
      "estrella3(1).jpg   (34, 50, 3)\n",
      "Estrella.jpg   (34, 50, 3)\n",
      "Estrella1.jpg   (34, 50, 3)\n",
      "Estrella2.jpg   (34, 50, 3)\n",
      "Estrella3.jpg   (34, 50, 3)\n",
      "Estrella4.jpg   (34, 50, 3)\n",
      "Estrella5.jpg   (34, 50, 3)\n",
      "Estrella6.jpg   (34, 50, 3)\n",
      "Estrella7.jpg   (34, 50, 3)\n",
      "Estrella8.jpg   (34, 50, 3)\n",
      "Estrella9.jpg   (34, 50, 3)\n",
      "Estrella10.jpg   (34, 50, 3)\n",
      "Estrella11.jpg   (34, 50, 3)\n",
      "images (1).jpg   (34, 50, 3)\n",
      "image8s.jpg   (34, 50, 3)\n",
      "images444.jpg   (34, 50, 3)\n",
      "images (6).jpg   (34, 50, 3)\n",
      "images (5).jpg   (34, 50, 3)\n",
      "images (2).jpg   (34, 50, 3)\n",
      "images (3).jpg   (34, 50, 3)\n",
      "imagesr (4).jpg   (34, 50, 3)\n",
      "images (4).jpg   (34, 50, 3)\n",
      "imagest (3).jpg   (34, 50, 3)\n",
      "descarga.jpg   (34, 50, 3)\n",
      "descarga (2).jpg   (34, 50, 3)\n",
      "imagestrella+} (1).jpg   (34, 50, 3)\n",
      "descarga (1).jpg   (34, 50, 3)\n",
      "imagestr (2).jpg   (34, 50, 3)\n",
      "C1.jpg   (34, 50, 3)\n",
      "/content/drive/My Drive/Diplomado DS Duoc/Sesión 11 - Redes Neuronales y Reconocimiento de Imágenes/Figuras Geométricas/Cuadrados 37\n",
      "images (1).jpg   (34, 50, 3)\n",
      "images.jpg   (34, 50, 3)\n",
      "cuadrado-blanco-sobre-fondo-blanco-malevich-1918-1-728.jpg   (34, 50, 3)\n",
      "c10.jpg   (34, 50, 3)\n",
      "c11.jpg   (34, 50, 3)\n",
      "c12.jpg   (34, 50, 3)\n",
      "c14.jpg   (34, 50, 3)\n",
      "c15.jpg   (34, 50, 3)\n",
      "c16.jpg   (34, 50, 3)\n",
      "c17.jpg   (34, 50, 3)\n",
      "c18.jpg   (34, 50, 3)\n",
      "c19.jpg   (34, 50, 3)\n",
      "c20.jpg   (34, 50, 3)\n",
      "c21.jpg   (34, 50, 3)\n",
      "c23.jpg   (34, 50, 3)\n",
      "c24.jpg   (34, 50, 3)\n",
      "c25.jpg   (34, 50, 3)\n",
      "c27.jpg   (34, 50, 3)\n",
      "c28.jpg   (34, 50, 3)\n",
      "c29.jpg   (34, 50, 3)\n",
      "c50.jpg   (34, 50, 3)\n",
      "c51.jpg   (34, 50, 3)\n",
      "c52.jpg   (34, 50, 3)\n",
      "c55.jpg   (34, 50, 3)\n",
      "c56.jpg   (34, 50, 3)\n",
      "c57.jpg   (34, 50, 3)\n",
      "c58.jpg   (34, 50, 3)\n",
      "c59.jpg   (34, 50, 3)\n",
      "c60.jpg   (34, 50, 3)\n",
      "Copia de c52.jpg   (34, 50, 3)\n",
      "descarga (1).jpg   (34, 50, 3)\n",
      "/content/drive/My Drive/Diplomado DS Duoc/Sesión 11 - Redes Neuronales y Reconocimiento de Imágenes/Figuras Geométricas/Circulos 31\n",
      "descarga (2).jpg   (34, 50, 3)\n",
      "descarga (3).jpg   (34, 50, 3)\n",
      "4ce558ec1c8b7033f4500c799eabae33-c--rculos-de-destino-icono-de-cuatro-c--rculos-by-vexels.jpg   (34, 50, 3)\n",
      "descarga.jpg   (34, 50, 3)\n",
      "images (1).jpg   (34, 50, 3)\n",
      "imagest (2).jpg   (34, 50, 3)\n",
      "imagese (3).jpg   (34, 50, 3)\n",
      "images (3).jpg   (34, 50, 3)\n",
      "images (4).jpg   (34, 50, 3)\n",
      "images44 (4).jpg   (34, 50, 3)\n",
      "images (5).jpg   (34, 50, 3)\n",
      "image1s (5).jpg   (34, 50, 3)\n",
      "images (6).jpg   (34, 50, 3)\n",
      "images0 (6).jpg   (34, 50, 3)\n",
      "images99 (7).jpg   (34, 50, 3)\n",
      "images77 (8).jpg   (34, 50, 3)\n",
      "imagescirculo.jpg   (34, 50, 3)\n",
      "circulo10.jpg   (34, 50, 3)\n",
      "circulo2.jpg   (34, 50, 3)\n",
      "circulo8.jpg   (34, 50, 3)\n",
      "circulo6.jpg   (34, 50, 3)\n",
      "circulo7.jpg   (34, 50, 3)\n",
      "circulo3.jpg   (34, 50, 3)\n",
      "circulo4.jpg   (34, 50, 3)\n",
      "t1.jpg   (34, 50, 3)\n",
      "/content/drive/My Drive/Diplomado DS Duoc/Sesión 11 - Redes Neuronales y Reconocimiento de Imágenes/Figuras Geométricas/Triangulos 25\n",
      "t3.jpg   (34, 50, 3)\n",
      "t2.jpg   (34, 50, 3)\n",
      "t10.jpg   (34, 50, 3)\n",
      "t11.jpg   (34, 50, 3)\n",
      "t12.jpg   (34, 50, 3)\n",
      "t13.jpg   (34, 50, 3)\n",
      "t15.jpg   (34, 50, 3)\n",
      "t20.jpg   (34, 50, 3)\n",
      "t21.jpg   (34, 50, 3)\n",
      "t22.jpg   (34, 50, 3)\n",
      "t23.jpg   (34, 50, 3)\n",
      "t25.jpg   (34, 50, 3)\n",
      "t26.jpg   (34, 50, 3)\n",
      "t27.jpg   (34, 50, 3)\n",
      "t28.jpg   (34, 50, 3)\n",
      "t29.jpg   (34, 50, 3)\n",
      "t30.jpg   (34, 50, 3)\n",
      "t31.jpg   (34, 50, 3)\n",
      "t33.jpg   (34, 50, 3)\n",
      "t36.jpg   (34, 50, 3)\n",
      "t37.jpg   (34, 50, 3)\n",
      "t38.jpg   (34, 50, 3)\n",
      "t40.jpg   (34, 50, 3)\n",
      "t41.jpg   (34, 50, 3)\n",
      "t42.jpg   (34, 50, 3)\n",
      "t44.jpg   (34, 50, 3)\n",
      "t46.jpg   (34, 50, 3)\n",
      "Directorios leidos: 4\n",
      "Imagenes en cada directorio [38, 31, 25, 27]\n",
      "suma Total de imagenes en subdirs: 121\n"
     ]
    }
   ],
   "source": [
    "dirname = os.path.join(path, 'Figuras Geométricas')\n",
    "imgpath = dirname + os.sep \n",
    "\n",
    "images = []\n",
    "directories = []\n",
    "dircount = []\n",
    "prevRoot=''\n",
    "cant=0\n",
    "\n",
    "print(\"leyendo imagenes de \",imgpath)\n",
    "\n",
    "for root, dirnames, filenames in os.walk(imgpath):\n",
    "    for filename in filenames:\n",
    "        if re.search(\"\\.(jpg|jpeg|png|bmp|tiff)$\", filename):\n",
    "            cant=cant+1\n",
    "            filepath = os.path.join(root, filename)\n",
    "            image = plt.imread(filepath)\n",
    "            print(filename,' ',image.shape) #Imprimimos para identificar las imágenes erróneas en shape\n",
    "            images.append(image)\n",
    "            #print(images[cant-1])\n",
    "            b = \"Leyendo...\" + str(cant)\n",
    "            print (b, end=\"\\r\")\n",
    "            if prevRoot !=root:\n",
    "                print(root, cant)\n",
    "                prevRoot=root\n",
    "                directories.append(root)\n",
    "                dircount.append(cant)\n",
    "                cant=0\n",
    "dircount.append(cant)\n",
    "\n",
    "dircount = dircount[1:]\n",
    "dircount[0]=dircount[0]+1\n",
    "print('Directorios leidos:',len(directories))\n",
    "print(\"Imagenes en cada directorio\", dircount)\n",
    "print('suma Total de imagenes en subdirs:',sum(dircount))\n"
   ]
  },
  {
   "cell_type": "markdown",
   "metadata": {
    "id": "7rET9flTmXqt"
   },
   "source": [
    "Las imágenes en png con transparencia contienen un 4to canal de color que no era reconocida por la lectura de imágenes. Una imagen sin transparencia tiene 3 (RGB)\r\n",
    "\r\n",
    "\r\n",
    "Imagen normal shape(34,50,3)\r\n",
    "Imagen png con transparencia shape(34,50,4)"
   ]
  },
  {
   "cell_type": "markdown",
   "metadata": {
    "id": "3LZmg_q1lGgs"
   },
   "source": [
    "# Creamos las etiquetas"
   ]
  },
  {
   "cell_type": "code",
   "execution_count": null,
   "metadata": {
    "ExecuteTime": {
     "end_time": "2018-11-08T00:16:45.269861Z",
     "start_time": "2018-11-08T00:16:45.251786Z"
    },
    "colab": {
     "base_uri": "https://localhost:8080/"
    },
    "executionInfo": {
     "elapsed": 706,
     "status": "ok",
     "timestamp": 1608535002921,
     "user": {
      "displayName": "Claudia Bustamante",
      "photoUrl": "https://lh3.googleusercontent.com/a-/AOh14Gj3gB09vTQ6fCofKnHVD8yQjWD6eZDeT5aOpUTHBw=s64",
      "userId": "11580939077059969713"
     },
     "user_tz": 180
    },
    "id": "duHgpNFalGgt",
    "outputId": "f951bac9-48d6-43fa-eedd-54f3c1bd71bd"
   },
   "outputs": [
    {
     "name": "stdout",
     "output_type": "stream",
     "text": [
      "Cantidad etiquetas creadas:  121\n"
     ]
    }
   ],
   "source": [
    "labels=[]\n",
    "indice=0\n",
    "for cantidad in dircount:\n",
    "    for i in range(cantidad):\n",
    "        labels.append(indice)\n",
    "    indice=indice+1\n",
    "print(\"Cantidad etiquetas creadas: \",len(labels))"
   ]
  },
  {
   "cell_type": "code",
   "execution_count": null,
   "metadata": {
    "ExecuteTime": {
     "end_time": "2018-11-08T00:16:45.285925Z",
     "start_time": "2018-11-08T00:16:45.273489Z"
    },
    "colab": {
     "base_uri": "https://localhost:8080/"
    },
    "executionInfo": {
     "elapsed": 786,
     "status": "ok",
     "timestamp": 1608535005845,
     "user": {
      "displayName": "Claudia Bustamante",
      "photoUrl": "https://lh3.googleusercontent.com/a-/AOh14Gj3gB09vTQ6fCofKnHVD8yQjWD6eZDeT5aOpUTHBw=s64",
      "userId": "11580939077059969713"
     },
     "user_tz": 180
    },
    "id": "jklhkH4OlGgv",
    "outputId": "8ab585f8-f161-49cb-b466-c3f218e5e65d"
   },
   "outputs": [
    {
     "name": "stdout",
     "output_type": "stream",
     "text": [
      "0 Estrellas\n",
      "1 Cuadrados\n",
      "2 Circulos\n",
      "3 Triangulos\n"
     ]
    }
   ],
   "source": [
    "figuras=[]\n",
    "indice=0\n",
    "for directorio in directories:\n",
    "    name = directorio.split(os.sep)\n",
    "    print(indice , name[len(name)-1])\n",
    "    figuras.append(name[len(name)-1])\n",
    "    indice=indice+1"
   ]
  },
  {
   "cell_type": "code",
   "execution_count": null,
   "metadata": {
    "ExecuteTime": {
     "end_time": "2018-11-08T00:16:45.498672Z",
     "start_time": "2018-11-08T00:16:45.290061Z"
    },
    "colab": {
     "base_uri": "https://localhost:8080/"
    },
    "executionInfo": {
     "elapsed": 687,
     "status": "ok",
     "timestamp": 1608535008738,
     "user": {
      "displayName": "Claudia Bustamante",
      "photoUrl": "https://lh3.googleusercontent.com/a-/AOh14Gj3gB09vTQ6fCofKnHVD8yQjWD6eZDeT5aOpUTHBw=s64",
      "userId": "11580939077059969713"
     },
     "user_tz": 180
    },
    "id": "NVzJ_yQPlGgx",
    "outputId": "1928f4dd-7251-4ab3-ff9e-2f6f36ef769d"
   },
   "outputs": [
    {
     "name": "stdout",
     "output_type": "stream",
     "text": [
      "uint8\n",
      "Total number of outputs :  4\n",
      "Output classes :  [0 1 2 3]\n"
     ]
    }
   ],
   "source": [
    "y = np.array(labels)\n",
    "\n",
    "X = np.array(images, dtype=np.uint8)\n",
    "print(X.dtype)\n",
    "#Cuando la imágen tiene 4 canales de color, llega como tipo dato list y no array como debía ser\n",
    "\n",
    "classes = np.unique(y) #identificación de las clases para el modelo supervizado.\n",
    "nClasses = len(classes)\n",
    "print('Total number of outputs : ', nClasses)\n",
    "print('Output classes : ', classes)"
   ]
  },
  {
   "cell_type": "markdown",
   "metadata": {
    "id": "fry2kEqKlGgy"
   },
   "source": [
    "# Creamos Sets de Entrenamiento y Test"
   ]
  },
  {
   "cell_type": "code",
   "execution_count": null,
   "metadata": {
    "ExecuteTime": {
     "end_time": "2018-11-08T00:16:45.669596Z",
     "start_time": "2018-11-08T00:16:45.502716Z"
    },
    "colab": {
     "base_uri": "https://localhost:8080/"
    },
    "executionInfo": {
     "elapsed": 646,
     "status": "ok",
     "timestamp": 1608535012932,
     "user": {
      "displayName": "Claudia Bustamante",
      "photoUrl": "https://lh3.googleusercontent.com/a-/AOh14Gj3gB09vTQ6fCofKnHVD8yQjWD6eZDeT5aOpUTHBw=s64",
      "userId": "11580939077059969713"
     },
     "user_tz": 180
    },
    "id": "yIEZ1EM5lGgz",
    "outputId": "063c01f6-410f-4473-bfbd-322205043702"
   },
   "outputs": [
    {
     "name": "stdout",
     "output_type": "stream",
     "text": [
      "Training data shape :  (96, 34, 50, 3) (96,)\n",
      "Testing data shape :  (25, 34, 50, 3) (25,)\n"
     ]
    }
   ],
   "source": [
    "train_X,test_X,train_Y,test_Y = train_test_split(X,y,test_size=0.2)\n",
    "print('Training data shape : ', train_X.shape, train_Y.shape)\n",
    "print('Testing data shape : ', test_X.shape, test_Y.shape)"
   ]
  },
  {
   "cell_type": "code",
   "execution_count": null,
   "metadata": {
    "ExecuteTime": {
     "end_time": "2018-11-08T00:16:49.319746Z",
     "start_time": "2018-11-08T00:16:45.673944Z"
    },
    "colab": {
     "base_uri": "https://localhost:8080/",
     "height": 167
    },
    "executionInfo": {
     "elapsed": 939,
     "status": "ok",
     "timestamp": 1608535014944,
     "user": {
      "displayName": "Claudia Bustamante",
      "photoUrl": "https://lh3.googleusercontent.com/a-/AOh14Gj3gB09vTQ6fCofKnHVD8yQjWD6eZDeT5aOpUTHBw=s64",
      "userId": "11580939077059969713"
     },
     "user_tz": 180
    },
    "id": "3VdcViy8lGg0",
    "outputId": "ca367e76-ce70-4307-c57d-3c062bc50f26"
   },
   "outputs": [
    {
     "data": {
      "text/plain": [
       "Text(0.5, 1.0, 'Ground Truth : 3')"
      ]
     },
     "execution_count": 9,
     "metadata": {
      "tags": []
     },
     "output_type": "execute_result"
    },
    {
     "data": {
      "image/png": "[encoded data removed]",
      "text/plain": [
       "<Figure size 360x360 with 2 Axes>"
      ]
     },
     "metadata": {
      "needs_background": "light",
      "tags": []
     },
     "output_type": "display_data"
    }
   ],
   "source": [
    "plt.figure(figsize=[5,5])\n",
    "\n",
    "# Display the first image in training data\n",
    "plt.subplot(121)\n",
    "plt.imshow(train_X[0,:,:], cmap='gray')\n",
    "plt.title(\"Ground Truth : {}\".format(train_Y[0]))\n",
    "\n",
    "# Display the first image in testing data\n",
    "plt.subplot(122)\n",
    "plt.imshow(test_X[0,:,:], cmap='gray')\n",
    "plt.title(\"Ground Truth : {}\".format(test_Y[0]))"
   ]
  },
  {
   "cell_type": "markdown",
   "metadata": {
    "id": "jt_GgUn8lGg1"
   },
   "source": [
    "# Preprocesamos las imagenes"
   ]
  },
  {
   "cell_type": "code",
   "execution_count": null,
   "metadata": {
    "ExecuteTime": {
     "end_time": "2018-11-08T00:16:50.798162Z",
     "start_time": "2018-11-08T00:16:49.322999Z"
    },
    "id": "smOpy6l-lGg2"
   },
   "outputs": [],
   "source": [
    "train_X = train_X.astype('float32')\n",
    "test_X = test_X.astype('float32')\n",
    "train_X = train_X / 255.\n",
    "test_X = test_X / 255."
   ]
  },
  {
   "cell_type": "markdown",
   "metadata": {
    "id": "t-jeo-vplGg3"
   },
   "source": [
    "## Hacemos el One-hot Encoding para la red"
   ]
  },
  {
   "cell_type": "code",
   "execution_count": null,
   "metadata": {
    "ExecuteTime": {
     "end_time": "2018-11-08T00:16:50.815482Z",
     "start_time": "2018-11-08T00:16:50.800831Z"
    },
    "colab": {
     "base_uri": "https://localhost:8080/"
    },
    "executionInfo": {
     "elapsed": 704,
     "status": "ok",
     "timestamp": 1608535023269,
     "user": {
      "displayName": "Claudia Bustamante",
      "photoUrl": "https://lh3.googleusercontent.com/a-/AOh14Gj3gB09vTQ6fCofKnHVD8yQjWD6eZDeT5aOpUTHBw=s64",
      "userId": "11580939077059969713"
     },
     "user_tz": 180
    },
    "id": "3DN4LEgvlGg4",
    "outputId": "3c83fc11-0cd3-4bf6-e51f-8ab179388ea4"
   },
   "outputs": [
    {
     "name": "stdout",
     "output_type": "stream",
     "text": [
      "Original label: 3\n",
      "After conversion to one-hot: [0. 0. 0. 1.]\n"
     ]
    }
   ],
   "source": [
    "# Change the labels from categorical to one-hot encoding\n",
    "train_Y_one_hot = to_categorical(train_Y)\n",
    "test_Y_one_hot = to_categorical(test_Y)\n",
    "\n",
    "# Display the change for category label using one-hot encoding\n",
    "print('Original label:', train_Y[0])\n",
    "print('After conversion to one-hot:', train_Y_one_hot[0])"
   ]
  },
  {
   "cell_type": "markdown",
   "metadata": {
    "id": "TGEBghg0lGg4"
   },
   "source": [
    "# Creamos el Set de Entrenamiento y Validación"
   ]
  },
  {
   "cell_type": "code",
   "execution_count": null,
   "metadata": {
    "ExecuteTime": {
     "end_time": "2018-11-08T00:16:51.218520Z",
     "start_time": "2018-11-08T00:16:50.818992Z"
    },
    "id": "zaE8tmwblGg6"
   },
   "outputs": [],
   "source": [
    "#Mezclar todo y crear los grupos de entrenamiento y testing\n",
    "train_X,valid_X,train_label,valid_label = train_test_split(train_X, train_Y_one_hot, test_size=0.2, random_state=5)\n",
    "#El random_state fue uno de los parámetros que se modificaron para alcanzar un accuracy más alto, se probó con 13, con 20, con 30 y con 5"
   ]
  },
  {
   "cell_type": "code",
   "execution_count": null,
   "metadata": {
    "ExecuteTime": {
     "end_time": "2018-11-08T00:16:51.228116Z",
     "start_time": "2018-11-08T00:16:51.222460Z"
    },
    "colab": {
     "base_uri": "https://localhost:8080/"
    },
    "executionInfo": {
     "elapsed": 703,
     "status": "ok",
     "timestamp": 1608535027584,
     "user": {
      "displayName": "Claudia Bustamante",
      "photoUrl": "https://lh3.googleusercontent.com/a-/AOh14Gj3gB09vTQ6fCofKnHVD8yQjWD6eZDeT5aOpUTHBw=s64",
      "userId": "11580939077059969713"
     },
     "user_tz": 180
    },
    "id": "m1otRGp-lGg7",
    "outputId": "f31a0e79-43ff-4a66-f689-a62b379b8f3e"
   },
   "outputs": [
    {
     "name": "stdout",
     "output_type": "stream",
     "text": [
      "(76, 34, 50, 3) (20, 34, 50, 3) (76, 4) (20, 4)\n"
     ]
    }
   ],
   "source": [
    "print(train_X.shape,valid_X.shape,train_label.shape,valid_label.shape)"
   ]
  },
  {
   "cell_type": "markdown",
   "metadata": {
    "id": "kgjo8cAjlGg9"
   },
   "source": [
    "# Creamos el modelo de CNN\r\n",
    "Usaremos un modelo SECUENCIAL con diferentes capas.\r\n",
    "\r\n",
    "1. Crearemos una primer capa de neuronas  “Convolucional de 2 Dimensiones” Conv2D() , donde entrarán las imágenes\r\n",
    "2.   Se aplican 32 filtros (kernel) de tamaño 3×3.\r\n",
    "3.   Se utiliza La función LeakyReLU como activación de las neuronas.\r\n",
    "4.   Se hace un MaxPooling (de 2×2) que reduce la imagen que entra.\r\n",
    "5.   Para evitar el overfitting, añadimos la técnica  Dropout\r\n",
    "6.   “Aplanamos” Flatten()  los 32 filtros y creamos una capa de 32 neuronas “tradicionales” Dense().\r\n",
    "7.   Y se finaliza la capa de salida con 10 neuronas con activación Softmax, para que se corresponda con el “hot encoding”.\r\n"
   ]
  },
  {
   "cell_type": "code",
   "execution_count": null,
   "metadata": {
    "ExecuteTime": {
     "end_time": "2018-11-08T00:16:51.244776Z",
     "start_time": "2018-11-08T00:16:51.238704Z"
    },
    "id": "JguLG5_VlGg-"
   },
   "outputs": [],
   "source": [
    "#declaramos variables con los parámetros de configuración de la red\n",
    "INIT_LR = 1e-2 # Valor inicial de learning rate. El valor 1e-3 corresponde con 0.001\n",
    "epochs = 35 # Cantidad de iteraciones completas al conjunto de imagenes de entrenamiento\n",
    "batch_size = 3 # cantidad de imágenes que se toman a la vez en memoria"
   ]
  },
  {
   "cell_type": "markdown",
   "metadata": {
    "id": "b343Fe5tnXwf"
   },
   "source": [
    "#Experimentos\r\n",
    "En estos parámetros de configuración realizamos muchas combinaciones posibles. Al principio tenpiamos un set de 25 imágenes y probábamos modificndo el init_lr subiendolo a 1e-1 y bajándolo hasta 1e-5 ya que es la tasa con la que aprenderá la red. Finalmente nos quedamos con el valor 1e-2.\r\n",
    "Las epoch las variamos entre 3 hasta 60 en diferentes combinaciones con el tamaño del batch y con la configuración de filtros Conv2D.\r\n",
    "El tamaño del batch también varió, pero nos quedamos con un número bajo pensando en el tamaño total de la muestra de imágenes.\r\n",
    "\r\n",
    "Con respecto al bloque que viene a continuación, durante los experimentos que hicimos fueron modificando el valor de la cantidad de filtros de la primera capa entre 32, 64 y 128.\r\n",
    " "
   ]
  },
  {
   "cell_type": "code",
   "execution_count": null,
   "metadata": {
    "ExecuteTime": {
     "end_time": "2018-11-08T00:16:51.384131Z",
     "start_time": "2018-11-08T00:16:51.252188Z"
    },
    "id": "YwzVnjq3lGhA"
   },
   "outputs": [],
   "source": [
    "figure_model = Sequential()\n",
    "figure_model.add(Conv2D(64, kernel_size=(3, 3),activation='linear',padding='same',input_shape=(34,50,3)))\n",
    "figure_model.add(LeakyReLU(alpha=0.1))\n",
    "figure_model.add(MaxPooling2D((2, 2),padding='same'))\n",
    "figure_model.add(Dropout(0.5))\n",
    "\n",
    "figure_model.add(Flatten())\n",
    "figure_model.add(Dense(64, activation='linear'))\n",
    "figure_model.add(LeakyReLU(alpha=0.1))\n",
    "figure_model.add(Dropout(0.5))\n",
    "figure_model.add(Dense(nClasses, activation='softmax'))"
   ]
  },
  {
   "cell_type": "code",
   "execution_count": null,
   "metadata": {
    "ExecuteTime": {
     "end_time": "2018-11-08T00:16:51.401674Z",
     "start_time": "2018-11-08T00:16:51.386676Z"
    },
    "colab": {
     "base_uri": "https://localhost:8080/"
    },
    "executionInfo": {
     "elapsed": 1271,
     "status": "ok",
     "timestamp": 1608535041951,
     "user": {
      "displayName": "Claudia Bustamante",
      "photoUrl": "https://lh3.googleusercontent.com/a-/AOh14Gj3gB09vTQ6fCofKnHVD8yQjWD6eZDeT5aOpUTHBw=s64",
      "userId": "11580939077059969713"
     },
     "user_tz": 180
    },
    "id": "zKPk8QbDlGhB",
    "outputId": "41c849fa-f96d-4f9e-ade0-9d26af8c12cc"
   },
   "outputs": [
    {
     "name": "stdout",
     "output_type": "stream",
     "text": [
      "Model: \"sequential\"\n",
      "_________________________________________________________________\n",
      "Layer (type)                 Output Shape              Param #   \n",
      "=================================================================\n",
      "conv2d (Conv2D)              (None, 34, 50, 64)        1792      \n",
      "_________________________________________________________________\n",
      "leaky_re_lu (LeakyReLU)      (None, 34, 50, 64)        0         \n",
      "_________________________________________________________________\n",
      "max_pooling2d (MaxPooling2D) (None, 17, 25, 64)        0         \n",
      "_________________________________________________________________\n",
      "dropout (Dropout)            (None, 17, 25, 64)        0         \n",
      "_________________________________________________________________\n",
      "flatten (Flatten)            (None, 27200)             0         \n",
      "_________________________________________________________________\n",
      "dense (Dense)                (None, 64)                1740864   \n",
      "_________________________________________________________________\n",
      "leaky_re_lu_1 (LeakyReLU)    (None, 64)                0         \n",
      "_________________________________________________________________\n",
      "dropout_1 (Dropout)          (None, 64)                0         \n",
      "_________________________________________________________________\n",
      "dense_1 (Dense)              (None, 4)                 260       \n",
      "=================================================================\n",
      "Total params: 1,742,916\n",
      "Trainable params: 1,742,916\n",
      "Non-trainable params: 0\n",
      "_________________________________________________________________\n"
     ]
    }
   ],
   "source": [
    "figure_model.summary()"
   ]
  },
  {
   "cell_type": "code",
   "execution_count": null,
   "metadata": {
    "ExecuteTime": {
     "end_time": "2018-11-08T00:16:51.472349Z",
     "start_time": "2018-11-08T00:16:51.406817Z"
    },
    "id": "aj0Q_1J3lGhD"
   },
   "outputs": [],
   "source": [
    "figure_model.compile(loss=keras.losses.categorical_crossentropy, optimizer=keras.optimizers.Adagrad(lr=INIT_LR, decay=INIT_LR / 100),metrics=['accuracy'])"
   ]
  },
  {
   "cell_type": "markdown",
   "metadata": {
    "id": "-cgQgj0XlGhG"
   },
   "source": [
    "# Entrenamos el modelo: Aprende a clasificar imágenes"
   ]
  },
  {
   "cell_type": "code",
   "execution_count": null,
   "metadata": {
    "ExecuteTime": {
     "end_time": "2018-11-08T00:20:49.562522Z",
     "start_time": "2018-11-08T00:16:51.474807Z"
    },
    "colab": {
     "base_uri": "https://localhost:8080/"
    },
    "executionInfo": {
     "elapsed": 12372,
     "status": "ok",
     "timestamp": 1608535061137,
     "user": {
      "displayName": "Claudia Bustamante",
      "photoUrl": "https://lh3.googleusercontent.com/a-/AOh14Gj3gB09vTQ6fCofKnHVD8yQjWD6eZDeT5aOpUTHBw=s64",
      "userId": "11580939077059969713"
     },
     "user_tz": 180
    },
    "id": "pi3cMBlLlGhH",
    "outputId": "749ae669-13af-4d09-9120-2f8f7e2ffb8a"
   },
   "outputs": [
    {
     "name": "stdout",
     "output_type": "stream",
     "text": [
      "Epoch 1/35\n",
      "26/26 [==============================] - 8s 25ms/step - loss: 2.4332 - accuracy: 0.2684 - val_loss: 1.3469 - val_accuracy: 0.4000\n",
      "Epoch 2/35\n",
      "26/26 [==============================] - 0s 4ms/step - loss: 1.3364 - accuracy: 0.3886 - val_loss: 1.3392 - val_accuracy: 0.2500\n",
      "Epoch 3/35\n",
      "26/26 [==============================] - 0s 4ms/step - loss: 1.3223 - accuracy: 0.4018 - val_loss: 1.3413 - val_accuracy: 0.2500\n",
      "Epoch 4/35\n",
      "26/26 [==============================] - 0s 4ms/step - loss: 1.2608 - accuracy: 0.4475 - val_loss: 1.2334 - val_accuracy: 0.5500\n",
      "Epoch 5/35\n",
      "26/26 [==============================] - 0s 4ms/step - loss: 1.2319 - accuracy: 0.4590 - val_loss: 1.1458 - val_accuracy: 0.5000\n",
      "Epoch 6/35\n",
      "26/26 [==============================] - 0s 4ms/step - loss: 1.0687 - accuracy: 0.6456 - val_loss: 1.1201 - val_accuracy: 0.4500\n",
      "Epoch 7/35\n",
      "26/26 [==============================] - 0s 4ms/step - loss: 1.0523 - accuracy: 0.5421 - val_loss: 1.0683 - val_accuracy: 0.6000\n",
      "Epoch 8/35\n",
      "26/26 [==============================] - 0s 4ms/step - loss: 0.9539 - accuracy: 0.6764 - val_loss: 1.0353 - val_accuracy: 0.6000\n",
      "Epoch 9/35\n",
      "26/26 [==============================] - 0s 4ms/step - loss: 0.8996 - accuracy: 0.6698 - val_loss: 0.9073 - val_accuracy: 0.7000\n",
      "Epoch 10/35\n",
      "26/26 [==============================] - 0s 4ms/step - loss: 0.7923 - accuracy: 0.6866 - val_loss: 1.0013 - val_accuracy: 0.5000\n",
      "Epoch 11/35\n",
      "26/26 [==============================] - 0s 4ms/step - loss: 0.6360 - accuracy: 0.8815 - val_loss: 2.0824 - val_accuracy: 0.4000\n",
      "Epoch 12/35\n",
      "26/26 [==============================] - 0s 4ms/step - loss: 0.6488 - accuracy: 0.7196 - val_loss: 0.7435 - val_accuracy: 0.7000\n",
      "Epoch 13/35\n",
      "26/26 [==============================] - 0s 4ms/step - loss: 0.4709 - accuracy: 0.8413 - val_loss: 0.7250 - val_accuracy: 0.8500\n",
      "Epoch 14/35\n",
      "26/26 [==============================] - 0s 4ms/step - loss: 0.5109 - accuracy: 0.8500 - val_loss: 0.7086 - val_accuracy: 0.7000\n",
      "Epoch 15/35\n",
      "26/26 [==============================] - 0s 4ms/step - loss: 0.4462 - accuracy: 0.8608 - val_loss: 0.7543 - val_accuracy: 0.6500\n",
      "Epoch 16/35\n",
      "26/26 [==============================] - 0s 4ms/step - loss: 0.4088 - accuracy: 0.8997 - val_loss: 0.7446 - val_accuracy: 0.7000\n",
      "Epoch 17/35\n",
      "26/26 [==============================] - 0s 4ms/step - loss: 0.3822 - accuracy: 0.8886 - val_loss: 0.6457 - val_accuracy: 0.7500\n",
      "Epoch 18/35\n",
      "26/26 [==============================] - 0s 4ms/step - loss: 0.3406 - accuracy: 0.9298 - val_loss: 0.6262 - val_accuracy: 0.7500\n",
      "Epoch 19/35\n",
      "26/26 [==============================] - 0s 4ms/step - loss: 0.3554 - accuracy: 0.8418 - val_loss: 0.8614 - val_accuracy: 0.6500\n",
      "Epoch 20/35\n",
      "26/26 [==============================] - 0s 4ms/step - loss: 0.2452 - accuracy: 0.9686 - val_loss: 0.7907 - val_accuracy: 0.7500\n",
      "Epoch 21/35\n",
      "26/26 [==============================] - 0s 4ms/step - loss: 0.2776 - accuracy: 0.9367 - val_loss: 0.5615 - val_accuracy: 0.9000\n",
      "Epoch 22/35\n",
      "26/26 [==============================] - 0s 5ms/step - loss: 0.1947 - accuracy: 0.9746 - val_loss: 0.5963 - val_accuracy: 0.7500\n",
      "Epoch 23/35\n",
      "26/26 [==============================] - 0s 5ms/step - loss: 0.2953 - accuracy: 0.9159 - val_loss: 0.5561 - val_accuracy: 0.8000\n",
      "Epoch 24/35\n",
      "26/26 [==============================] - 0s 5ms/step - loss: 0.2022 - accuracy: 0.9745 - val_loss: 0.6410 - val_accuracy: 0.8500\n",
      "Epoch 25/35\n",
      "26/26 [==============================] - 0s 5ms/step - loss: 0.2686 - accuracy: 0.9394 - val_loss: 0.6247 - val_accuracy: 0.7500\n",
      "Epoch 26/35\n",
      "26/26 [==============================] - 0s 5ms/step - loss: 0.1972 - accuracy: 0.9438 - val_loss: 0.5586 - val_accuracy: 0.8000\n",
      "Epoch 27/35\n",
      "26/26 [==============================] - 0s 5ms/step - loss: 0.2295 - accuracy: 0.9411 - val_loss: 0.6264 - val_accuracy: 0.7500\n",
      "Epoch 28/35\n",
      "26/26 [==============================] - 0s 4ms/step - loss: 0.1565 - accuracy: 0.9839 - val_loss: 0.5806 - val_accuracy: 0.8000\n",
      "Epoch 29/35\n",
      "26/26 [==============================] - 0s 4ms/step - loss: 0.1351 - accuracy: 0.9624 - val_loss: 0.6826 - val_accuracy: 0.8000\n",
      "Epoch 30/35\n",
      "26/26 [==============================] - 0s 4ms/step - loss: 0.1354 - accuracy: 0.9575 - val_loss: 0.6382 - val_accuracy: 0.8000\n",
      "Epoch 31/35\n",
      "26/26 [==============================] - 0s 4ms/step - loss: 0.0941 - accuracy: 0.9937 - val_loss: 0.5529 - val_accuracy: 0.8500\n",
      "Epoch 32/35\n",
      "26/26 [==============================] - 0s 4ms/step - loss: 0.1509 - accuracy: 0.9790 - val_loss: 0.5625 - val_accuracy: 0.8000\n",
      "Epoch 33/35\n",
      "26/26 [==============================] - 0s 4ms/step - loss: 0.1272 - accuracy: 0.9944 - val_loss: 0.6885 - val_accuracy: 0.8000\n",
      "Epoch 34/35\n",
      "26/26 [==============================] - 0s 4ms/step - loss: 0.1295 - accuracy: 0.9440 - val_loss: 0.5625 - val_accuracy: 0.8500\n",
      "Epoch 35/35\n",
      "26/26 [==============================] - 0s 5ms/step - loss: 0.1071 - accuracy: 0.9676 - val_loss: 0.5517 - val_accuracy: 0.8500\n"
     ]
    }
   ],
   "source": [
    "# este paso puede tomar varios minutos, dependiendo de tu ordenador, cpu y memoria ram libre\n",
    "\n",
    "figure_train = figure_model.fit(train_X, train_label, batch_size=batch_size,epochs=epochs,verbose=1,validation_data=(valid_X, valid_label))"
   ]
  },
  {
   "cell_type": "code",
   "execution_count": null,
   "metadata": {
    "ExecuteTime": {
     "end_time": "2018-11-08T00:20:49.676566Z",
     "start_time": "2018-11-08T00:20:49.566203Z"
    },
    "colab": {
     "base_uri": "https://localhost:8080/"
    },
    "executionInfo": {
     "elapsed": 1443,
     "status": "ok",
     "timestamp": 1608535068399,
     "user": {
      "displayName": "Claudia Bustamante",
      "photoUrl": "https://lh3.googleusercontent.com/a-/AOh14Gj3gB09vTQ6fCofKnHVD8yQjWD6eZDeT5aOpUTHBw=s64",
      "userId": "11580939077059969713"
     },
     "user_tz": 180
    },
    "id": "J6dVf9S3lGhJ",
    "outputId": "3695d395-1349-4500-ad93-ebaa876c8ac2"
   },
   "outputs": [
    {
     "name": "stdout",
     "output_type": "stream",
     "text": [
      "INFO:tensorflow:Assets written to: figure_mnist.h5py/assets\n"
     ]
    }
   ],
   "source": [
    "# guardamos la red, para reutilizarla en el futuro, sin tener que volver a entrenar\n",
    "figure_model.save(\"figure_mnist.h5py\")"
   ]
  },
  {
   "cell_type": "markdown",
   "metadata": {
    "id": "j9MvrGOalGhL"
   },
   "source": [
    "# Evaluamos la red"
   ]
  },
  {
   "cell_type": "code",
   "execution_count": null,
   "metadata": {
    "ExecuteTime": {
     "end_time": "2018-11-08T00:20:54.462929Z",
     "start_time": "2018-11-08T00:20:49.678643Z"
    },
    "colab": {
     "base_uri": "https://localhost:8080/"
    },
    "executionInfo": {
     "elapsed": 697,
     "status": "ok",
     "timestamp": 1608535072189,
     "user": {
      "displayName": "Claudia Bustamante",
      "photoUrl": "https://lh3.googleusercontent.com/a-/AOh14Gj3gB09vTQ6fCofKnHVD8yQjWD6eZDeT5aOpUTHBw=s64",
      "userId": "11580939077059969713"
     },
     "user_tz": 180
    },
    "id": "jNAFukV9lGhM",
    "outputId": "1841e1bc-3a55-446b-c036-462ac946bc54"
   },
   "outputs": [
    {
     "name": "stdout",
     "output_type": "stream",
     "text": [
      "1/1 [==============================] - 0s 28ms/step - loss: 0.4070 - accuracy: 0.8000\n"
     ]
    }
   ],
   "source": [
    "test_eval = figure_model.evaluate(test_X, test_Y_one_hot, verbose=1)"
   ]
  },
  {
   "cell_type": "code",
   "execution_count": null,
   "metadata": {
    "ExecuteTime": {
     "end_time": "2018-11-08T00:20:54.474683Z",
     "start_time": "2018-11-08T00:20:54.465378Z"
    },
    "colab": {
     "base_uri": "https://localhost:8080/"
    },
    "executionInfo": {
     "elapsed": 705,
     "status": "ok",
     "timestamp": 1608535075096,
     "user": {
      "displayName": "Claudia Bustamante",
      "photoUrl": "https://lh3.googleusercontent.com/a-/AOh14Gj3gB09vTQ6fCofKnHVD8yQjWD6eZDeT5aOpUTHBw=s64",
      "userId": "11580939077059969713"
     },
     "user_tz": 180
    },
    "id": "SWqZ-rGllGhN",
    "outputId": "4fa07cc2-4f9b-401d-87e1-df95be2e644a"
   },
   "outputs": [
    {
     "name": "stdout",
     "output_type": "stream",
     "text": [
      "Test loss: 0.4070374369621277\n",
      "Test accuracy: 0.800000011920929\n"
     ]
    }
   ],
   "source": [
    "print('Test loss:', test_eval[0])\n",
    "print('Test accuracy:', test_eval[1])"
   ]
  },
  {
   "cell_type": "code",
   "execution_count": null,
   "metadata": {
    "ExecuteTime": {
     "end_time": "2018-11-08T00:20:55.014647Z",
     "start_time": "2018-11-08T00:20:54.479693Z"
    },
    "colab": {
     "base_uri": "https://localhost:8080/",
     "height": 545
    },
    "executionInfo": {
     "elapsed": 1114,
     "status": "ok",
     "timestamp": 1608535079169,
     "user": {
      "displayName": "Claudia Bustamante",
      "photoUrl": "https://lh3.googleusercontent.com/a-/AOh14Gj3gB09vTQ6fCofKnHVD8yQjWD6eZDeT5aOpUTHBw=s64",
      "userId": "11580939077059969713"
     },
     "user_tz": 180
    },
    "id": "QcIOhhkOlGhQ",
    "outputId": "d47a3a7d-a51f-47c9-cae1-7a4287ac19c0"
   },
   "outputs": [
    {
     "data": {
      "image/png": "[encoded data removed]",
      "text/plain": [
       "<Figure size 432x288 with 1 Axes>"
      ]
     },
     "metadata": {
      "needs_background": "light",
      "tags": []
     },
     "output_type": "display_data"
    },
    {
     "data": {
      "image/png": "[encoded data removed]",
      "text/plain": [
       "<Figure size 432x288 with 1 Axes>"
      ]
     },
     "metadata": {
      "needs_background": "light",
      "tags": []
     },
     "output_type": "display_data"
    }
   ],
   "source": [
    "accuracy = figure_train.history['accuracy']\n",
    "val_accuracy = figure_train.history['val_accuracy']\n",
    "loss = figure_train.history['loss']\n",
    "val_loss = figure_train.history['val_loss']\n",
    "epochs = range(len(accuracy))\n",
    "plt.plot(epochs, accuracy, 'bo', label='Training accuracy')\n",
    "plt.plot(epochs, val_accuracy, 'b', label='Validation accuracy')\n",
    "plt.title('Training and validation accuracy')\n",
    "plt.legend()\n",
    "plt.figure()\n",
    "plt.plot(epochs, loss, 'bo', label='Training loss')\n",
    "plt.plot(epochs, val_loss, 'b', label='Validation loss')\n",
    "plt.title('Training and validation loss')\n",
    "plt.legend()\n",
    "plt.show()"
   ]
  },
  {
   "cell_type": "code",
   "execution_count": null,
   "metadata": {
    "ExecuteTime": {
     "end_time": "2018-11-08T00:20:58.050602Z",
     "start_time": "2018-11-08T00:20:55.021862Z"
    },
    "id": "FmNMEnwGlGhT"
   },
   "outputs": [],
   "source": [
    "predicted_classes2 = figure_model.predict(test_X)"
   ]
  },
  {
   "cell_type": "code",
   "execution_count": null,
   "metadata": {
    "ExecuteTime": {
     "end_time": "2018-11-08T00:20:58.262575Z",
     "start_time": "2018-11-08T00:20:58.052878Z"
    },
    "id": "0BqSJTuVlGhW"
   },
   "outputs": [],
   "source": [
    "predicted_classes=[]\n",
    "for predicted_figure in predicted_classes2:\n",
    "    predicted_classes.append(predicted_figure.tolist().index(max(predicted_figure)))\n",
    "predicted_classes=np.array(predicted_classes)"
   ]
  },
  {
   "cell_type": "code",
   "execution_count": null,
   "metadata": {
    "ExecuteTime": {
     "end_time": "2018-11-08T00:20:58.272559Z",
     "start_time": "2018-11-08T00:20:58.264703Z"
    },
    "colab": {
     "base_uri": "https://localhost:8080/"
    },
    "executionInfo": {
     "elapsed": 736,
     "status": "ok",
     "timestamp": 1608535089857,
     "user": {
      "displayName": "Claudia Bustamante",
      "photoUrl": "https://lh3.googleusercontent.com/a-/AOh14Gj3gB09vTQ6fCofKnHVD8yQjWD6eZDeT5aOpUTHBw=s64",
      "userId": "11580939077059969713"
     },
     "user_tz": 180
    },
    "id": "IWv2l7HClGhY",
    "outputId": "d357a54b-d89a-429c-91e7-93f07e4be1a8"
   },
   "outputs": [
    {
     "data": {
      "text/plain": [
       "((25,), (25,))"
      ]
     },
     "execution_count": 25,
     "metadata": {
      "tags": []
     },
     "output_type": "execute_result"
    }
   ],
   "source": [
    "predicted_classes.shape, test_Y.shape"
   ]
  },
  {
   "cell_type": "markdown",
   "metadata": {
    "id": "D1vIjDcqlGhZ"
   },
   "source": [
    "# Aprendamos de los errores: Qué mejorar"
   ]
  },
  {
   "cell_type": "code",
   "execution_count": null,
   "metadata": {
    "ExecuteTime": {
     "end_time": "2018-11-08T00:20:59.822110Z",
     "start_time": "2018-11-08T00:20:58.275464Z"
    },
    "colab": {
     "base_uri": "https://localhost:8080/",
     "height": 314
    },
    "executionInfo": {
     "elapsed": 3110,
     "status": "ok",
     "timestamp": 1608535094930,
     "user": {
      "displayName": "Claudia Bustamante",
      "photoUrl": "https://lh3.googleusercontent.com/a-/AOh14Gj3gB09vTQ6fCofKnHVD8yQjWD6eZDeT5aOpUTHBw=s64",
      "userId": "11580939077059969713"
     },
     "user_tz": 180
    },
    "id": "hW7ktyLGlGha",
    "outputId": "dcfc5045-5329-4c7a-90bc-4293d1230ddf"
   },
   "outputs": [
    {
     "name": "stdout",
     "output_type": "stream",
     "text": [
      "Found 20 correct labels\n"
     ]
    },
    {
     "data": {
      "image/png": "[encoded data removed]",
      "text/plain": [
       "<Figure size 432x288 with 9 Axes>"
      ]
     },
     "metadata": {
      "needs_background": "light",
      "tags": []
     },
     "output_type": "display_data"
    }
   ],
   "source": [
    "correct = np.where(predicted_classes==test_Y)[0]\n",
    "print(\"Found %d correct labels\" % len(correct))\n",
    "for i, correct in enumerate(correct[0:9]):\n",
    "    plt.subplot(3,3,i+1)\n",
    "    plt.imshow(test_X[correct].reshape(34,50,3), cmap='gray', interpolation='none')\n",
    "    plt.title(\"{}, {}\".format(figuras[predicted_classes[correct]],\n",
    "                                                    figuras[test_Y[correct]]))\n",
    "\n",
    "    plt.tight_layout()"
   ]
  },
  {
   "cell_type": "code",
   "execution_count": null,
   "metadata": {
    "ExecuteTime": {
     "end_time": "2018-11-08T00:21:00.942267Z",
     "start_time": "2018-11-08T00:20:59.829572Z"
    },
    "colab": {
     "base_uri": "https://localhost:8080/",
     "height": 233
    },
    "executionInfo": {
     "elapsed": 1620,
     "status": "ok",
     "timestamp": 1608535099045,
     "user": {
      "displayName": "Claudia Bustamante",
      "photoUrl": "https://lh3.googleusercontent.com/a-/AOh14Gj3gB09vTQ6fCofKnHVD8yQjWD6eZDeT5aOpUTHBw=s64",
      "userId": "11580939077059969713"
     },
     "user_tz": 180
    },
    "id": "JIWhksOhlGhb",
    "outputId": "943aea31-6737-4f9e-ac13-e08d9a507f96"
   },
   "outputs": [
    {
     "name": "stdout",
     "output_type": "stream",
     "text": [
      "Found 5 incorrect labels\n"
     ]
    },
    {
     "data": {
      "image/png": "[encoded data removed]",
      "text/plain": [
       "<Figure size 432x288 with 5 Axes>"
      ]
     },
     "metadata": {
      "needs_background": "light",
      "tags": []
     },
     "output_type": "display_data"
    }
   ],
   "source": [
    "incorrect = np.where(predicted_classes!=test_Y)[0]\n",
    "print(\"Found %d incorrect labels\" % len(incorrect))\n",
    "for i, incorrect in enumerate(incorrect[0:9]):\n",
    "    plt.subplot(3,3,i+1)\n",
    "    plt.imshow(test_X[incorrect].reshape(34,50,3), cmap='gray', interpolation='none')\n",
    "    plt.title(\"{}, {}\".format(figuras[predicted_classes[incorrect]],\n",
    "                                                    figuras[test_Y[incorrect]]))\n",
    "    plt.tight_layout()"
   ]
  },
  {
   "cell_type": "code",
   "execution_count": null,
   "metadata": {
    "ExecuteTime": {
     "end_time": "2018-11-08T00:21:00.968727Z",
     "start_time": "2018-11-08T00:21:00.947262Z"
    },
    "colab": {
     "base_uri": "https://localhost:8080/"
    },
    "executionInfo": {
     "elapsed": 707,
     "status": "ok",
     "timestamp": 1608535102602,
     "user": {
      "displayName": "Claudia Bustamante",
      "photoUrl": "https://lh3.googleusercontent.com/a-/AOh14Gj3gB09vTQ6fCofKnHVD8yQjWD6eZDeT5aOpUTHBw=s64",
      "userId": "11580939077059969713"
     },
     "user_tz": 180
    },
    "id": "qu8R_oY-lGhc",
    "outputId": "04f120b5-0df0-4af0-9961-b2efbbbcfacd"
   },
   "outputs": [
    {
     "name": "stdout",
     "output_type": "stream",
     "text": [
      "              precision    recall  f1-score   support\n",
      "\n",
      "     Class 0       1.00      0.78      0.88         9\n",
      "     Class 1       0.80      0.80      0.80         5\n",
      "     Class 2       0.75      0.86      0.80         7\n",
      "     Class 3       0.60      0.75      0.67         4\n",
      "\n",
      "    accuracy                           0.80        25\n",
      "   macro avg       0.79      0.80      0.79        25\n",
      "weighted avg       0.83      0.80      0.81        25\n",
      "\n"
     ]
    }
   ],
   "source": [
    "target_names = [\"Class {}\".format(i) for i in range(nClasses)]\n",
    "print(classification_report(test_Y, predicted_classes, target_names=target_names))"
   ]
  },
  {
   "cell_type": "markdown",
   "metadata": {
    "id": "lQIBfo1LlGhe"
   },
   "source": [
    "# Predicción de una nueva imagen"
   ]
  },
  {
   "cell_type": "markdown",
   "metadata": {
    "id": "9C06G3tOpH-J"
   },
   "source": [
    "Acá le pasamos una imagen que no existe dentro de la muestra y también una imagen que si existe dentro de las imágenes de entrenamiento. \r\n",
    "Las imágenes de entrenamiento las asertó correctamente como se muestra a cointinuación en los siguientes bloques:"
   ]
  },
  {
   "cell_type": "code",
   "execution_count": null,
   "metadata": {
    "colab": {
     "base_uri": "https://localhost:8080/"
    },
    "executionInfo": {
     "elapsed": 1034,
     "status": "ok",
     "timestamp": 1608535107132,
     "user": {
      "displayName": "Claudia Bustamante",
      "photoUrl": "https://lh3.googleusercontent.com/a-/AOh14Gj3gB09vTQ6fCofKnHVD8yQjWD6eZDeT5aOpUTHBw=s64",
      "userId": "11580939077059969713"
     },
     "user_tz": 180
    },
    "id": "aq6r3kfilGhh",
    "outputId": "cb73494a-c1ca-42a6-e150-d3fedf9a6cc1"
   },
   "outputs": [
    {
     "name": "stdout",
     "output_type": "stream",
     "text": [
      "/content/drive/My Drive/Diplomado DS Duoc/Sesión 11 - Redes Neuronales y Reconocimiento de Imágenes/test/c60.jpg Cuadrados\n"
     ]
    }
   ],
   "source": [
    "from skimage.transform import resize\n",
    "\n",
    "images=[]\n",
    "# AQUI ESPECIFICAMOS UNAS IMAGENES\n",
    "filenames = [path+'test/c60.jpg']\n",
    "\n",
    "for filepath in filenames:\n",
    "    image = plt.imread(filepath,0)\n",
    "    image_resized = resize(image, (34, 50),anti_aliasing=True,clip=False,preserve_range=True)\n",
    "    images.append(image_resized)\n",
    "\n",
    "X = np.array(images, dtype=np.uint8) #convierto de lista a numpy\n",
    "test_X = X.astype('float32')\n",
    "test_X = test_X / 255.\n",
    "\n",
    "predicted_classes = figure_model.predict(test_X)\n",
    "\n",
    "for i, img_tagged in enumerate(predicted_classes):\n",
    "    print(filenames[i], figuras[img_tagged.tolist().index(max(img_tagged))])"
   ]
  },
  {
   "cell_type": "code",
   "execution_count": null,
   "metadata": {
    "colab": {
     "base_uri": "https://localhost:8080/"
    },
    "executionInfo": {
     "elapsed": 937,
     "status": "ok",
     "timestamp": 1608535117513,
     "user": {
      "displayName": "Claudia Bustamante",
      "photoUrl": "https://lh3.googleusercontent.com/a-/AOh14Gj3gB09vTQ6fCofKnHVD8yQjWD6eZDeT5aOpUTHBw=s64",
      "userId": "11580939077059969713"
     },
     "user_tz": 180
    },
    "id": "TG2wbxrEph_k",
    "outputId": "786f5d9c-dba3-4d45-ef37-8dc11dc2d884"
   },
   "outputs": [
    {
     "name": "stdout",
     "output_type": "stream",
     "text": [
      "/content/drive/My Drive/Diplomado DS Duoc/Sesión 11 - Redes Neuronales y Reconocimiento de Imágenes/test/Cubo.jpg Cuadrados\n"
     ]
    }
   ],
   "source": [
    "from skimage.transform import resize\r\n",
    "\r\n",
    "images=[]\r\n",
    "# AQUI ESPECIFICAMOS UNAS IMAGENES\r\n",
    "filenames = [path+'test/Cubo.jpg']\r\n",
    "\r\n",
    "for filepath in filenames:\r\n",
    "    image = plt.imread(filepath,0)\r\n",
    "    image_resized = resize(image, (34, 50),anti_aliasing=True,clip=False,preserve_range=True)\r\n",
    "    images.append(image_resized)\r\n",
    "\r\n",
    "X = np.array(images, dtype=np.uint8) #convierto de lista a numpy\r\n",
    "test_X = X.astype('float32')\r\n",
    "test_X = test_X / 255.\r\n",
    "\r\n",
    "predicted_classes = figure_model.predict(test_X)\r\n",
    "\r\n",
    "for i, img_tagged in enumerate(predicted_classes):\r\n",
    "    print(filenames[i], figuras[img_tagged.tolist().index(max(img_tagged))])"
   ]
  },
  {
   "cell_type": "code",
   "execution_count": null,
   "metadata": {
    "colab": {
     "base_uri": "https://localhost:8080/"
    },
    "executionInfo": {
     "elapsed": 683,
     "status": "ok",
     "timestamp": 1608535120147,
     "user": {
      "displayName": "Claudia Bustamante",
      "photoUrl": "https://lh3.googleusercontent.com/a-/AOh14Gj3gB09vTQ6fCofKnHVD8yQjWD6eZDeT5aOpUTHBw=s64",
      "userId": "11580939077059969713"
     },
     "user_tz": 180
    },
    "id": "PxtawntEpzyt",
    "outputId": "e87d2da8-c02b-4646-853e-38bd2e9d4952"
   },
   "outputs": [
    {
     "name": "stdout",
     "output_type": "stream",
     "text": [
      "/content/drive/My Drive/Diplomado DS Duoc/Sesión 11 - Redes Neuronales y Reconocimiento de Imágenes/test/Estrellita.jpg Estrellas\n"
     ]
    }
   ],
   "source": [
    "from skimage.transform import resize\r\n",
    "\r\n",
    "images=[]\r\n",
    "# AQUI ESPECIFICAMOS UNAS IMAGENES\r\n",
    "filenames = [path+'test/Estrellita.jpg']\r\n",
    "\r\n",
    "for filepath in filenames:\r\n",
    "    image = plt.imread(filepath,0)\r\n",
    "    image_resized = resize(image, (34, 50),anti_aliasing=True,clip=False,preserve_range=True)\r\n",
    "    images.append(image_resized)\r\n",
    "\r\n",
    "X = np.array(images, dtype=np.uint8) #convierto de lista a numpy\r\n",
    "test_X = X.astype('float32')\r\n",
    "test_X = test_X / 255.\r\n",
    "\r\n",
    "predicted_classes = figure_model.predict(test_X)\r\n",
    "\r\n",
    "for i, img_tagged in enumerate(predicted_classes):\r\n",
    "    print(filenames[i], figuras[img_tagged.tolist().index(max(img_tagged))])"
   ]
  },
  {
   "cell_type": "code",
   "execution_count": null,
   "metadata": {
    "colab": {
     "base_uri": "https://localhost:8080/"
    },
    "executionInfo": {
     "elapsed": 643,
     "status": "ok",
     "timestamp": 1608535124026,
     "user": {
      "displayName": "Claudia Bustamante",
      "photoUrl": "https://lh3.googleusercontent.com/a-/AOh14Gj3gB09vTQ6fCofKnHVD8yQjWD6eZDeT5aOpUTHBw=s64",
      "userId": "11580939077059969713"
     },
     "user_tz": 180
    },
    "id": "-PX3xV8EqO4X",
    "outputId": "5815afe4-6885-453e-b923-04e0055e2532"
   },
   "outputs": [
    {
     "name": "stdout",
     "output_type": "stream",
     "text": [
      "El archivo:/content/drive/My Drive/Diplomado DS Duoc/Sesión 11 - Redes Neuronales y Reconocimiento de Imágenes/test/cono.jpg corresponde a una figura de tipo:  Triangulos\n"
     ]
    }
   ],
   "source": [
    "from skimage.transform import resize\r\n",
    "\r\n",
    "images=[]\r\n",
    "# AQUI ESPECIFICAMOS UNAS IMAGENES\r\n",
    "filenames = [path+'test/cono.jpg']\r\n",
    "\r\n",
    "for filepath in filenames:\r\n",
    "    image = plt.imread(filepath,0)\r\n",
    "    image_resized = resize(image, (34, 50),anti_aliasing=True,clip=False,preserve_range=True)\r\n",
    "    images.append(image_resized)\r\n",
    "\r\n",
    "X = np.array(images, dtype=np.uint8) #convierto de lista a numpy\r\n",
    "test_X = X.astype('float32')\r\n",
    "test_X = test_X / 255.\r\n",
    "\r\n",
    "predicted_classes = figure_model.predict(test_X)\r\n",
    "\r\n",
    "for i, img_tagged in enumerate(predicted_classes):\r\n",
    "    print('El archivo:'+filenames[i]+' corresponde a una figura de tipo: ', figuras[img_tagged.tolist().index(max(img_tagged))])"
   ]
  },
  {
   "cell_type": "markdown",
   "metadata": {
    "id": "4L8WZRFCqWgD"
   },
   "source": [
    "#Conclusiones?\r\n",
    "\r\n",
    "\r\n"
   ]
  }
 ],
 "metadata": {
  "accelerator": "GPU",
  "colab": {
   "collapsed_sections": [],
   "name": "Sesión 11 - Redes Neuronales.ipynb",
   "provenance": []
  },
  "kernelspec": {
   "display_name": "Python 3",
   "language": "python",
   "name": "python3"
  },
  "language_info": {
   "codemirror_mode": {
    "name": "ipython",
    "version": 3
   },
   "file_extension": ".py",
   "mimetype": "text/x-python",
   "name": "python",
   "nbconvert_exporter": "python",
   "pygments_lexer": "ipython3",
   "version": "3.7.4"
  }
 },
 "nbformat": 4,
 "nbformat_minor": 4
}
