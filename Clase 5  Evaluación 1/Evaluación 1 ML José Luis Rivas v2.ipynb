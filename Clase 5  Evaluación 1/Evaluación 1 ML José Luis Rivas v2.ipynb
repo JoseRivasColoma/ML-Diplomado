{
 "cells": [
  {
   "cell_type": "markdown",
   "metadata": {
    "id": "tdaohCeoe1T_"
   },
   "source": [
    "# Evaluación 1 - Diplomado Data Science Duoc UC\n",
    "\n",
    "# Módulo: Machine Learning\n",
    "\n",
    "A continuación, aplicarás lo aprendido con el uso de las librerías de Python desde fuentes de datos proporcionadas por el relator.\n",
    "\n",
    "**Recuerda almacenar una copia de este Jupyter Notebook en tu Google Drive para poder ejecutar los bloques de código.**\n",
    "\n",
    "\n",
    "---\n",
    "* Ejecución técnica de un procedimiento de  Análisis Exploratorio de datos\n",
    "  * Deberá cargar los datos del CSV a pandas\n",
    "  * Deberá identificar las columnas relevantes y realizar la unión de los datos\n",
    "  * Deberá identificar las columnas más relevantes del negocio y proponer una rutina de limpieza\n",
    "  * Separar la información entre las columnas relevantes y ejecutar su rutina de limpieza\n",
    "  * Identificar la correlación de las columnas e identificar las más relevantes\n",
    "  * Proponga 5 gráficos que otorguen valor a los datos y describa el conocimiento que puede extraer de éstos\n",
    "---\n"
   ]
  },
  {
   "cell_type": "markdown",
   "metadata": {
    "id": "Vk3pLh0AK1er"
   },
   "source": [
    "# Contexto: \n",
    "\n",
    "Una empresa anónima, nos encargó la importante misión de predecir como serán sus próximas ventas basados en sus datos transaccionales. Para falicitar el proyecto de Análisis de Datos, nos proporcionó 3 datasets que necesitaremos relacionar para poder responder a la demanda de nuestro cliente. \n",
    "La primera fase de nuestro proyecto consistirá en un análisis exploratorio que nos permitirá conocer del negocio, saber qué venden, cuantos clientes manejan en sus sistemas, entre otras preguntas relevantes que nos permitirán plantear diversas hipótesis respecto de los datos. \n",
    "\n",
    "**Recuerda hacer uso de todo lo aprendido! mientras más cosas descubras de los datos, más robusto será tu análisis.** "
   ]
  },
  {
   "cell_type": "markdown",
   "metadata": {
    "id": "reGN707Ty1C7"
   },
   "source": [
    "# Análisis Exploratorio de Datos"
   ]
  },
  {
   "cell_type": "markdown",
   "metadata": {
    "id": "BHagMOOiy59Z"
   },
   "source": [
    "## Importar las librerias necesarias"
   ]
  },
  {
   "cell_type": "code",
   "execution_count": 2,
   "metadata": {
    "id": "hd_4P10tzM-k"
   },
   "outputs": [],
   "source": [
    "# Importe las librerias necesarias para trabajar aquí\n",
    "import numpy as np\n",
    "import pandas as pd\n",
    "import seaborn as sbn\n",
    "import matplotlib.pyplot as plt\n",
    "import re as re"
   ]
  },
  {
   "cell_type": "markdown",
   "metadata": {
    "id": "8nmwmQkQzYoR"
   },
   "source": [
    "## Cargar fuentes de datos"
   ]
  },
  {
   "cell_type": "code",
   "execution_count": 3,
   "metadata": {
    "id": "cKqEjGgOzWTv"
   },
   "outputs": [],
   "source": [
    "# Cargue los archivos CSV necesarios aquí\n",
    "clientes = pd.read_csv('datos_clientes.csv') #Carga datos_clientes.csv\n",
    "trabajadores = pd.read_csv('datos_trabajador.csv') #Carga datos_trabajador.csv\n",
    "ventas = pd.read_csv('datos_ventas.csv',sep='|') #Carga datos_ventas.csv"
   ]
  },
  {
   "cell_type": "markdown",
   "metadata": {},
   "source": [
    "# Análisis dataset clientes\n",
    "\n",
    "* 12 filas, 500 columnas\n",
    "* Columnas explicativas a analizar: \n",
    "    - Cantidad de hijos\n",
    "    - Edad\n",
    "    - Genero\n",
    "    - Estado Civil\n",
    "* Columnas que podrían ser explicativas cuando el modelo alcance un nivel superior de madurez (serán removidas del modelo inicial):\n",
    "    - Idioma\n",
    "    - Estudios\n",
    "* Columna color favorito potencialmente podría ser utilizada por especialistas en psicología del color. Útil para estudiar correlación entre color favorito y preferencia de productos.\n",
    "* Columnas a eliminar:\n",
    "    - Correo\n",
    "    - Nombres y apellidos (se unificará en una sola columna)\n",
    "    - ID Cliente (se eliminará en el merge final)"
   ]
  },
  {
   "cell_type": "code",
   "execution_count": 6,
   "metadata": {
    "id": "eNpOOs8Zzjpv"
   },
   "outputs": [
    {
     "data": {
      "text/plain": [
       "Index(['id_cliente', 'primer_nombre', 'apellido_paterno', 'apellido_materno',\n",
       "       'correo', 'genero', 'idioma', 'estado_civil', 'cant_hijos', 'edad',\n",
       "       'estudios', 'Color_F'],\n",
       "      dtype='object')"
      ]
     },
     "execution_count": 6,
     "metadata": {},
     "output_type": "execute_result"
    }
   ],
   "source": [
    "# Realice análisis de los datos del CSV 1\n",
    "clientes.head(4).columns"
   ]
  },
  {
   "cell_type": "code",
   "execution_count": 4,
   "metadata": {},
   "outputs": [
    {
     "data": {
      "text/plain": [
       "(500, 12)"
      ]
     },
     "execution_count": 4,
     "metadata": {},
     "output_type": "execute_result"
    }
   ],
   "source": [
    "# 12 columnas, 500 filas\n",
    "clientes.shape"
   ]
  },
  {
   "cell_type": "code",
   "execution_count": 5,
   "metadata": {},
   "outputs": [
    {
     "name": "stdout",
     "output_type": "stream",
     "text": [
      "<class 'pandas.core.frame.DataFrame'>\n",
      "RangeIndex: 500 entries, 0 to 499\n",
      "Data columns (total 12 columns):\n",
      " #   Column            Non-Null Count  Dtype \n",
      "---  ------            --------------  ----- \n",
      " 0   id_cliente        500 non-null    int64 \n",
      " 1   primer_nombre     500 non-null    object\n",
      " 2   apellido_paterno  500 non-null    object\n",
      " 3   apellido_materno  500 non-null    object\n",
      " 4   correo            500 non-null    object\n",
      " 5   genero            500 non-null    object\n",
      " 6   idioma            500 non-null    object\n",
      " 7   estado_civil      500 non-null    object\n",
      " 8   cant_hijos        500 non-null    int64 \n",
      " 9   edad              500 non-null    int64 \n",
      " 10  estudios          500 non-null    object\n",
      " 11  Color_F           500 non-null    object\n",
      "dtypes: int64(3), object(9)\n",
      "memory usage: 47.0+ KB\n"
     ]
    }
   ],
   "source": [
    "clientes.info()"
   ]
  },
  {
   "cell_type": "code",
   "execution_count": 6,
   "metadata": {},
   "outputs": [
    {
     "data": {
      "text/html": [
       "<div>\n",
       "<style scoped>\n",
       "    .dataframe tbody tr th:only-of-type {\n",
       "        vertical-align: middle;\n",
       "    }\n",
       "\n",
       "    .dataframe tbody tr th {\n",
       "        vertical-align: top;\n",
       "    }\n",
       "\n",
       "    .dataframe thead th {\n",
       "        text-align: right;\n",
       "    }\n",
       "</style>\n",
       "<table border=\"1\" class=\"dataframe\">\n",
       "  <thead>\n",
       "    <tr style=\"text-align: right;\">\n",
       "      <th></th>\n",
       "      <th>id_cliente</th>\n",
       "      <th>cant_hijos</th>\n",
       "      <th>edad</th>\n",
       "    </tr>\n",
       "  </thead>\n",
       "  <tbody>\n",
       "    <tr>\n",
       "      <th>count</th>\n",
       "      <td>500.000000</td>\n",
       "      <td>500.000000</td>\n",
       "      <td>500.000000</td>\n",
       "    </tr>\n",
       "    <tr>\n",
       "      <th>mean</th>\n",
       "      <td>250.500000</td>\n",
       "      <td>2.500000</td>\n",
       "      <td>32.100000</td>\n",
       "    </tr>\n",
       "    <tr>\n",
       "      <th>std</th>\n",
       "      <td>144.481833</td>\n",
       "      <td>1.119154</td>\n",
       "      <td>18.557445</td>\n",
       "    </tr>\n",
       "    <tr>\n",
       "      <th>min</th>\n",
       "      <td>1.000000</td>\n",
       "      <td>1.000000</td>\n",
       "      <td>1.000000</td>\n",
       "    </tr>\n",
       "    <tr>\n",
       "      <th>25%</th>\n",
       "      <td>125.750000</td>\n",
       "      <td>1.750000</td>\n",
       "      <td>16.000000</td>\n",
       "    </tr>\n",
       "    <tr>\n",
       "      <th>50%</th>\n",
       "      <td>250.500000</td>\n",
       "      <td>2.500000</td>\n",
       "      <td>32.000000</td>\n",
       "    </tr>\n",
       "    <tr>\n",
       "      <th>75%</th>\n",
       "      <td>375.250000</td>\n",
       "      <td>3.250000</td>\n",
       "      <td>48.000000</td>\n",
       "    </tr>\n",
       "    <tr>\n",
       "      <th>max</th>\n",
       "      <td>500.000000</td>\n",
       "      <td>4.000000</td>\n",
       "      <td>65.000000</td>\n",
       "    </tr>\n",
       "  </tbody>\n",
       "</table>\n",
       "</div>"
      ],
      "text/plain": [
       "       id_cliente  cant_hijos        edad\n",
       "count  500.000000  500.000000  500.000000\n",
       "mean   250.500000    2.500000   32.100000\n",
       "std    144.481833    1.119154   18.557445\n",
       "min      1.000000    1.000000    1.000000\n",
       "25%    125.750000    1.750000   16.000000\n",
       "50%    250.500000    2.500000   32.000000\n",
       "75%    375.250000    3.250000   48.000000\n",
       "max    500.000000    4.000000   65.000000"
      ]
     },
     "execution_count": 6,
     "metadata": {},
     "output_type": "execute_result"
    }
   ],
   "source": [
    "clientes.describe()"
   ]
  },
  {
   "cell_type": "code",
   "execution_count": 7,
   "metadata": {},
   "outputs": [
    {
     "data": {
      "text/plain": [
       "Male      260\n",
       "Female    240\n",
       "Name: genero, dtype: int64"
      ]
     },
     "execution_count": 7,
     "metadata": {},
     "output_type": "execute_result"
    }
   ],
   "source": [
    "clientes.genero.value_counts()"
   ]
  },
  {
   "cell_type": "code",
   "execution_count": 8,
   "metadata": {},
   "outputs": [
    {
     "data": {
      "text/plain": [
       "Otro       127\n",
       "Viudo      126\n",
       "Soltero    124\n",
       "Casado     123\n",
       "Name: estado_civil, dtype: int64"
      ]
     },
     "execution_count": 8,
     "metadata": {},
     "output_type": "execute_result"
    }
   ],
   "source": [
    "clientes.estado_civil.value_counts()"
   ]
  },
  {
   "cell_type": "code",
   "execution_count": 9,
   "metadata": {},
   "outputs": [
    {
     "data": {
      "text/plain": [
       "Kannada           12\n",
       "Irish Gaelic      10\n",
       "Haitian Creole     9\n",
       "Czech              9\n",
       "Northern Sotho     9\n",
       "                  ..\n",
       "Danish             2\n",
       "Hiri Motu          2\n",
       "Malagasy           2\n",
       "Croatian           1\n",
       "Azeri              1\n",
       "Name: idioma, Length: 97, dtype: int64"
      ]
     },
     "execution_count": 9,
     "metadata": {},
     "output_type": "execute_result"
    }
   ],
   "source": [
    "clientes.idioma.value_counts()"
   ]
  },
  {
   "cell_type": "code",
   "execution_count": 10,
   "metadata": {},
   "outputs": [
    {
     "data": {
      "text/plain": [
       "['id_cliente',\n",
       " 'primer_nombre',\n",
       " 'apellido_paterno',\n",
       " 'apellido_materno',\n",
       " 'correo',\n",
       " 'genero',\n",
       " 'idioma',\n",
       " 'estado_civil',\n",
       " 'cant_hijos',\n",
       " 'edad',\n",
       " 'estudios',\n",
       " 'Color_F']"
      ]
     },
     "execution_count": 10,
     "metadata": {},
     "output_type": "execute_result"
    }
   ],
   "source": [
    "clientes.columns.to_list()"
   ]
  },
  {
   "cell_type": "markdown",
   "metadata": {},
   "source": [
    "### Removemos columnas de dataset clientes que no serán utilizadas"
   ]
  },
  {
   "cell_type": "code",
   "execution_count": 11,
   "metadata": {},
   "outputs": [
    {
     "data": {
      "text/html": [
       "<div>\n",
       "<style scoped>\n",
       "    .dataframe tbody tr th:only-of-type {\n",
       "        vertical-align: middle;\n",
       "    }\n",
       "\n",
       "    .dataframe tbody tr th {\n",
       "        vertical-align: top;\n",
       "    }\n",
       "\n",
       "    .dataframe thead th {\n",
       "        text-align: right;\n",
       "    }\n",
       "</style>\n",
       "<table border=\"1\" class=\"dataframe\">\n",
       "  <thead>\n",
       "    <tr style=\"text-align: right;\">\n",
       "      <th></th>\n",
       "      <th>id_cliente</th>\n",
       "      <th>genero</th>\n",
       "      <th>idioma</th>\n",
       "      <th>estado_civil</th>\n",
       "      <th>cant_hijos</th>\n",
       "      <th>edad</th>\n",
       "      <th>Color_F</th>\n",
       "      <th>cliente</th>\n",
       "    </tr>\n",
       "  </thead>\n",
       "  <tbody>\n",
       "    <tr>\n",
       "      <th>0</th>\n",
       "      <td>1</td>\n",
       "      <td>Female</td>\n",
       "      <td>Lithuanian</td>\n",
       "      <td>Otro</td>\n",
       "      <td>1</td>\n",
       "      <td>1</td>\n",
       "      <td>Celeste</td>\n",
       "      <td>Plewes, Ibby</td>\n",
       "    </tr>\n",
       "    <tr>\n",
       "      <th>1</th>\n",
       "      <td>2</td>\n",
       "      <td>Female</td>\n",
       "      <td>Armenian</td>\n",
       "      <td>Viudo</td>\n",
       "      <td>2</td>\n",
       "      <td>2</td>\n",
       "      <td>Azul</td>\n",
       "      <td>Ewell, Doralia</td>\n",
       "    </tr>\n",
       "    <tr>\n",
       "      <th>2</th>\n",
       "      <td>3</td>\n",
       "      <td>Female</td>\n",
       "      <td>Papiamento</td>\n",
       "      <td>Soltero</td>\n",
       "      <td>3</td>\n",
       "      <td>3</td>\n",
       "      <td>Celeste</td>\n",
       "      <td>Merrydew, Lynette</td>\n",
       "    </tr>\n",
       "    <tr>\n",
       "      <th>3</th>\n",
       "      <td>4</td>\n",
       "      <td>Female</td>\n",
       "      <td>Georgian</td>\n",
       "      <td>Casado</td>\n",
       "      <td>4</td>\n",
       "      <td>4</td>\n",
       "      <td>Azul</td>\n",
       "      <td>Jeffryes, Janaye</td>\n",
       "    </tr>\n",
       "    <tr>\n",
       "      <th>4</th>\n",
       "      <td>5</td>\n",
       "      <td>Male</td>\n",
       "      <td>Northern Sotho</td>\n",
       "      <td>Casado</td>\n",
       "      <td>1</td>\n",
       "      <td>5</td>\n",
       "      <td>Amarrillo</td>\n",
       "      <td>Divis, Travus</td>\n",
       "    </tr>\n",
       "  </tbody>\n",
       "</table>\n",
       "</div>"
      ],
      "text/plain": [
       "   id_cliente  genero          idioma estado_civil  cant_hijos  edad  \\\n",
       "0           1  Female      Lithuanian         Otro           1     1   \n",
       "1           2  Female        Armenian        Viudo           2     2   \n",
       "2           3  Female      Papiamento      Soltero           3     3   \n",
       "3           4  Female        Georgian       Casado           4     4   \n",
       "4           5    Male  Northern Sotho       Casado           1     5   \n",
       "\n",
       "     Color_F            cliente  \n",
       "0    Celeste       Plewes, Ibby  \n",
       "1       Azul     Ewell, Doralia  \n",
       "2    Celeste  Merrydew, Lynette  \n",
       "3       Azul   Jeffryes, Janaye  \n",
       "4  Amarrillo      Divis, Travus  "
      ]
     },
     "execution_count": 11,
     "metadata": {},
     "output_type": "execute_result"
    }
   ],
   "source": [
    "clientes['cliente'] = clientes.apellido_paterno + \", \"  + clientes.primer_nombre\n",
    "clientes.drop(labels = [\"primer_nombre\",'apellido_paterno','apellido_materno', 'correo', 'estudios'], axis = 1, inplace = True)\n",
    "clientes.head()"
   ]
  },
  {
   "cell_type": "markdown",
   "metadata": {},
   "source": [
    "##### En el dataset de clientes no hay valores nulos. Información 100% íntegra"
   ]
  },
  {
   "cell_type": "markdown",
   "metadata": {},
   "source": [
    "# Análisis dataset Trabajadores\n",
    "\n",
    "* 5 filas, 5 columnas\n",
    "* Dataset simple con la información de los cajeros\n",
    "* Columnas explicativas a analizar: \n",
    "    - Nombre completo del cajero\n",
    "* Columnas a eliminar:\n",
    "    - ID\n",
    "    - Cajero ID\n",
    "    - Nombres y apellidos (se unificará en una sola columna)\n",
    "    - RUT\n",
    "    "
   ]
  },
  {
   "cell_type": "code",
   "execution_count": 12,
   "metadata": {
    "id": "WhnW2ThDzn6H"
   },
   "outputs": [
    {
     "data": {
      "text/html": [
       "<div>\n",
       "<style scoped>\n",
       "    .dataframe tbody tr th:only-of-type {\n",
       "        vertical-align: middle;\n",
       "    }\n",
       "\n",
       "    .dataframe tbody tr th {\n",
       "        vertical-align: top;\n",
       "    }\n",
       "\n",
       "    .dataframe thead th {\n",
       "        text-align: right;\n",
       "    }\n",
       "</style>\n",
       "<table border=\"1\" class=\"dataframe\">\n",
       "  <thead>\n",
       "    <tr style=\"text-align: right;\">\n",
       "      <th></th>\n",
       "      <th>ID</th>\n",
       "      <th>CAJERO_ID</th>\n",
       "      <th>NOMBRE</th>\n",
       "      <th>APELLIDO</th>\n",
       "      <th>RUT</th>\n",
       "    </tr>\n",
       "  </thead>\n",
       "  <tbody>\n",
       "    <tr>\n",
       "      <th>0</th>\n",
       "      <td>1</td>\n",
       "      <td>2</td>\n",
       "      <td>Zelda</td>\n",
       "      <td>Wiggins</td>\n",
       "      <td>23730488-8</td>\n",
       "    </tr>\n",
       "    <tr>\n",
       "      <th>1</th>\n",
       "      <td>2</td>\n",
       "      <td>3</td>\n",
       "      <td>Kaye</td>\n",
       "      <td>Bird</td>\n",
       "      <td>18659842-3</td>\n",
       "    </tr>\n",
       "    <tr>\n",
       "      <th>2</th>\n",
       "      <td>3</td>\n",
       "      <td>4</td>\n",
       "      <td>Sean</td>\n",
       "      <td>Tucker</td>\n",
       "      <td>12534101-2</td>\n",
       "    </tr>\n",
       "    <tr>\n",
       "      <th>3</th>\n",
       "      <td>4</td>\n",
       "      <td>5</td>\n",
       "      <td>Ulric</td>\n",
       "      <td>Lester</td>\n",
       "      <td>14004608-6</td>\n",
       "    </tr>\n",
       "    <tr>\n",
       "      <th>4</th>\n",
       "      <td>5</td>\n",
       "      <td>7</td>\n",
       "      <td>Hunter</td>\n",
       "      <td>Booth</td>\n",
       "      <td>13030165-7</td>\n",
       "    </tr>\n",
       "  </tbody>\n",
       "</table>\n",
       "</div>"
      ],
      "text/plain": [
       "   ID  CAJERO_ID  NOMBRE APELLIDO         RUT\n",
       "0   1          2   Zelda  Wiggins  23730488-8\n",
       "1   2          3    Kaye     Bird  18659842-3\n",
       "2   3          4    Sean   Tucker  12534101-2\n",
       "3   4          5   Ulric   Lester  14004608-6\n",
       "4   5          7  Hunter    Booth  13030165-7"
      ]
     },
     "execution_count": 12,
     "metadata": {},
     "output_type": "execute_result"
    }
   ],
   "source": [
    "# Realice análisis de los datos del CSV 2\n",
    "trabajadores.head()"
   ]
  },
  {
   "cell_type": "code",
   "execution_count": 13,
   "metadata": {},
   "outputs": [
    {
     "data": {
      "text/plain": [
       "(5, 5)"
      ]
     },
     "execution_count": 13,
     "metadata": {},
     "output_type": "execute_result"
    }
   ],
   "source": [
    "trabajadores.shape"
   ]
  },
  {
   "cell_type": "code",
   "execution_count": 14,
   "metadata": {},
   "outputs": [
    {
     "name": "stdout",
     "output_type": "stream",
     "text": [
      "<class 'pandas.core.frame.DataFrame'>\n",
      "RangeIndex: 5 entries, 0 to 4\n",
      "Data columns (total 5 columns):\n",
      " #   Column     Non-Null Count  Dtype \n",
      "---  ------     --------------  ----- \n",
      " 0   ID         5 non-null      int64 \n",
      " 1   CAJERO_ID  5 non-null      int64 \n",
      " 2   NOMBRE     5 non-null      object\n",
      " 3   APELLIDO   5 non-null      object\n",
      " 4   RUT        5 non-null      object\n",
      "dtypes: int64(2), object(3)\n",
      "memory usage: 328.0+ bytes\n"
     ]
    }
   ],
   "source": [
    "trabajadores.info()"
   ]
  },
  {
   "cell_type": "markdown",
   "metadata": {},
   "source": [
    "### Removemos columnas de dataset trabajadores que no serán utilizadas"
   ]
  },
  {
   "cell_type": "code",
   "execution_count": 15,
   "metadata": {},
   "outputs": [
    {
     "data": {
      "text/html": [
       "<div>\n",
       "<style scoped>\n",
       "    .dataframe tbody tr th:only-of-type {\n",
       "        vertical-align: middle;\n",
       "    }\n",
       "\n",
       "    .dataframe tbody tr th {\n",
       "        vertical-align: top;\n",
       "    }\n",
       "\n",
       "    .dataframe thead th {\n",
       "        text-align: right;\n",
       "    }\n",
       "</style>\n",
       "<table border=\"1\" class=\"dataframe\">\n",
       "  <thead>\n",
       "    <tr style=\"text-align: right;\">\n",
       "      <th></th>\n",
       "      <th>ID</th>\n",
       "      <th>CAJERO_ID</th>\n",
       "      <th>cajero</th>\n",
       "    </tr>\n",
       "  </thead>\n",
       "  <tbody>\n",
       "    <tr>\n",
       "      <th>0</th>\n",
       "      <td>1</td>\n",
       "      <td>2</td>\n",
       "      <td>Wiggins, Zelda</td>\n",
       "    </tr>\n",
       "    <tr>\n",
       "      <th>1</th>\n",
       "      <td>2</td>\n",
       "      <td>3</td>\n",
       "      <td>Bird, Kaye</td>\n",
       "    </tr>\n",
       "    <tr>\n",
       "      <th>2</th>\n",
       "      <td>3</td>\n",
       "      <td>4</td>\n",
       "      <td>Tucker, Sean</td>\n",
       "    </tr>\n",
       "    <tr>\n",
       "      <th>3</th>\n",
       "      <td>4</td>\n",
       "      <td>5</td>\n",
       "      <td>Lester, Ulric</td>\n",
       "    </tr>\n",
       "    <tr>\n",
       "      <th>4</th>\n",
       "      <td>5</td>\n",
       "      <td>7</td>\n",
       "      <td>Booth, Hunter</td>\n",
       "    </tr>\n",
       "  </tbody>\n",
       "</table>\n",
       "</div>"
      ],
      "text/plain": [
       "   ID  CAJERO_ID          cajero\n",
       "0   1          2  Wiggins, Zelda\n",
       "1   2          3      Bird, Kaye\n",
       "2   3          4    Tucker, Sean\n",
       "3   4          5   Lester, Ulric\n",
       "4   5          7   Booth, Hunter"
      ]
     },
     "execution_count": 15,
     "metadata": {},
     "output_type": "execute_result"
    }
   ],
   "source": [
    "trabajadores['cajero'] = trabajadores.APELLIDO + \", \" + trabajadores.NOMBRE\n",
    "trabajadores.drop(labels=['NOMBRE', 'APELLIDO', 'RUT'], axis=1, inplace=True)\n",
    "trabajadores.head()"
   ]
  },
  {
   "cell_type": "markdown",
   "metadata": {},
   "source": [
    "# Análisis dataset Trabajadores\n",
    "\n",
    "* 1753 filas, 10 columnas\n",
    "* Dataset que contiene los registros de venta\n",
    "* Columnas a analizar: \n",
    "    - Nombre Familia\n",
    "    - Cantidad\n",
    "    - Monto Total\n",
    "* Columnas a eliminar:\n",
    "    - Venta ID \n",
    "    - Cajero ID (post merge)\n",
    "    - Comprador ID (post merge)\n",
    "    - Código Producto\n",
    "    - Código Familia\n",
    "* Columna Fecha Venta se conservará para entender el comportamiento de las ventas en el tiempo\n",
    "* Tanto para la columna fecha como monto deben limpiarse caracteres no óptimos para el análisis\n",
    "* Existen muchos registros de venta de producto *TRIAL* se debe investigar porqué viene así desde el origen\n",
    "    "
   ]
  },
  {
   "cell_type": "code",
   "execution_count": 16,
   "metadata": {},
   "outputs": [
    {
     "data": {
      "text/html": [
       "<div>\n",
       "<style scoped>\n",
       "    .dataframe tbody tr th:only-of-type {\n",
       "        vertical-align: middle;\n",
       "    }\n",
       "\n",
       "    .dataframe tbody tr th {\n",
       "        vertical-align: top;\n",
       "    }\n",
       "\n",
       "    .dataframe thead th {\n",
       "        text-align: right;\n",
       "    }\n",
       "</style>\n",
       "<table border=\"1\" class=\"dataframe\">\n",
       "  <thead>\n",
       "    <tr style=\"text-align: right;\">\n",
       "      <th></th>\n",
       "      <th>VENTA_ID</th>\n",
       "      <th>CAJERO_ID</th>\n",
       "      <th>COMPRADOR_ID</th>\n",
       "      <th>FECHA_VENTA</th>\n",
       "      <th>MONTO_TOTAL</th>\n",
       "      <th>CODIGO_PRODUCTO</th>\n",
       "      <th>NOMBRE_PRODUCTO</th>\n",
       "      <th>CODIGO_FAMILIA</th>\n",
       "      <th>NOMBRE_FAMILIA</th>\n",
       "      <th>CANTIDAD</th>\n",
       "    </tr>\n",
       "  </thead>\n",
       "  <tbody>\n",
       "    <tr>\n",
       "      <th>0</th>\n",
       "      <td>26</td>\n",
       "      <td>7</td>\n",
       "      <td>32</td>\n",
       "      <td>22/08/19 19:43:18,000000000</td>\n",
       "      <td>Q.-1500.</td>\n",
       "      <td>7802215104855</td>\n",
       "      <td>Costa Rama</td>\n",
       "      <td>4</td>\n",
       "      <td>CONFITES-GALLETAS</td>\n",
       "      <td>1,0</td>\n",
       "    </tr>\n",
       "    <tr>\n",
       "      <th>1</th>\n",
       "      <td>49</td>\n",
       "      <td>7</td>\n",
       "      <td>91</td>\n",
       "      <td>23/08/19 14:08:25,000000000</td>\n",
       "      <td>Q.4050-.</td>\n",
       "      <td>7801810712663</td>\n",
       "      <td>LIPTON YELLOW 40g. 20UN.</td>\n",
       "      <td>1</td>\n",
       "      <td>OFERTAS ESPECIALES</td>\n",
       "      <td>1,0</td>\n",
       "    </tr>\n",
       "    <tr>\n",
       "      <th>2</th>\n",
       "      <td>49</td>\n",
       "      <td>7</td>\n",
       "      <td>399</td>\n",
       "      <td>23/08/19 14:08:25,000000000</td>\n",
       "      <td>Q.4050-.</td>\n",
       "      <td>7802575006035</td>\n",
       "      <td>CORBATAS CARO.400g.</td>\n",
       "      <td>1</td>\n",
       "      <td>OFERTAS ESPECIALES</td>\n",
       "      <td>1,0</td>\n",
       "    </tr>\n",
       "    <tr>\n",
       "      <th>3</th>\n",
       "      <td>49</td>\n",
       "      <td>7</td>\n",
       "      <td>92</td>\n",
       "      <td>23/08/19 14:08:25,000000000</td>\n",
       "      <td>Q.4050-.</td>\n",
       "      <td>7801875032010</td>\n",
       "      <td>TÉ SUPREMO 40g. 20UN.</td>\n",
       "      <td>1</td>\n",
       "      <td>OFERTAS ESPECIALES</td>\n",
       "      <td>1,0</td>\n",
       "    </tr>\n",
       "    <tr>\n",
       "      <th>4</th>\n",
       "      <td>49</td>\n",
       "      <td>7</td>\n",
       "      <td>177</td>\n",
       "      <td>23/08/19 14:08:25,000000000</td>\n",
       "      <td>Q.4050-.</td>\n",
       "      <td>7808743601934</td>\n",
       "      <td>ACEITE MERKAT 900ml.</td>\n",
       "      <td>1</td>\n",
       "      <td>OFERTAS ESPECIALES</td>\n",
       "      <td>1,0</td>\n",
       "    </tr>\n",
       "  </tbody>\n",
       "</table>\n",
       "</div>"
      ],
      "text/plain": [
       "   VENTA_ID  CAJERO_ID  COMPRADOR_ID                  FECHA_VENTA MONTO_TOTAL  \\\n",
       "0        26          7            32  22/08/19 19:43:18,000000000    Q.-1500.   \n",
       "1        49          7            91  23/08/19 14:08:25,000000000    Q.4050-.   \n",
       "2        49          7           399  23/08/19 14:08:25,000000000    Q.4050-.   \n",
       "3        49          7            92  23/08/19 14:08:25,000000000    Q.4050-.   \n",
       "4        49          7           177  23/08/19 14:08:25,000000000    Q.4050-.   \n",
       "\n",
       "  CODIGO_PRODUCTO           NOMBRE_PRODUCTO  CODIGO_FAMILIA  \\\n",
       "0   7802215104855                Costa Rama               4   \n",
       "1   7801810712663  LIPTON YELLOW 40g. 20UN.               1   \n",
       "2   7802575006035       CORBATAS CARO.400g.               1   \n",
       "3   7801875032010     TÉ SUPREMO 40g. 20UN.               1   \n",
       "4   7808743601934      ACEITE MERKAT 900ml.               1   \n",
       "\n",
       "       NOMBRE_FAMILIA CANTIDAD  \n",
       "0   CONFITES-GALLETAS      1,0  \n",
       "1  OFERTAS ESPECIALES      1,0  \n",
       "2  OFERTAS ESPECIALES      1,0  \n",
       "3  OFERTAS ESPECIALES      1,0  \n",
       "4  OFERTAS ESPECIALES      1,0  "
      ]
     },
     "execution_count": 16,
     "metadata": {},
     "output_type": "execute_result"
    }
   ],
   "source": [
    "# Realice análisis de los datos del CSV 3\n",
    "ventas.head()"
   ]
  },
  {
   "cell_type": "code",
   "execution_count": 17,
   "metadata": {},
   "outputs": [
    {
     "data": {
      "text/plain": [
       "(1753, 10)"
      ]
     },
     "execution_count": 17,
     "metadata": {},
     "output_type": "execute_result"
    }
   ],
   "source": [
    "ventas.shape"
   ]
  },
  {
   "cell_type": "code",
   "execution_count": 18,
   "metadata": {},
   "outputs": [
    {
     "name": "stdout",
     "output_type": "stream",
     "text": [
      "<class 'pandas.core.frame.DataFrame'>\n",
      "RangeIndex: 1753 entries, 0 to 1752\n",
      "Data columns (total 10 columns):\n",
      " #   Column           Non-Null Count  Dtype \n",
      "---  ------           --------------  ----- \n",
      " 0   VENTA_ID         1753 non-null   int64 \n",
      " 1   CAJERO_ID        1753 non-null   int64 \n",
      " 2   COMPRADOR_ID     1753 non-null   int64 \n",
      " 3   FECHA_VENTA      1753 non-null   object\n",
      " 4   MONTO_TOTAL      1753 non-null   object\n",
      " 5   CODIGO_PRODUCTO  1753 non-null   object\n",
      " 6   NOMBRE_PRODUCTO  1753 non-null   object\n",
      " 7   CODIGO_FAMILIA   1753 non-null   int64 \n",
      " 8   NOMBRE_FAMILIA   1753 non-null   object\n",
      " 9   CANTIDAD         1753 non-null   object\n",
      "dtypes: int64(4), object(6)\n",
      "memory usage: 137.1+ KB\n"
     ]
    }
   ],
   "source": [
    "ventas.info()"
   ]
  },
  {
   "cell_type": "code",
   "execution_count": 19,
   "metadata": {},
   "outputs": [
    {
     "data": {
      "text/plain": [
       "* TRIAL * TRIAL * TR                      53\n",
       "Huevo                                     45\n",
       "* TRIAL * TRIAL * TRI                     39\n",
       "* TRIAL * TRIAL * TRIAL * TR              31\n",
       "PALL MALL AZUL DE 20                      29\n",
       "                                          ..\n",
       "POSTRE VIENNETTA VAINILLA 548g.            1\n",
       "3 PAQUE. VIENESAS TIL                      1\n",
       "JABON LIQUIDO BALLERINA 900ml              1\n",
       "NESCAFE TRADICION 3EN1 24g                 1\n",
       "PAÑALES DESECHABLES BABY SEC XXG 16UN.     1\n",
       "Name: NOMBRE_PRODUCTO, Length: 495, dtype: int64"
      ]
     },
     "execution_count": 19,
     "metadata": {},
     "output_type": "execute_result"
    }
   ],
   "source": [
    "ventas.NOMBRE_PRODUCTO.value_counts()"
   ]
  },
  {
   "cell_type": "markdown",
   "metadata": {},
   "source": [
    "### Removemos columnas de dataset ventas que no serán utilizadas"
   ]
  },
  {
   "cell_type": "code",
   "execution_count": 20,
   "metadata": {},
   "outputs": [
    {
     "data": {
      "text/html": [
       "<div>\n",
       "<style scoped>\n",
       "    .dataframe tbody tr th:only-of-type {\n",
       "        vertical-align: middle;\n",
       "    }\n",
       "\n",
       "    .dataframe tbody tr th {\n",
       "        vertical-align: top;\n",
       "    }\n",
       "\n",
       "    .dataframe thead th {\n",
       "        text-align: right;\n",
       "    }\n",
       "</style>\n",
       "<table border=\"1\" class=\"dataframe\">\n",
       "  <thead>\n",
       "    <tr style=\"text-align: right;\">\n",
       "      <th></th>\n",
       "      <th>CAJERO_ID</th>\n",
       "      <th>COMPRADOR_ID</th>\n",
       "      <th>FECHA_VENTA</th>\n",
       "      <th>MONTO_TOTAL</th>\n",
       "      <th>NOMBRE_PRODUCTO</th>\n",
       "      <th>NOMBRE_FAMILIA</th>\n",
       "      <th>CANTIDAD</th>\n",
       "    </tr>\n",
       "  </thead>\n",
       "  <tbody>\n",
       "    <tr>\n",
       "      <th>0</th>\n",
       "      <td>7</td>\n",
       "      <td>32</td>\n",
       "      <td>22/08/19 19:43:18,000000000</td>\n",
       "      <td>Q.-1500.</td>\n",
       "      <td>Costa Rama</td>\n",
       "      <td>CONFITES-GALLETAS</td>\n",
       "      <td>1,0</td>\n",
       "    </tr>\n",
       "    <tr>\n",
       "      <th>1</th>\n",
       "      <td>7</td>\n",
       "      <td>91</td>\n",
       "      <td>23/08/19 14:08:25,000000000</td>\n",
       "      <td>Q.4050-.</td>\n",
       "      <td>LIPTON YELLOW 40g. 20UN.</td>\n",
       "      <td>OFERTAS ESPECIALES</td>\n",
       "      <td>1,0</td>\n",
       "    </tr>\n",
       "    <tr>\n",
       "      <th>2</th>\n",
       "      <td>7</td>\n",
       "      <td>399</td>\n",
       "      <td>23/08/19 14:08:25,000000000</td>\n",
       "      <td>Q.4050-.</td>\n",
       "      <td>CORBATAS CARO.400g.</td>\n",
       "      <td>OFERTAS ESPECIALES</td>\n",
       "      <td>1,0</td>\n",
       "    </tr>\n",
       "    <tr>\n",
       "      <th>3</th>\n",
       "      <td>7</td>\n",
       "      <td>92</td>\n",
       "      <td>23/08/19 14:08:25,000000000</td>\n",
       "      <td>Q.4050-.</td>\n",
       "      <td>TÉ SUPREMO 40g. 20UN.</td>\n",
       "      <td>OFERTAS ESPECIALES</td>\n",
       "      <td>1,0</td>\n",
       "    </tr>\n",
       "    <tr>\n",
       "      <th>4</th>\n",
       "      <td>7</td>\n",
       "      <td>177</td>\n",
       "      <td>23/08/19 14:08:25,000000000</td>\n",
       "      <td>Q.4050-.</td>\n",
       "      <td>ACEITE MERKAT 900ml.</td>\n",
       "      <td>OFERTAS ESPECIALES</td>\n",
       "      <td>1,0</td>\n",
       "    </tr>\n",
       "  </tbody>\n",
       "</table>\n",
       "</div>"
      ],
      "text/plain": [
       "   CAJERO_ID  COMPRADOR_ID                  FECHA_VENTA MONTO_TOTAL  \\\n",
       "0          7            32  22/08/19 19:43:18,000000000    Q.-1500.   \n",
       "1          7            91  23/08/19 14:08:25,000000000    Q.4050-.   \n",
       "2          7           399  23/08/19 14:08:25,000000000    Q.4050-.   \n",
       "3          7            92  23/08/19 14:08:25,000000000    Q.4050-.   \n",
       "4          7           177  23/08/19 14:08:25,000000000    Q.4050-.   \n",
       "\n",
       "            NOMBRE_PRODUCTO      NOMBRE_FAMILIA CANTIDAD  \n",
       "0                Costa Rama   CONFITES-GALLETAS      1,0  \n",
       "1  LIPTON YELLOW 40g. 20UN.  OFERTAS ESPECIALES      1,0  \n",
       "2       CORBATAS CARO.400g.  OFERTAS ESPECIALES      1,0  \n",
       "3     TÉ SUPREMO 40g. 20UN.  OFERTAS ESPECIALES      1,0  \n",
       "4      ACEITE MERKAT 900ml.  OFERTAS ESPECIALES      1,0  "
      ]
     },
     "execution_count": 20,
     "metadata": {},
     "output_type": "execute_result"
    }
   ],
   "source": [
    "ventas.drop(labels=['VENTA_ID', 'CODIGO_PRODUCTO', 'CODIGO_FAMILIA'],axis=1, inplace=True)\n",
    "ventas.head()"
   ]
  },
  {
   "cell_type": "markdown",
   "metadata": {},
   "source": [
    "### Procesamos la columna monto total"
   ]
  },
  {
   "cell_type": "code",
   "execution_count": 21,
   "metadata": {},
   "outputs": [],
   "source": [
    "ventas['MONTO_TOTAL'] = ventas['MONTO_TOTAL'].map(lambda x: x.lstrip('Q.-').rstrip('-.'))\n",
    "# Acá se debe tomar la decisión de conservar o descartar este registro (107.8)\n",
    "ventas = ventas.replace(to_replace='107,8', value='107.8')\n",
    "ventas['MONTO_TOTAL'] = pd.to_numeric(ventas['MONTO_TOTAL'])"
   ]
  },
  {
   "cell_type": "code",
   "execution_count": 22,
   "metadata": {},
   "outputs": [
    {
     "data": {
      "text/plain": [
       "1,0      1469\n",
       "2,0       186\n",
       "3,0        38\n",
       "4,0        21\n",
       "10,0       14\n",
       "6,0         9\n",
       "5,0         9\n",
       "8,0         2\n",
       "7,0         2\n",
       "20,0        1\n",
       "0,098       1\n",
       "12,0        1\n",
       "Name: CANTIDAD, dtype: int64"
      ]
     },
     "execution_count": 22,
     "metadata": {},
     "output_type": "execute_result"
    }
   ],
   "source": [
    "ventas.CANTIDAD.value_counts()"
   ]
  },
  {
   "cell_type": "code",
   "execution_count": 23,
   "metadata": {},
   "outputs": [
    {
     "data": {
      "text/plain": [
       "1.000     1469\n",
       "2.000      186\n",
       "3.000       38\n",
       "4.000       21\n",
       "10.000      14\n",
       "6.000        9\n",
       "5.000        9\n",
       "8.000        2\n",
       "7.000        2\n",
       "20.000       1\n",
       "0.098        1\n",
       "12.000       1\n",
       "Name: CANTIDAD, dtype: int64"
      ]
     },
     "execution_count": 23,
     "metadata": {},
     "output_type": "execute_result"
    }
   ],
   "source": [
    "ventas.CANTIDAD =  ventas.CANTIDAD.str.replace(',', '.')\n",
    "ventas.CANTIDAD = pd.to_numeric(ventas.CANTIDAD)\n",
    "ventas.CANTIDAD.value_counts()"
   ]
  },
  {
   "cell_type": "code",
   "execution_count": 24,
   "metadata": {},
   "outputs": [
    {
     "name": "stdout",
     "output_type": "stream",
     "text": [
      "<class 'pandas.core.frame.DataFrame'>\n",
      "RangeIndex: 1753 entries, 0 to 1752\n",
      "Data columns (total 7 columns):\n",
      " #   Column           Non-Null Count  Dtype  \n",
      "---  ------           --------------  -----  \n",
      " 0   CAJERO_ID        1753 non-null   int64  \n",
      " 1   COMPRADOR_ID     1753 non-null   int64  \n",
      " 2   FECHA_VENTA      1753 non-null   object \n",
      " 3   MONTO_TOTAL      1753 non-null   float64\n",
      " 4   NOMBRE_PRODUCTO  1753 non-null   object \n",
      " 5   NOMBRE_FAMILIA   1753 non-null   object \n",
      " 6   CANTIDAD         1753 non-null   float64\n",
      "dtypes: float64(2), int64(2), object(3)\n",
      "memory usage: 96.0+ KB\n"
     ]
    }
   ],
   "source": [
    "ventas.info()"
   ]
  },
  {
   "cell_type": "markdown",
   "metadata": {
    "id": "Ezy94u2KzqCK"
   },
   "source": [
    "## Unificamos los CSV con la función merge"
   ]
  },
  {
   "cell_type": "code",
   "execution_count": 25,
   "metadata": {
    "id": "ORCLR8pfzteB"
   },
   "outputs": [
    {
     "data": {
      "text/html": [
       "<div>\n",
       "<style scoped>\n",
       "    .dataframe tbody tr th:only-of-type {\n",
       "        vertical-align: middle;\n",
       "    }\n",
       "\n",
       "    .dataframe tbody tr th {\n",
       "        vertical-align: top;\n",
       "    }\n",
       "\n",
       "    .dataframe thead th {\n",
       "        text-align: right;\n",
       "    }\n",
       "</style>\n",
       "<table border=\"1\" class=\"dataframe\">\n",
       "  <thead>\n",
       "    <tr style=\"text-align: right;\">\n",
       "      <th></th>\n",
       "      <th>CAJERO_ID</th>\n",
       "      <th>COMPRADOR_ID</th>\n",
       "      <th>FECHA_VENTA</th>\n",
       "      <th>MONTO_TOTAL</th>\n",
       "      <th>NOMBRE_PRODUCTO</th>\n",
       "      <th>NOMBRE_FAMILIA</th>\n",
       "      <th>CANTIDAD</th>\n",
       "      <th>ID</th>\n",
       "      <th>cajero</th>\n",
       "      <th>id_cliente</th>\n",
       "      <th>genero</th>\n",
       "      <th>idioma</th>\n",
       "      <th>estado_civil</th>\n",
       "      <th>cant_hijos</th>\n",
       "      <th>edad</th>\n",
       "      <th>Color_F</th>\n",
       "      <th>cliente</th>\n",
       "    </tr>\n",
       "  </thead>\n",
       "  <tbody>\n",
       "    <tr>\n",
       "      <th>0</th>\n",
       "      <td>7</td>\n",
       "      <td>32</td>\n",
       "      <td>22/08/19 19:43:18,000000000</td>\n",
       "      <td>1500.0</td>\n",
       "      <td>Costa Rama</td>\n",
       "      <td>CONFITES-GALLETAS</td>\n",
       "      <td>1.0</td>\n",
       "      <td>5</td>\n",
       "      <td>Booth, Hunter</td>\n",
       "      <td>32</td>\n",
       "      <td>Male</td>\n",
       "      <td>Pashto</td>\n",
       "      <td>Viudo</td>\n",
       "      <td>4</td>\n",
       "      <td>32</td>\n",
       "      <td>Azul</td>\n",
       "      <td>Palia, Justus</td>\n",
       "    </tr>\n",
       "    <tr>\n",
       "      <th>1</th>\n",
       "      <td>7</td>\n",
       "      <td>91</td>\n",
       "      <td>23/08/19 14:08:25,000000000</td>\n",
       "      <td>4050.0</td>\n",
       "      <td>LIPTON YELLOW 40g. 20UN.</td>\n",
       "      <td>OFERTAS ESPECIALES</td>\n",
       "      <td>1.0</td>\n",
       "      <td>5</td>\n",
       "      <td>Booth, Hunter</td>\n",
       "      <td>91</td>\n",
       "      <td>Female</td>\n",
       "      <td>Dhivehi</td>\n",
       "      <td>Casado</td>\n",
       "      <td>3</td>\n",
       "      <td>26</td>\n",
       "      <td>Rojo</td>\n",
       "      <td>Quaife, Dela</td>\n",
       "    </tr>\n",
       "    <tr>\n",
       "      <th>2</th>\n",
       "      <td>7</td>\n",
       "      <td>399</td>\n",
       "      <td>23/08/19 14:08:25,000000000</td>\n",
       "      <td>4050.0</td>\n",
       "      <td>CORBATAS CARO.400g.</td>\n",
       "      <td>OFERTAS ESPECIALES</td>\n",
       "      <td>1.0</td>\n",
       "      <td>5</td>\n",
       "      <td>Booth, Hunter</td>\n",
       "      <td>399</td>\n",
       "      <td>Male</td>\n",
       "      <td>Tswana</td>\n",
       "      <td>Casado</td>\n",
       "      <td>3</td>\n",
       "      <td>9</td>\n",
       "      <td>Azul</td>\n",
       "      <td>Dilleston, Laird</td>\n",
       "    </tr>\n",
       "    <tr>\n",
       "      <th>3</th>\n",
       "      <td>7</td>\n",
       "      <td>92</td>\n",
       "      <td>23/08/19 14:08:25,000000000</td>\n",
       "      <td>4050.0</td>\n",
       "      <td>TÉ SUPREMO 40g. 20UN.</td>\n",
       "      <td>OFERTAS ESPECIALES</td>\n",
       "      <td>1.0</td>\n",
       "      <td>5</td>\n",
       "      <td>Booth, Hunter</td>\n",
       "      <td>92</td>\n",
       "      <td>Male</td>\n",
       "      <td>Moldovan</td>\n",
       "      <td>Soltero</td>\n",
       "      <td>4</td>\n",
       "      <td>27</td>\n",
       "      <td>Otro</td>\n",
       "      <td>Balbeck, Moe</td>\n",
       "    </tr>\n",
       "    <tr>\n",
       "      <th>4</th>\n",
       "      <td>7</td>\n",
       "      <td>177</td>\n",
       "      <td>23/08/19 14:08:25,000000000</td>\n",
       "      <td>4050.0</td>\n",
       "      <td>ACEITE MERKAT 900ml.</td>\n",
       "      <td>OFERTAS ESPECIALES</td>\n",
       "      <td>1.0</td>\n",
       "      <td>5</td>\n",
       "      <td>Booth, Hunter</td>\n",
       "      <td>177</td>\n",
       "      <td>Male</td>\n",
       "      <td>Dzongkha</td>\n",
       "      <td>Casado</td>\n",
       "      <td>1</td>\n",
       "      <td>47</td>\n",
       "      <td>Morado</td>\n",
       "      <td>Edworthye, Stacee</td>\n",
       "    </tr>\n",
       "  </tbody>\n",
       "</table>\n",
       "</div>"
      ],
      "text/plain": [
       "   CAJERO_ID  COMPRADOR_ID                  FECHA_VENTA  MONTO_TOTAL  \\\n",
       "0          7            32  22/08/19 19:43:18,000000000       1500.0   \n",
       "1          7            91  23/08/19 14:08:25,000000000       4050.0   \n",
       "2          7           399  23/08/19 14:08:25,000000000       4050.0   \n",
       "3          7            92  23/08/19 14:08:25,000000000       4050.0   \n",
       "4          7           177  23/08/19 14:08:25,000000000       4050.0   \n",
       "\n",
       "            NOMBRE_PRODUCTO      NOMBRE_FAMILIA  CANTIDAD  ID         cajero  \\\n",
       "0                Costa Rama   CONFITES-GALLETAS       1.0   5  Booth, Hunter   \n",
       "1  LIPTON YELLOW 40g. 20UN.  OFERTAS ESPECIALES       1.0   5  Booth, Hunter   \n",
       "2       CORBATAS CARO.400g.  OFERTAS ESPECIALES       1.0   5  Booth, Hunter   \n",
       "3     TÉ SUPREMO 40g. 20UN.  OFERTAS ESPECIALES       1.0   5  Booth, Hunter   \n",
       "4      ACEITE MERKAT 900ml.  OFERTAS ESPECIALES       1.0   5  Booth, Hunter   \n",
       "\n",
       "   id_cliente  genero    idioma estado_civil  cant_hijos  edad Color_F  \\\n",
       "0          32    Male    Pashto        Viudo           4    32    Azul   \n",
       "1          91  Female   Dhivehi       Casado           3    26    Rojo   \n",
       "2         399    Male    Tswana       Casado           3     9    Azul   \n",
       "3          92    Male  Moldovan      Soltero           4    27    Otro   \n",
       "4         177    Male  Dzongkha       Casado           1    47  Morado   \n",
       "\n",
       "             cliente  \n",
       "0      Palia, Justus  \n",
       "1       Quaife, Dela  \n",
       "2   Dilleston, Laird  \n",
       "3       Balbeck, Moe  \n",
       "4  Edworthye, Stacee  "
      ]
     },
     "execution_count": 25,
     "metadata": {},
     "output_type": "execute_result"
    }
   ],
   "source": [
    "# Unir los CSV aquí\n",
    "# Mergeamos las ventas con el cajero que realizó la venta\n",
    "data = ventas.merge(trabajadores, left_on=\"CAJERO_ID\",right_on=\"CAJERO_ID\", how=\"left\")\n",
    "# Mergeamos las ventas con el cliente que realizó la compra\n",
    "data = data.merge(clientes, left_on='COMPRADOR_ID', right_on='id_cliente', how='left')\n",
    "data.head()"
   ]
  },
  {
   "cell_type": "markdown",
   "metadata": {},
   "source": [
    "### Eliminación de columnas que no serán utilizadas en el análisis"
   ]
  },
  {
   "cell_type": "code",
   "execution_count": 26,
   "metadata": {},
   "outputs": [
    {
     "data": {
      "text/html": [
       "<div>\n",
       "<style scoped>\n",
       "    .dataframe tbody tr th:only-of-type {\n",
       "        vertical-align: middle;\n",
       "    }\n",
       "\n",
       "    .dataframe tbody tr th {\n",
       "        vertical-align: top;\n",
       "    }\n",
       "\n",
       "    .dataframe thead th {\n",
       "        text-align: right;\n",
       "    }\n",
       "</style>\n",
       "<table border=\"1\" class=\"dataframe\">\n",
       "  <thead>\n",
       "    <tr style=\"text-align: right;\">\n",
       "      <th></th>\n",
       "      <th>FECHA_VENTA</th>\n",
       "      <th>MONTO_TOTAL</th>\n",
       "      <th>NOMBRE_PRODUCTO</th>\n",
       "      <th>NOMBRE_FAMILIA</th>\n",
       "      <th>CANTIDAD</th>\n",
       "      <th>cajero</th>\n",
       "      <th>genero</th>\n",
       "      <th>idioma</th>\n",
       "      <th>estado_civil</th>\n",
       "      <th>cant_hijos</th>\n",
       "      <th>edad</th>\n",
       "      <th>Color_F</th>\n",
       "      <th>cliente</th>\n",
       "    </tr>\n",
       "  </thead>\n",
       "  <tbody>\n",
       "    <tr>\n",
       "      <th>0</th>\n",
       "      <td>22/08/19 19:43:18,000000000</td>\n",
       "      <td>1500.0</td>\n",
       "      <td>Costa Rama</td>\n",
       "      <td>CONFITES-GALLETAS</td>\n",
       "      <td>1.0</td>\n",
       "      <td>Booth, Hunter</td>\n",
       "      <td>Male</td>\n",
       "      <td>Pashto</td>\n",
       "      <td>Viudo</td>\n",
       "      <td>4</td>\n",
       "      <td>32</td>\n",
       "      <td>Azul</td>\n",
       "      <td>Palia, Justus</td>\n",
       "    </tr>\n",
       "    <tr>\n",
       "      <th>1</th>\n",
       "      <td>23/08/19 14:08:25,000000000</td>\n",
       "      <td>4050.0</td>\n",
       "      <td>LIPTON YELLOW 40g. 20UN.</td>\n",
       "      <td>OFERTAS ESPECIALES</td>\n",
       "      <td>1.0</td>\n",
       "      <td>Booth, Hunter</td>\n",
       "      <td>Female</td>\n",
       "      <td>Dhivehi</td>\n",
       "      <td>Casado</td>\n",
       "      <td>3</td>\n",
       "      <td>26</td>\n",
       "      <td>Rojo</td>\n",
       "      <td>Quaife, Dela</td>\n",
       "    </tr>\n",
       "    <tr>\n",
       "      <th>2</th>\n",
       "      <td>23/08/19 14:08:25,000000000</td>\n",
       "      <td>4050.0</td>\n",
       "      <td>CORBATAS CARO.400g.</td>\n",
       "      <td>OFERTAS ESPECIALES</td>\n",
       "      <td>1.0</td>\n",
       "      <td>Booth, Hunter</td>\n",
       "      <td>Male</td>\n",
       "      <td>Tswana</td>\n",
       "      <td>Casado</td>\n",
       "      <td>3</td>\n",
       "      <td>9</td>\n",
       "      <td>Azul</td>\n",
       "      <td>Dilleston, Laird</td>\n",
       "    </tr>\n",
       "    <tr>\n",
       "      <th>3</th>\n",
       "      <td>23/08/19 14:08:25,000000000</td>\n",
       "      <td>4050.0</td>\n",
       "      <td>TÉ SUPREMO 40g. 20UN.</td>\n",
       "      <td>OFERTAS ESPECIALES</td>\n",
       "      <td>1.0</td>\n",
       "      <td>Booth, Hunter</td>\n",
       "      <td>Male</td>\n",
       "      <td>Moldovan</td>\n",
       "      <td>Soltero</td>\n",
       "      <td>4</td>\n",
       "      <td>27</td>\n",
       "      <td>Otro</td>\n",
       "      <td>Balbeck, Moe</td>\n",
       "    </tr>\n",
       "    <tr>\n",
       "      <th>4</th>\n",
       "      <td>23/08/19 14:08:25,000000000</td>\n",
       "      <td>4050.0</td>\n",
       "      <td>ACEITE MERKAT 900ml.</td>\n",
       "      <td>OFERTAS ESPECIALES</td>\n",
       "      <td>1.0</td>\n",
       "      <td>Booth, Hunter</td>\n",
       "      <td>Male</td>\n",
       "      <td>Dzongkha</td>\n",
       "      <td>Casado</td>\n",
       "      <td>1</td>\n",
       "      <td>47</td>\n",
       "      <td>Morado</td>\n",
       "      <td>Edworthye, Stacee</td>\n",
       "    </tr>\n",
       "  </tbody>\n",
       "</table>\n",
       "</div>"
      ],
      "text/plain": [
       "                   FECHA_VENTA  MONTO_TOTAL           NOMBRE_PRODUCTO  \\\n",
       "0  22/08/19 19:43:18,000000000       1500.0                Costa Rama   \n",
       "1  23/08/19 14:08:25,000000000       4050.0  LIPTON YELLOW 40g. 20UN.   \n",
       "2  23/08/19 14:08:25,000000000       4050.0       CORBATAS CARO.400g.   \n",
       "3  23/08/19 14:08:25,000000000       4050.0     TÉ SUPREMO 40g. 20UN.   \n",
       "4  23/08/19 14:08:25,000000000       4050.0      ACEITE MERKAT 900ml.   \n",
       "\n",
       "       NOMBRE_FAMILIA  CANTIDAD         cajero  genero    idioma estado_civil  \\\n",
       "0   CONFITES-GALLETAS       1.0  Booth, Hunter    Male    Pashto        Viudo   \n",
       "1  OFERTAS ESPECIALES       1.0  Booth, Hunter  Female   Dhivehi       Casado   \n",
       "2  OFERTAS ESPECIALES       1.0  Booth, Hunter    Male    Tswana       Casado   \n",
       "3  OFERTAS ESPECIALES       1.0  Booth, Hunter    Male  Moldovan      Soltero   \n",
       "4  OFERTAS ESPECIALES       1.0  Booth, Hunter    Male  Dzongkha       Casado   \n",
       "\n",
       "   cant_hijos  edad Color_F            cliente  \n",
       "0           4    32    Azul      Palia, Justus  \n",
       "1           3    26    Rojo       Quaife, Dela  \n",
       "2           3     9    Azul   Dilleston, Laird  \n",
       "3           4    27    Otro       Balbeck, Moe  \n",
       "4           1    47  Morado  Edworthye, Stacee  "
      ]
     },
     "execution_count": 26,
     "metadata": {},
     "output_type": "execute_result"
    }
   ],
   "source": [
    "# Eliminamos columnas innecesarias\n",
    "data.drop(labels = ['CAJERO_ID','COMPRADOR_ID', 'id_cliente', 'ID'], axis = 1, inplace = True)\n",
    "data.head()"
   ]
  },
  {
   "cell_type": "code",
   "execution_count": 27,
   "metadata": {},
   "outputs": [
    {
     "data": {
      "text/plain": [
       "1.0     1469\n",
       "2.0      186\n",
       "3.0       38\n",
       "4.0       21\n",
       "10.0      14\n",
       "6.0        9\n",
       "5.0        9\n",
       "8.0        2\n",
       "7.0        2\n",
       "20.0       1\n",
       "12.0       1\n",
       "Name: CANTIDAD, dtype: int64"
      ]
     },
     "execution_count": 27,
     "metadata": {},
     "output_type": "execute_result"
    }
   ],
   "source": [
    "# Reordenamos las columnas del dataset para facilitar su lectura\n",
    "sales = data[['cajero', 'NOMBRE_FAMILIA','NOMBRE_PRODUCTO', 'CANTIDAD','MONTO_TOTAL','cliente', 'genero', 'idioma', 'estado_civil', 'cant_hijos', 'edad', 'Color_F', 'FECHA_VENTA']]\n",
    "sales = sales[sales['CANTIDAD'] != 0.098]\n",
    "sales.head()\n",
    "sales.CANTIDAD.value_counts()"
   ]
  },
  {
   "cell_type": "code",
   "execution_count": 28,
   "metadata": {},
   "outputs": [
    {
     "data": {
      "text/html": [
       "<div>\n",
       "<style scoped>\n",
       "    .dataframe tbody tr th:only-of-type {\n",
       "        vertical-align: middle;\n",
       "    }\n",
       "\n",
       "    .dataframe tbody tr th {\n",
       "        vertical-align: top;\n",
       "    }\n",
       "\n",
       "    .dataframe thead th {\n",
       "        text-align: right;\n",
       "    }\n",
       "</style>\n",
       "<table border=\"1\" class=\"dataframe\">\n",
       "  <thead>\n",
       "    <tr style=\"text-align: right;\">\n",
       "      <th></th>\n",
       "      <th>cajero</th>\n",
       "      <th>nombre_familia</th>\n",
       "      <th>nombre_producto</th>\n",
       "      <th>cantidad</th>\n",
       "      <th>monto_total</th>\n",
       "      <th>cliente</th>\n",
       "      <th>genero</th>\n",
       "      <th>idioma</th>\n",
       "      <th>estado_civil</th>\n",
       "      <th>cant_hijos</th>\n",
       "      <th>edad</th>\n",
       "      <th>color_fav</th>\n",
       "      <th>fecha_venta</th>\n",
       "    </tr>\n",
       "  </thead>\n",
       "  <tbody>\n",
       "    <tr>\n",
       "      <th>0</th>\n",
       "      <td>Booth, Hunter</td>\n",
       "      <td>CONFITES-GALLETAS</td>\n",
       "      <td>Costa Rama</td>\n",
       "      <td>1.0</td>\n",
       "      <td>1500.0</td>\n",
       "      <td>Palia, Justus</td>\n",
       "      <td>Male</td>\n",
       "      <td>Pashto</td>\n",
       "      <td>Viudo</td>\n",
       "      <td>4</td>\n",
       "      <td>32</td>\n",
       "      <td>Azul</td>\n",
       "      <td>22/08/19 19:43:18,000000000</td>\n",
       "    </tr>\n",
       "    <tr>\n",
       "      <th>1</th>\n",
       "      <td>Booth, Hunter</td>\n",
       "      <td>OFERTAS ESPECIALES</td>\n",
       "      <td>LIPTON YELLOW 40g. 20UN.</td>\n",
       "      <td>1.0</td>\n",
       "      <td>4050.0</td>\n",
       "      <td>Quaife, Dela</td>\n",
       "      <td>Female</td>\n",
       "      <td>Dhivehi</td>\n",
       "      <td>Casado</td>\n",
       "      <td>3</td>\n",
       "      <td>26</td>\n",
       "      <td>Rojo</td>\n",
       "      <td>23/08/19 14:08:25,000000000</td>\n",
       "    </tr>\n",
       "    <tr>\n",
       "      <th>2</th>\n",
       "      <td>Booth, Hunter</td>\n",
       "      <td>OFERTAS ESPECIALES</td>\n",
       "      <td>CORBATAS CARO.400g.</td>\n",
       "      <td>1.0</td>\n",
       "      <td>4050.0</td>\n",
       "      <td>Dilleston, Laird</td>\n",
       "      <td>Male</td>\n",
       "      <td>Tswana</td>\n",
       "      <td>Casado</td>\n",
       "      <td>3</td>\n",
       "      <td>9</td>\n",
       "      <td>Azul</td>\n",
       "      <td>23/08/19 14:08:25,000000000</td>\n",
       "    </tr>\n",
       "    <tr>\n",
       "      <th>3</th>\n",
       "      <td>Booth, Hunter</td>\n",
       "      <td>OFERTAS ESPECIALES</td>\n",
       "      <td>TÉ SUPREMO 40g. 20UN.</td>\n",
       "      <td>1.0</td>\n",
       "      <td>4050.0</td>\n",
       "      <td>Balbeck, Moe</td>\n",
       "      <td>Male</td>\n",
       "      <td>Moldovan</td>\n",
       "      <td>Soltero</td>\n",
       "      <td>4</td>\n",
       "      <td>27</td>\n",
       "      <td>Otro</td>\n",
       "      <td>23/08/19 14:08:25,000000000</td>\n",
       "    </tr>\n",
       "    <tr>\n",
       "      <th>4</th>\n",
       "      <td>Booth, Hunter</td>\n",
       "      <td>OFERTAS ESPECIALES</td>\n",
       "      <td>ACEITE MERKAT 900ml.</td>\n",
       "      <td>1.0</td>\n",
       "      <td>4050.0</td>\n",
       "      <td>Edworthye, Stacee</td>\n",
       "      <td>Male</td>\n",
       "      <td>Dzongkha</td>\n",
       "      <td>Casado</td>\n",
       "      <td>1</td>\n",
       "      <td>47</td>\n",
       "      <td>Morado</td>\n",
       "      <td>23/08/19 14:08:25,000000000</td>\n",
       "    </tr>\n",
       "  </tbody>\n",
       "</table>\n",
       "</div>"
      ],
      "text/plain": [
       "          cajero      nombre_familia           nombre_producto  cantidad  \\\n",
       "0  Booth, Hunter   CONFITES-GALLETAS                Costa Rama       1.0   \n",
       "1  Booth, Hunter  OFERTAS ESPECIALES  LIPTON YELLOW 40g. 20UN.       1.0   \n",
       "2  Booth, Hunter  OFERTAS ESPECIALES       CORBATAS CARO.400g.       1.0   \n",
       "3  Booth, Hunter  OFERTAS ESPECIALES     TÉ SUPREMO 40g. 20UN.       1.0   \n",
       "4  Booth, Hunter  OFERTAS ESPECIALES      ACEITE MERKAT 900ml.       1.0   \n",
       "\n",
       "   monto_total            cliente  genero    idioma estado_civil  cant_hijos  \\\n",
       "0       1500.0      Palia, Justus    Male    Pashto        Viudo           4   \n",
       "1       4050.0       Quaife, Dela  Female   Dhivehi       Casado           3   \n",
       "2       4050.0   Dilleston, Laird    Male    Tswana       Casado           3   \n",
       "3       4050.0       Balbeck, Moe    Male  Moldovan      Soltero           4   \n",
       "4       4050.0  Edworthye, Stacee    Male  Dzongkha       Casado           1   \n",
       "\n",
       "   edad color_fav                  fecha_venta  \n",
       "0    32      Azul  22/08/19 19:43:18,000000000  \n",
       "1    26      Rojo  23/08/19 14:08:25,000000000  \n",
       "2     9      Azul  23/08/19 14:08:25,000000000  \n",
       "3    27      Otro  23/08/19 14:08:25,000000000  \n",
       "4    47    Morado  23/08/19 14:08:25,000000000  "
      ]
     },
     "execution_count": 28,
     "metadata": {},
     "output_type": "execute_result"
    }
   ],
   "source": [
    "# Renombramos columnas para estandarizar en notación húngara\n",
    "sales.rename(columns={'NOMBRE_FAMILIA': 'nombre_familia', 'NOMBRE_PRODUCTO': 'nombre_producto', \n",
    "                        'CANTIDAD': 'cantidad', 'MONTO_TOTAL': 'monto_total', 'Color_F': 'color_fav', 'FECHA_VENTA': 'fecha_venta'}, inplace=True)\n",
    "sales.head()"
   ]
  },
  {
   "cell_type": "code",
   "execution_count": 29,
   "metadata": {},
   "outputs": [],
   "source": [
    "# Parseamos fecha a datetime\n",
    "sales.fecha_venta = pd.to_datetime(sales.fecha_venta)"
   ]
  },
  {
   "cell_type": "code",
   "execution_count": 30,
   "metadata": {},
   "outputs": [
    {
     "data": {
      "text/html": [
       "<div>\n",
       "<style scoped>\n",
       "    .dataframe tbody tr th:only-of-type {\n",
       "        vertical-align: middle;\n",
       "    }\n",
       "\n",
       "    .dataframe tbody tr th {\n",
       "        vertical-align: top;\n",
       "    }\n",
       "\n",
       "    .dataframe thead th {\n",
       "        text-align: right;\n",
       "    }\n",
       "</style>\n",
       "<table border=\"1\" class=\"dataframe\">\n",
       "  <thead>\n",
       "    <tr style=\"text-align: right;\">\n",
       "      <th></th>\n",
       "      <th>cajero</th>\n",
       "      <th>nombre_familia</th>\n",
       "      <th>nombre_producto</th>\n",
       "      <th>cantidad</th>\n",
       "      <th>monto_total</th>\n",
       "      <th>cliente</th>\n",
       "      <th>genero</th>\n",
       "      <th>idioma</th>\n",
       "      <th>estado_civil</th>\n",
       "      <th>cant_hijos</th>\n",
       "      <th>edad</th>\n",
       "      <th>color_fav</th>\n",
       "      <th>fecha_venta</th>\n",
       "      <th>year</th>\n",
       "      <th>month</th>\n",
       "    </tr>\n",
       "  </thead>\n",
       "  <tbody>\n",
       "    <tr>\n",
       "      <th>0</th>\n",
       "      <td>Booth, Hunter</td>\n",
       "      <td>CONFITES-GALLETAS</td>\n",
       "      <td>Costa Rama</td>\n",
       "      <td>1.0</td>\n",
       "      <td>1500.0</td>\n",
       "      <td>Palia, Justus</td>\n",
       "      <td>Male</td>\n",
       "      <td>Pashto</td>\n",
       "      <td>Viudo</td>\n",
       "      <td>4</td>\n",
       "      <td>32</td>\n",
       "      <td>Azul</td>\n",
       "      <td>2019-08-22 19:43:18</td>\n",
       "      <td>2019</td>\n",
       "      <td>8</td>\n",
       "    </tr>\n",
       "    <tr>\n",
       "      <th>1</th>\n",
       "      <td>Booth, Hunter</td>\n",
       "      <td>OFERTAS ESPECIALES</td>\n",
       "      <td>LIPTON YELLOW 40g. 20UN.</td>\n",
       "      <td>1.0</td>\n",
       "      <td>4050.0</td>\n",
       "      <td>Quaife, Dela</td>\n",
       "      <td>Female</td>\n",
       "      <td>Dhivehi</td>\n",
       "      <td>Casado</td>\n",
       "      <td>3</td>\n",
       "      <td>26</td>\n",
       "      <td>Rojo</td>\n",
       "      <td>2019-08-23 14:08:25</td>\n",
       "      <td>2019</td>\n",
       "      <td>8</td>\n",
       "    </tr>\n",
       "    <tr>\n",
       "      <th>2</th>\n",
       "      <td>Booth, Hunter</td>\n",
       "      <td>OFERTAS ESPECIALES</td>\n",
       "      <td>CORBATAS CARO.400g.</td>\n",
       "      <td>1.0</td>\n",
       "      <td>4050.0</td>\n",
       "      <td>Dilleston, Laird</td>\n",
       "      <td>Male</td>\n",
       "      <td>Tswana</td>\n",
       "      <td>Casado</td>\n",
       "      <td>3</td>\n",
       "      <td>9</td>\n",
       "      <td>Azul</td>\n",
       "      <td>2019-08-23 14:08:25</td>\n",
       "      <td>2019</td>\n",
       "      <td>8</td>\n",
       "    </tr>\n",
       "    <tr>\n",
       "      <th>3</th>\n",
       "      <td>Booth, Hunter</td>\n",
       "      <td>OFERTAS ESPECIALES</td>\n",
       "      <td>TÉ SUPREMO 40g. 20UN.</td>\n",
       "      <td>1.0</td>\n",
       "      <td>4050.0</td>\n",
       "      <td>Balbeck, Moe</td>\n",
       "      <td>Male</td>\n",
       "      <td>Moldovan</td>\n",
       "      <td>Soltero</td>\n",
       "      <td>4</td>\n",
       "      <td>27</td>\n",
       "      <td>Otro</td>\n",
       "      <td>2019-08-23 14:08:25</td>\n",
       "      <td>2019</td>\n",
       "      <td>8</td>\n",
       "    </tr>\n",
       "    <tr>\n",
       "      <th>4</th>\n",
       "      <td>Booth, Hunter</td>\n",
       "      <td>OFERTAS ESPECIALES</td>\n",
       "      <td>ACEITE MERKAT 900ml.</td>\n",
       "      <td>1.0</td>\n",
       "      <td>4050.0</td>\n",
       "      <td>Edworthye, Stacee</td>\n",
       "      <td>Male</td>\n",
       "      <td>Dzongkha</td>\n",
       "      <td>Casado</td>\n",
       "      <td>1</td>\n",
       "      <td>47</td>\n",
       "      <td>Morado</td>\n",
       "      <td>2019-08-23 14:08:25</td>\n",
       "      <td>2019</td>\n",
       "      <td>8</td>\n",
       "    </tr>\n",
       "  </tbody>\n",
       "</table>\n",
       "</div>"
      ],
      "text/plain": [
       "          cajero      nombre_familia           nombre_producto  cantidad  \\\n",
       "0  Booth, Hunter   CONFITES-GALLETAS                Costa Rama       1.0   \n",
       "1  Booth, Hunter  OFERTAS ESPECIALES  LIPTON YELLOW 40g. 20UN.       1.0   \n",
       "2  Booth, Hunter  OFERTAS ESPECIALES       CORBATAS CARO.400g.       1.0   \n",
       "3  Booth, Hunter  OFERTAS ESPECIALES     TÉ SUPREMO 40g. 20UN.       1.0   \n",
       "4  Booth, Hunter  OFERTAS ESPECIALES      ACEITE MERKAT 900ml.       1.0   \n",
       "\n",
       "   monto_total            cliente  genero    idioma estado_civil  cant_hijos  \\\n",
       "0       1500.0      Palia, Justus    Male    Pashto        Viudo           4   \n",
       "1       4050.0       Quaife, Dela  Female   Dhivehi       Casado           3   \n",
       "2       4050.0   Dilleston, Laird    Male    Tswana       Casado           3   \n",
       "3       4050.0       Balbeck, Moe    Male  Moldovan      Soltero           4   \n",
       "4       4050.0  Edworthye, Stacee    Male  Dzongkha       Casado           1   \n",
       "\n",
       "   edad color_fav         fecha_venta  year  month  \n",
       "0    32      Azul 2019-08-22 19:43:18  2019      8  \n",
       "1    26      Rojo 2019-08-23 14:08:25  2019      8  \n",
       "2     9      Azul 2019-08-23 14:08:25  2019      8  \n",
       "3    27      Otro 2019-08-23 14:08:25  2019      8  \n",
       "4    47    Morado 2019-08-23 14:08:25  2019      8  "
      ]
     },
     "execution_count": 30,
     "metadata": {},
     "output_type": "execute_result"
    }
   ],
   "source": [
    "# Generamos columna año y mes\n",
    "sales['year']  = pd.DatetimeIndex(sales['fecha_venta']).year\n",
    "sales['month'] = pd.DatetimeIndex(sales['fecha_venta']).month\n",
    "sales.head()"
   ]
  },
  {
   "cell_type": "code",
   "execution_count": 31,
   "metadata": {},
   "outputs": [
    {
     "name": "stdout",
     "output_type": "stream",
     "text": [
      "<class 'pandas.core.frame.DataFrame'>\n",
      "Int64Index: 1752 entries, 0 to 1752\n",
      "Data columns (total 15 columns):\n",
      " #   Column           Non-Null Count  Dtype         \n",
      "---  ------           --------------  -----         \n",
      " 0   cajero           1752 non-null   object        \n",
      " 1   nombre_familia   1752 non-null   object        \n",
      " 2   nombre_producto  1752 non-null   object        \n",
      " 3   cantidad         1752 non-null   float64       \n",
      " 4   monto_total      1752 non-null   float64       \n",
      " 5   cliente          1752 non-null   object        \n",
      " 6   genero           1752 non-null   object        \n",
      " 7   idioma           1752 non-null   object        \n",
      " 8   estado_civil     1752 non-null   object        \n",
      " 9   cant_hijos       1752 non-null   int64         \n",
      " 10  edad             1752 non-null   int64         \n",
      " 11  color_fav        1752 non-null   object        \n",
      " 12  fecha_venta      1752 non-null   datetime64[ns]\n",
      " 13  year             1752 non-null   int64         \n",
      " 14  month            1752 non-null   int64         \n",
      "dtypes: datetime64[ns](1), float64(2), int64(4), object(8)\n",
      "memory usage: 219.0+ KB\n"
     ]
    }
   ],
   "source": [
    "sales.info()"
   ]
  },
  {
   "cell_type": "markdown",
   "metadata": {
    "id": "LZGHY6uGzwfO"
   },
   "source": [
    "## Analice los datos unidos, identifique columnas a limpiar y columnas a remover en caso de ser necesario. Justifique todas sus propuestas."
   ]
  },
  {
   "cell_type": "code",
   "execution_count": 32,
   "metadata": {
    "id": "N1vbn-Jq0HCp"
   },
   "outputs": [
    {
     "data": {
      "text/plain": [
       "(1752, 15)"
      ]
     },
     "execution_count": 32,
     "metadata": {},
     "output_type": "execute_result"
    }
   ],
   "source": [
    "# Análisis de los datos aquí\n",
    "sales.shape #Se conservan los 1753 registros de venta"
   ]
  },
  {
   "cell_type": "code",
   "execution_count": 33,
   "metadata": {},
   "outputs": [
    {
     "data": {
      "text/plain": [
       "cajero             1752\n",
       "nombre_familia     1752\n",
       "nombre_producto    1752\n",
       "cantidad           1752\n",
       "monto_total        1752\n",
       "cliente            1752\n",
       "genero             1752\n",
       "idioma             1752\n",
       "estado_civil       1752\n",
       "cant_hijos         1752\n",
       "edad               1752\n",
       "color_fav          1752\n",
       "fecha_venta        1752\n",
       "year               1752\n",
       "month              1752\n",
       "dtype: int64"
      ]
     },
     "execution_count": 33,
     "metadata": {},
     "output_type": "execute_result"
    }
   ],
   "source": [
    "sales.count()"
   ]
  },
  {
   "cell_type": "code",
   "execution_count": 34,
   "metadata": {},
   "outputs": [
    {
     "data": {
      "text/html": [
       "<div>\n",
       "<style scoped>\n",
       "    .dataframe tbody tr th:only-of-type {\n",
       "        vertical-align: middle;\n",
       "    }\n",
       "\n",
       "    .dataframe tbody tr th {\n",
       "        vertical-align: top;\n",
       "    }\n",
       "\n",
       "    .dataframe thead th {\n",
       "        text-align: right;\n",
       "    }\n",
       "</style>\n",
       "<table border=\"1\" class=\"dataframe\">\n",
       "  <thead>\n",
       "    <tr style=\"text-align: right;\">\n",
       "      <th></th>\n",
       "      <th>cantidad</th>\n",
       "      <th>monto_total</th>\n",
       "      <th>cant_hijos</th>\n",
       "      <th>edad</th>\n",
       "      <th>year</th>\n",
       "      <th>month</th>\n",
       "    </tr>\n",
       "  </thead>\n",
       "  <tbody>\n",
       "    <tr>\n",
       "      <th>count</th>\n",
       "      <td>1752.000000</td>\n",
       "      <td>1752.000000</td>\n",
       "      <td>1752.000000</td>\n",
       "      <td>1752.000000</td>\n",
       "      <td>1752.0</td>\n",
       "      <td>1752.000000</td>\n",
       "    </tr>\n",
       "    <tr>\n",
       "      <th>mean</th>\n",
       "      <td>1.335616</td>\n",
       "      <td>3606.461187</td>\n",
       "      <td>2.468607</td>\n",
       "      <td>31.251712</td>\n",
       "      <td>2019.0</td>\n",
       "      <td>5.765982</td>\n",
       "    </tr>\n",
       "    <tr>\n",
       "      <th>std</th>\n",
       "      <td>1.191215</td>\n",
       "      <td>2885.255617</td>\n",
       "      <td>1.122501</td>\n",
       "      <td>18.363392</td>\n",
       "      <td>0.0</td>\n",
       "      <td>3.409937</td>\n",
       "    </tr>\n",
       "    <tr>\n",
       "      <th>min</th>\n",
       "      <td>1.000000</td>\n",
       "      <td>150.000000</td>\n",
       "      <td>1.000000</td>\n",
       "      <td>1.000000</td>\n",
       "      <td>2019.0</td>\n",
       "      <td>1.000000</td>\n",
       "    </tr>\n",
       "    <tr>\n",
       "      <th>25%</th>\n",
       "      <td>1.000000</td>\n",
       "      <td>1700.000000</td>\n",
       "      <td>1.000000</td>\n",
       "      <td>16.000000</td>\n",
       "      <td>2019.0</td>\n",
       "      <td>3.000000</td>\n",
       "    </tr>\n",
       "    <tr>\n",
       "      <th>50%</th>\n",
       "      <td>1.000000</td>\n",
       "      <td>2985.000000</td>\n",
       "      <td>2.000000</td>\n",
       "      <td>30.000000</td>\n",
       "      <td>2019.0</td>\n",
       "      <td>6.000000</td>\n",
       "    </tr>\n",
       "    <tr>\n",
       "      <th>75%</th>\n",
       "      <td>1.000000</td>\n",
       "      <td>4710.000000</td>\n",
       "      <td>3.000000</td>\n",
       "      <td>46.000000</td>\n",
       "      <td>2019.0</td>\n",
       "      <td>9.000000</td>\n",
       "    </tr>\n",
       "    <tr>\n",
       "      <th>max</th>\n",
       "      <td>20.000000</td>\n",
       "      <td>23520.000000</td>\n",
       "      <td>4.000000</td>\n",
       "      <td>65.000000</td>\n",
       "      <td>2019.0</td>\n",
       "      <td>12.000000</td>\n",
       "    </tr>\n",
       "  </tbody>\n",
       "</table>\n",
       "</div>"
      ],
      "text/plain": [
       "          cantidad   monto_total   cant_hijos         edad    year  \\\n",
       "count  1752.000000   1752.000000  1752.000000  1752.000000  1752.0   \n",
       "mean      1.335616   3606.461187     2.468607    31.251712  2019.0   \n",
       "std       1.191215   2885.255617     1.122501    18.363392     0.0   \n",
       "min       1.000000    150.000000     1.000000     1.000000  2019.0   \n",
       "25%       1.000000   1700.000000     1.000000    16.000000  2019.0   \n",
       "50%       1.000000   2985.000000     2.000000    30.000000  2019.0   \n",
       "75%       1.000000   4710.000000     3.000000    46.000000  2019.0   \n",
       "max      20.000000  23520.000000     4.000000    65.000000  2019.0   \n",
       "\n",
       "             month  \n",
       "count  1752.000000  \n",
       "mean      5.765982  \n",
       "std       3.409937  \n",
       "min       1.000000  \n",
       "25%       3.000000  \n",
       "50%       6.000000  \n",
       "75%       9.000000  \n",
       "max      12.000000  "
      ]
     },
     "execution_count": 34,
     "metadata": {},
     "output_type": "execute_result"
    }
   ],
   "source": [
    "sales.describe()"
   ]
  },
  {
   "cell_type": "code",
   "execution_count": 35,
   "metadata": {},
   "outputs": [
    {
     "data": {
      "text/plain": [
       "Male      920\n",
       "Female    832\n",
       "Name: genero, dtype: int64"
      ]
     },
     "execution_count": 35,
     "metadata": {},
     "output_type": "execute_result"
    }
   ],
   "source": [
    "sales['genero'].value_counts()"
   ]
  },
  {
   "cell_type": "code",
   "execution_count": 36,
   "metadata": {},
   "outputs": [
    {
     "data": {
      "text/plain": [
       "1    459\n",
       "2    439\n",
       "3    428\n",
       "4    426\n",
       "Name: cant_hijos, dtype: int64"
      ]
     },
     "execution_count": 36,
     "metadata": {},
     "output_type": "execute_result"
    }
   ],
   "source": [
    "sales['cant_hijos'].value_counts()"
   ]
  },
  {
   "cell_type": "code",
   "execution_count": 37,
   "metadata": {},
   "outputs": [
    {
     "data": {
      "text/plain": [
       "OFERTAS ESPECIALES    961\n",
       "CIGARROS              250\n",
       "BEBIDAS COCA COLA     169\n",
       "CONFITES-GALLETAS     122\n",
       "LÁCTEOS                78\n",
       "ART.LIMPIEZA           75\n",
       "JUGOS-NECTAR           52\n",
       "BEBIDAS C.C.U          37\n",
       "ART.ASEO PERSONAL       8\n",
       "Name: nombre_familia, dtype: int64"
      ]
     },
     "execution_count": 37,
     "metadata": {},
     "output_type": "execute_result"
    }
   ],
   "source": [
    "sales['nombre_familia'].value_counts()"
   ]
  },
  {
   "cell_type": "code",
   "execution_count": 38,
   "metadata": {},
   "outputs": [
    {
     "data": {
      "text/plain": [
       "* TRIAL * TRIAL * TR                      53\n",
       "Huevo                                     45\n",
       "* TRIAL * TRIAL * TRI                     39\n",
       "* TRIAL * TRIAL * TRIAL * TR              31\n",
       "PALL MALL AZUL DE 20                      29\n",
       "                                          ..\n",
       "PRESTOBARBA XTREME 3 SCHICK 3UN.           1\n",
       "3 PAQUE. VIENESAS TIL                      1\n",
       "NESCAFE TRADICION 3EN1 24g                 1\n",
       "CHANDELLE DE MANJAR NESTLE 130g.           1\n",
       "PAÑALES DESECHABLES BABY SEC XXG 16UN.     1\n",
       "Name: nombre_producto, Length: 494, dtype: int64"
      ]
     },
     "execution_count": 38,
     "metadata": {},
     "output_type": "execute_result"
    }
   ],
   "source": [
    "sales['nombre_producto'].value_counts() "
   ]
  },
  {
   "cell_type": "code",
   "execution_count": 39,
   "metadata": {},
   "outputs": [
    {
     "data": {
      "text/plain": [
       "Rojo         282\n",
       "Verde        274\n",
       "Morado       270\n",
       "Otro         247\n",
       "Azul         234\n",
       "Celeste      225\n",
       "Amarrillo    220\n",
       "Name: color_fav, dtype: int64"
      ]
     },
     "execution_count": 39,
     "metadata": {},
     "output_type": "execute_result"
    }
   ],
   "source": [
    "sales['color_fav'].value_counts()"
   ]
  },
  {
   "cell_type": "code",
   "execution_count": 40,
   "metadata": {},
   "outputs": [
    {
     "data": {
      "text/plain": [
       "<AxesSubplot:>"
      ]
     },
     "execution_count": 40,
     "metadata": {},
     "output_type": "execute_result"
    },
    {
     "data": {
      "image/png": "[encoded data removed]",
      "text/plain": [
       "<Figure size 432x288 with 1 Axes>"
      ]
     },
     "metadata": {
      "needs_background": "light"
     },
     "output_type": "display_data"
    }
   ],
   "source": [
    "sbn.heatmap(sales.isnull(), cbar = False , \n",
    "            yticklabels = False , cmap = 'viridis')"
   ]
  },
  {
   "cell_type": "code",
   "execution_count": 41,
   "metadata": {},
   "outputs": [
    {
     "name": "stdout",
     "output_type": "stream",
     "text": [
      "<class 'pandas.core.frame.DataFrame'>\n",
      "Int64Index: 1752 entries, 0 to 1752\n",
      "Data columns (total 15 columns):\n",
      " #   Column           Non-Null Count  Dtype         \n",
      "---  ------           --------------  -----         \n",
      " 0   cajero           1752 non-null   object        \n",
      " 1   nombre_familia   1752 non-null   object        \n",
      " 2   nombre_producto  1752 non-null   object        \n",
      " 3   cantidad         1752 non-null   float64       \n",
      " 4   monto_total      1752 non-null   float64       \n",
      " 5   cliente          1752 non-null   object        \n",
      " 6   genero           1752 non-null   object        \n",
      " 7   idioma           1752 non-null   object        \n",
      " 8   estado_civil     1752 non-null   object        \n",
      " 9   cant_hijos       1752 non-null   int64         \n",
      " 10  edad             1752 non-null   int64         \n",
      " 11  color_fav        1752 non-null   object        \n",
      " 12  fecha_venta      1752 non-null   datetime64[ns]\n",
      " 13  year             1752 non-null   int64         \n",
      " 14  month            1752 non-null   int64         \n",
      "dtypes: datetime64[ns](1), float64(2), int64(4), object(8)\n",
      "memory usage: 219.0+ KB\n"
     ]
    }
   ],
   "source": [
    "sales.info()"
   ]
  },
  {
   "cell_type": "markdown",
   "metadata": {
    "id": "zhQTxlFZ0MLT"
   },
   "source": [
    "# Propuesta de limpieza\n"
   ]
  },
  {
   "cell_type": "markdown",
   "metadata": {
    "id": "RY8iiOki522N"
   },
   "source": [
    "## Proponga al menos 3 tareas de limpieza\n",
    "\n",
    "Escríbalas acá justificando el por qué se debe realizar cada limpieza. \n",
    "En los bloques posteriores, ejecute las rutinas propuestas."
   ]
  },
  {
   "cell_type": "markdown",
   "metadata": {},
   "source": [
    "### Ejecución de limpieza 1 \n",
    "\n",
    "* Identificación de tipos de datos de cada columna: Nos permite conocer qué datos corresponden números, cuales a strings, cuales a booleanos, fechas etc\n",
    "* Identifiación de valores núlos y no nulos en cada columna: Nos permite conocer la integridad de la información\n",
    "* Tomar la decisión: ¿Imputar o eliminar la información del dataframe?: Se debe definir la factibilidad de inferir el valor de un dato vacío, \n",
    "        o bien deshacerse de éste, en función de su nivel de importancia dentro del modelo."
   ]
  },
  {
   "cell_type": "markdown",
   "metadata": {},
   "source": [
    "### Ejecución de limpieza 2 \n",
    "\n",
    "* Remover variables no explicativas: Aquellas columnas que no aporten valor al modelo deben ser purgadas de este\n",
    "* Mantener variables categóricas: Las variables categóricas permiten saber cómo se segmenta la información\n"
   ]
  },
  {
   "cell_type": "markdown",
   "metadata": {},
   "source": [
    "### Ejecución de limpieza 3 \n",
    "\n",
    "* Unificar columnas: En el caso de este ejercicio, la columna nombre_cliente y nombre_cajero fue obtenida desde las variables de cada dataframe, lo cual nos habilita para prescindir de 5 columnas, obteniendo el mismo valor desde solamente 2.\n",
    "* Generar columnas calculadas: El generar operaciones entre variables numéricas (p ej. cantidad * precio unitario = precio_total) nos permite enfocar el análisis hacia números más generales.\n",
    "* Estandarizar: dentro de lo posible, generar un estándar para nombrar las columnas (camel case, notación húngara, entre otros). Esto hará mucho más cómodo manipular la información.\n",
    "* Eliminar columnas que no aporten valor al modelo-"
   ]
  },
  {
   "cell_type": "markdown",
   "metadata": {
    "id": "1Al0G-Yt0x_V"
   },
   "source": [
    "## Identificación de correlación en las columnas"
   ]
  },
  {
   "cell_type": "code",
   "execution_count": 42,
   "metadata": {},
   "outputs": [
    {
     "data": {
      "text/html": [
       "<div>\n",
       "<style scoped>\n",
       "    .dataframe tbody tr th:only-of-type {\n",
       "        vertical-align: middle;\n",
       "    }\n",
       "\n",
       "    .dataframe tbody tr th {\n",
       "        vertical-align: top;\n",
       "    }\n",
       "\n",
       "    .dataframe thead th {\n",
       "        text-align: right;\n",
       "    }\n",
       "</style>\n",
       "<table border=\"1\" class=\"dataframe\">\n",
       "  <thead>\n",
       "    <tr style=\"text-align: right;\">\n",
       "      <th></th>\n",
       "      <th>cantidad</th>\n",
       "      <th>monto_total</th>\n",
       "      <th>cant_hijos</th>\n",
       "      <th>edad</th>\n",
       "      <th>year</th>\n",
       "      <th>month</th>\n",
       "    </tr>\n",
       "  </thead>\n",
       "  <tbody>\n",
       "    <tr>\n",
       "      <th>count</th>\n",
       "      <td>1752.000000</td>\n",
       "      <td>1752.000000</td>\n",
       "      <td>1752.000000</td>\n",
       "      <td>1752.000000</td>\n",
       "      <td>1752.0</td>\n",
       "      <td>1752.000000</td>\n",
       "    </tr>\n",
       "    <tr>\n",
       "      <th>mean</th>\n",
       "      <td>1.335616</td>\n",
       "      <td>3606.461187</td>\n",
       "      <td>2.468607</td>\n",
       "      <td>31.251712</td>\n",
       "      <td>2019.0</td>\n",
       "      <td>5.765982</td>\n",
       "    </tr>\n",
       "    <tr>\n",
       "      <th>std</th>\n",
       "      <td>1.191215</td>\n",
       "      <td>2885.255617</td>\n",
       "      <td>1.122501</td>\n",
       "      <td>18.363392</td>\n",
       "      <td>0.0</td>\n",
       "      <td>3.409937</td>\n",
       "    </tr>\n",
       "    <tr>\n",
       "      <th>min</th>\n",
       "      <td>1.000000</td>\n",
       "      <td>150.000000</td>\n",
       "      <td>1.000000</td>\n",
       "      <td>1.000000</td>\n",
       "      <td>2019.0</td>\n",
       "      <td>1.000000</td>\n",
       "    </tr>\n",
       "    <tr>\n",
       "      <th>25%</th>\n",
       "      <td>1.000000</td>\n",
       "      <td>1700.000000</td>\n",
       "      <td>1.000000</td>\n",
       "      <td>16.000000</td>\n",
       "      <td>2019.0</td>\n",
       "      <td>3.000000</td>\n",
       "    </tr>\n",
       "    <tr>\n",
       "      <th>50%</th>\n",
       "      <td>1.000000</td>\n",
       "      <td>2985.000000</td>\n",
       "      <td>2.000000</td>\n",
       "      <td>30.000000</td>\n",
       "      <td>2019.0</td>\n",
       "      <td>6.000000</td>\n",
       "    </tr>\n",
       "    <tr>\n",
       "      <th>75%</th>\n",
       "      <td>1.000000</td>\n",
       "      <td>4710.000000</td>\n",
       "      <td>3.000000</td>\n",
       "      <td>46.000000</td>\n",
       "      <td>2019.0</td>\n",
       "      <td>9.000000</td>\n",
       "    </tr>\n",
       "    <tr>\n",
       "      <th>max</th>\n",
       "      <td>20.000000</td>\n",
       "      <td>23520.000000</td>\n",
       "      <td>4.000000</td>\n",
       "      <td>65.000000</td>\n",
       "      <td>2019.0</td>\n",
       "      <td>12.000000</td>\n",
       "    </tr>\n",
       "  </tbody>\n",
       "</table>\n",
       "</div>"
      ],
      "text/plain": [
       "          cantidad   monto_total   cant_hijos         edad    year  \\\n",
       "count  1752.000000   1752.000000  1752.000000  1752.000000  1752.0   \n",
       "mean      1.335616   3606.461187     2.468607    31.251712  2019.0   \n",
       "std       1.191215   2885.255617     1.122501    18.363392     0.0   \n",
       "min       1.000000    150.000000     1.000000     1.000000  2019.0   \n",
       "25%       1.000000   1700.000000     1.000000    16.000000  2019.0   \n",
       "50%       1.000000   2985.000000     2.000000    30.000000  2019.0   \n",
       "75%       1.000000   4710.000000     3.000000    46.000000  2019.0   \n",
       "max      20.000000  23520.000000     4.000000    65.000000  2019.0   \n",
       "\n",
       "             month  \n",
       "count  1752.000000  \n",
       "mean      5.765982  \n",
       "std       3.409937  \n",
       "min       1.000000  \n",
       "25%       3.000000  \n",
       "50%       6.000000  \n",
       "75%       9.000000  \n",
       "max      12.000000  "
      ]
     },
     "execution_count": 42,
     "metadata": {},
     "output_type": "execute_result"
    }
   ],
   "source": [
    "sales.describe()"
   ]
  },
  {
   "cell_type": "code",
   "execution_count": 43,
   "metadata": {
    "id": "PuJCD0XA0742"
   },
   "outputs": [
    {
     "data": {
      "text/plain": [
       "array([[1.        , 0.00817768],\n",
       "       [0.00817768, 1.        ]])"
      ]
     },
     "execution_count": 43,
     "metadata": {},
     "output_type": "execute_result"
    }
   ],
   "source": [
    "# Identifique las correlación aquí\n",
    "r = np.corrcoef(sales['monto_total'], sales['cant_hijos'])\n",
    "r\n"
   ]
  },
  {
   "cell_type": "code",
   "execution_count": 44,
   "metadata": {},
   "outputs": [
    {
     "data": {
      "text/plain": [
       "0.008177683736473441"
      ]
     },
     "execution_count": 44,
     "metadata": {},
     "output_type": "execute_result"
    }
   ],
   "source": [
    "sales['monto_total'].corr(sales['cant_hijos'])"
   ]
  },
  {
   "cell_type": "code",
   "execution_count": 45,
   "metadata": {},
   "outputs": [
    {
     "data": {
      "text/plain": [
       "-0.0013856789234023815"
      ]
     },
     "execution_count": 45,
     "metadata": {},
     "output_type": "execute_result"
    }
   ],
   "source": [
    "sales['cantidad'].corr(sales['monto_total'])"
   ]
  },
  {
   "cell_type": "code",
   "execution_count": 46,
   "metadata": {},
   "outputs": [
    {
     "data": {
      "text/plain": [
       "0.018234593687366248"
      ]
     },
     "execution_count": 46,
     "metadata": {},
     "output_type": "execute_result"
    }
   ],
   "source": [
    "sales['monto_total'].corr(sales['cant_hijos'], method='spearman')"
   ]
  },
  {
   "cell_type": "code",
   "execution_count": 47,
   "metadata": {},
   "outputs": [
    {
     "data": {
      "text/plain": [
       "0.013511943171155194"
      ]
     },
     "execution_count": 47,
     "metadata": {},
     "output_type": "execute_result"
    }
   ],
   "source": [
    "sales['monto_total'].corr(sales['cant_hijos'], method='kendall')"
   ]
  },
  {
   "cell_type": "code",
   "execution_count": 48,
   "metadata": {},
   "outputs": [
    {
     "data": {
      "text/plain": [
       "-0.02096901976922005"
      ]
     },
     "execution_count": 48,
     "metadata": {},
     "output_type": "execute_result"
    }
   ],
   "source": [
    "sales['monto_total'].corr(sales['estado_civil'], method='spearman')"
   ]
  },
  {
   "cell_type": "code",
   "execution_count": 49,
   "metadata": {},
   "outputs": [
    {
     "data": {
      "text/plain": [
       "0.02983135835125728"
      ]
     },
     "execution_count": 49,
     "metadata": {},
     "output_type": "execute_result"
    }
   ],
   "source": [
    "sales['monto_total'].corr(sales['genero'], method='spearman')"
   ]
  },
  {
   "cell_type": "code",
   "execution_count": 50,
   "metadata": {},
   "outputs": [
    {
     "data": {
      "text/plain": [
       "0.1981422872874258"
      ]
     },
     "execution_count": 50,
     "metadata": {},
     "output_type": "execute_result"
    }
   ],
   "source": [
    "sales['cantidad'].corr(sales['nombre_familia'], method='spearman')"
   ]
  },
  {
   "cell_type": "code",
   "execution_count": 51,
   "metadata": {},
   "outputs": [
    {
     "data": {
      "text/plain": [
       "-0.019539581530774886"
      ]
     },
     "execution_count": 51,
     "metadata": {},
     "output_type": "execute_result"
    }
   ],
   "source": [
    "sales['edad'].corr(sales['nombre_producto'], method='spearman')"
   ]
  },
  {
   "cell_type": "markdown",
   "metadata": {
    "id": "qLqx2TAo5PDe"
   },
   "source": [
    "# Escribir una pequeña reseña de los resultados analizados y las correlaciones que  usaría para implementar un modelo de Machine Learning.\n",
    "\n",
    "* La edad de los compradores oscila entre los 1 y los 65 años, con una media de 31.2 años\n",
    "* El estado civil de los compradores se distribuye así: 457 compradores son viudos, 449 solteros, 429 casados y 417 desconocido.\n",
    "* En promedio, los compradores tienen 2.5 hijos, con un espectro entre [1, 4]\n",
    "* 920 compradores son hombres, mientras que 832 mujeres, mientras que la media de compras hombres es ligeramente superior a la de las mujeres\n",
    "* El color predilecto de los compradores es el rojo.\n",
    "* El total de ventas en 2019 fue de $6,318,520\n",
    "\n",
    "Existen varias correlaciones a considerar, por ejemplo las siguientes:\n",
    "\n",
    "* Correlación entre cantidad de hijos y familia de productos\n",
    "* Correlación entre estado civil y familia de productos\n",
    "* Correlación entre el monto de la compra y el estado civil\n",
    "* Correlación entre el cantidad de hijos y cantidad de productos que se compran\n",
    "* Correlación entre la edad y los productos de preferencia en un segmento etario"
   ]
  },
  {
   "cell_type": "code",
   "execution_count": 52,
   "metadata": {},
   "outputs": [
    {
     "data": {
      "text/plain": [
       "month\n",
       "1     1006120.0\n",
       "2      461410.0\n",
       "3      702070.0\n",
       "4      533210.0\n",
       "5      340490.0\n",
       "6      340300.0\n",
       "7      117610.0\n",
       "8      933420.0\n",
       "9     1325910.0\n",
       "10     156650.0\n",
       "11     187950.0\n",
       "12     213380.0\n",
       "Name: monto_total, dtype: float64"
      ]
     },
     "execution_count": 52,
     "metadata": {},
     "output_type": "execute_result"
    }
   ],
   "source": [
    "sales_by_month = sales.groupby(by=['month'])['monto_total'].sum()\n",
    "sales_by_month"
   ]
  },
  {
   "cell_type": "markdown",
   "metadata": {
    "id": "vUTi4_fmkOFv"
   },
   "source": [
    "## Proponga y describa al menos 5 gráficos que entregan valor al negocio y a la interpretación de los datos"
   ]
  },
  {
   "cell_type": "markdown",
   "metadata": {},
   "source": [
    "#### Preprocesamiento de la data"
   ]
  },
  {
   "cell_type": "code",
   "execution_count": 53,
   "metadata": {},
   "outputs": [
    {
     "data": {
      "text/html": [
       "<div>\n",
       "<style scoped>\n",
       "    .dataframe tbody tr th:only-of-type {\n",
       "        vertical-align: middle;\n",
       "    }\n",
       "\n",
       "    .dataframe tbody tr th {\n",
       "        vertical-align: top;\n",
       "    }\n",
       "\n",
       "    .dataframe thead th {\n",
       "        text-align: right;\n",
       "    }\n",
       "</style>\n",
       "<table border=\"1\" class=\"dataframe\">\n",
       "  <thead>\n",
       "    <tr style=\"text-align: right;\">\n",
       "      <th></th>\n",
       "      <th>cajero</th>\n",
       "      <th>nombre_familia</th>\n",
       "      <th>nombre_producto</th>\n",
       "      <th>cantidad</th>\n",
       "      <th>monto_total</th>\n",
       "      <th>cliente</th>\n",
       "      <th>genero</th>\n",
       "      <th>idioma</th>\n",
       "      <th>estado_civil</th>\n",
       "      <th>cant_hijos</th>\n",
       "      <th>edad</th>\n",
       "      <th>color_fav</th>\n",
       "      <th>fecha_venta</th>\n",
       "      <th>year</th>\n",
       "      <th>month</th>\n",
       "    </tr>\n",
       "  </thead>\n",
       "  <tbody>\n",
       "    <tr>\n",
       "      <th>0</th>\n",
       "      <td>Booth, Hunter</td>\n",
       "      <td>CONFITES-GALLETAS</td>\n",
       "      <td>Costa Rama</td>\n",
       "      <td>1.0</td>\n",
       "      <td>1500.0</td>\n",
       "      <td>Palia, Justus</td>\n",
       "      <td>Male</td>\n",
       "      <td>Pashto</td>\n",
       "      <td>Viudo</td>\n",
       "      <td>4</td>\n",
       "      <td>32</td>\n",
       "      <td>Azul</td>\n",
       "      <td>2019-08-22 19:43:18</td>\n",
       "      <td>2019</td>\n",
       "      <td>8</td>\n",
       "    </tr>\n",
       "    <tr>\n",
       "      <th>1</th>\n",
       "      <td>Booth, Hunter</td>\n",
       "      <td>OFERTAS ESPECIALES</td>\n",
       "      <td>LIPTON YELLOW 40g. 20UN.</td>\n",
       "      <td>1.0</td>\n",
       "      <td>4050.0</td>\n",
       "      <td>Quaife, Dela</td>\n",
       "      <td>Female</td>\n",
       "      <td>Dhivehi</td>\n",
       "      <td>Casado</td>\n",
       "      <td>3</td>\n",
       "      <td>26</td>\n",
       "      <td>Rojo</td>\n",
       "      <td>2019-08-23 14:08:25</td>\n",
       "      <td>2019</td>\n",
       "      <td>8</td>\n",
       "    </tr>\n",
       "    <tr>\n",
       "      <th>2</th>\n",
       "      <td>Booth, Hunter</td>\n",
       "      <td>OFERTAS ESPECIALES</td>\n",
       "      <td>CORBATAS CARO.400g.</td>\n",
       "      <td>1.0</td>\n",
       "      <td>4050.0</td>\n",
       "      <td>Dilleston, Laird</td>\n",
       "      <td>Male</td>\n",
       "      <td>Tswana</td>\n",
       "      <td>Casado</td>\n",
       "      <td>3</td>\n",
       "      <td>9</td>\n",
       "      <td>Azul</td>\n",
       "      <td>2019-08-23 14:08:25</td>\n",
       "      <td>2019</td>\n",
       "      <td>8</td>\n",
       "    </tr>\n",
       "    <tr>\n",
       "      <th>3</th>\n",
       "      <td>Booth, Hunter</td>\n",
       "      <td>OFERTAS ESPECIALES</td>\n",
       "      <td>TÉ SUPREMO 40g. 20UN.</td>\n",
       "      <td>1.0</td>\n",
       "      <td>4050.0</td>\n",
       "      <td>Balbeck, Moe</td>\n",
       "      <td>Male</td>\n",
       "      <td>Moldovan</td>\n",
       "      <td>Soltero</td>\n",
       "      <td>4</td>\n",
       "      <td>27</td>\n",
       "      <td>Otro</td>\n",
       "      <td>2019-08-23 14:08:25</td>\n",
       "      <td>2019</td>\n",
       "      <td>8</td>\n",
       "    </tr>\n",
       "    <tr>\n",
       "      <th>4</th>\n",
       "      <td>Booth, Hunter</td>\n",
       "      <td>OFERTAS ESPECIALES</td>\n",
       "      <td>ACEITE MERKAT 900ml.</td>\n",
       "      <td>1.0</td>\n",
       "      <td>4050.0</td>\n",
       "      <td>Edworthye, Stacee</td>\n",
       "      <td>Male</td>\n",
       "      <td>Dzongkha</td>\n",
       "      <td>Casado</td>\n",
       "      <td>1</td>\n",
       "      <td>47</td>\n",
       "      <td>Morado</td>\n",
       "      <td>2019-08-23 14:08:25</td>\n",
       "      <td>2019</td>\n",
       "      <td>8</td>\n",
       "    </tr>\n",
       "  </tbody>\n",
       "</table>\n",
       "</div>"
      ],
      "text/plain": [
       "          cajero      nombre_familia           nombre_producto  cantidad  \\\n",
       "0  Booth, Hunter   CONFITES-GALLETAS                Costa Rama       1.0   \n",
       "1  Booth, Hunter  OFERTAS ESPECIALES  LIPTON YELLOW 40g. 20UN.       1.0   \n",
       "2  Booth, Hunter  OFERTAS ESPECIALES       CORBATAS CARO.400g.       1.0   \n",
       "3  Booth, Hunter  OFERTAS ESPECIALES     TÉ SUPREMO 40g. 20UN.       1.0   \n",
       "4  Booth, Hunter  OFERTAS ESPECIALES      ACEITE MERKAT 900ml.       1.0   \n",
       "\n",
       "   monto_total            cliente  genero    idioma estado_civil  cant_hijos  \\\n",
       "0       1500.0      Palia, Justus    Male    Pashto        Viudo           4   \n",
       "1       4050.0       Quaife, Dela  Female   Dhivehi       Casado           3   \n",
       "2       4050.0   Dilleston, Laird    Male    Tswana       Casado           3   \n",
       "3       4050.0       Balbeck, Moe    Male  Moldovan      Soltero           4   \n",
       "4       4050.0  Edworthye, Stacee    Male  Dzongkha       Casado           1   \n",
       "\n",
       "   edad color_fav         fecha_venta  year  month  \n",
       "0    32      Azul 2019-08-22 19:43:18  2019      8  \n",
       "1    26      Rojo 2019-08-23 14:08:25  2019      8  \n",
       "2     9      Azul 2019-08-23 14:08:25  2019      8  \n",
       "3    27      Otro 2019-08-23 14:08:25  2019      8  \n",
       "4    47    Morado 2019-08-23 14:08:25  2019      8  "
      ]
     },
     "execution_count": 53,
     "metadata": {},
     "output_type": "execute_result"
    }
   ],
   "source": [
    "sales.head()"
   ]
  },
  {
   "cell_type": "code",
   "execution_count": 54,
   "metadata": {},
   "outputs": [
    {
     "data": {
      "text/html": [
       "<div>\n",
       "<style scoped>\n",
       "    .dataframe tbody tr th:only-of-type {\n",
       "        vertical-align: middle;\n",
       "    }\n",
       "\n",
       "    .dataframe tbody tr th {\n",
       "        vertical-align: top;\n",
       "    }\n",
       "\n",
       "    .dataframe thead th {\n",
       "        text-align: right;\n",
       "    }\n",
       "</style>\n",
       "<table border=\"1\" class=\"dataframe\">\n",
       "  <thead>\n",
       "    <tr style=\"text-align: right;\">\n",
       "      <th></th>\n",
       "      <th>genero</th>\n",
       "      <th>estado_civil</th>\n",
       "      <th>color_fav</th>\n",
       "      <th>cant_hijos</th>\n",
       "      <th>year</th>\n",
       "      <th>month</th>\n",
       "      <th>monto_total</th>\n",
       "    </tr>\n",
       "  </thead>\n",
       "  <tbody>\n",
       "    <tr>\n",
       "      <th>0</th>\n",
       "      <td>Female</td>\n",
       "      <td>Casado</td>\n",
       "      <td>Amarrillo</td>\n",
       "      <td>1</td>\n",
       "      <td>2019</td>\n",
       "      <td>2</td>\n",
       "      <td>1390.0</td>\n",
       "    </tr>\n",
       "    <tr>\n",
       "      <th>1</th>\n",
       "      <td>Female</td>\n",
       "      <td>Casado</td>\n",
       "      <td>Amarrillo</td>\n",
       "      <td>1</td>\n",
       "      <td>2019</td>\n",
       "      <td>3</td>\n",
       "      <td>5950.0</td>\n",
       "    </tr>\n",
       "    <tr>\n",
       "      <th>2</th>\n",
       "      <td>Female</td>\n",
       "      <td>Casado</td>\n",
       "      <td>Amarrillo</td>\n",
       "      <td>1</td>\n",
       "      <td>2019</td>\n",
       "      <td>8</td>\n",
       "      <td>22330.0</td>\n",
       "    </tr>\n",
       "    <tr>\n",
       "      <th>3</th>\n",
       "      <td>Female</td>\n",
       "      <td>Casado</td>\n",
       "      <td>Amarrillo</td>\n",
       "      <td>1</td>\n",
       "      <td>2019</td>\n",
       "      <td>9</td>\n",
       "      <td>10240.0</td>\n",
       "    </tr>\n",
       "    <tr>\n",
       "      <th>4</th>\n",
       "      <td>Female</td>\n",
       "      <td>Casado</td>\n",
       "      <td>Amarrillo</td>\n",
       "      <td>1</td>\n",
       "      <td>2019</td>\n",
       "      <td>12</td>\n",
       "      <td>1000.0</td>\n",
       "    </tr>\n",
       "    <tr>\n",
       "      <th>5</th>\n",
       "      <td>Female</td>\n",
       "      <td>Casado</td>\n",
       "      <td>Amarrillo</td>\n",
       "      <td>2</td>\n",
       "      <td>2019</td>\n",
       "      <td>4</td>\n",
       "      <td>2180.0</td>\n",
       "    </tr>\n",
       "    <tr>\n",
       "      <th>6</th>\n",
       "      <td>Female</td>\n",
       "      <td>Casado</td>\n",
       "      <td>Amarrillo</td>\n",
       "      <td>2</td>\n",
       "      <td>2019</td>\n",
       "      <td>6</td>\n",
       "      <td>14040.0</td>\n",
       "    </tr>\n",
       "    <tr>\n",
       "      <th>7</th>\n",
       "      <td>Female</td>\n",
       "      <td>Casado</td>\n",
       "      <td>Amarrillo</td>\n",
       "      <td>2</td>\n",
       "      <td>2019</td>\n",
       "      <td>12</td>\n",
       "      <td>1500.0</td>\n",
       "    </tr>\n",
       "    <tr>\n",
       "      <th>8</th>\n",
       "      <td>Female</td>\n",
       "      <td>Casado</td>\n",
       "      <td>Amarrillo</td>\n",
       "      <td>3</td>\n",
       "      <td>2019</td>\n",
       "      <td>1</td>\n",
       "      <td>5700.0</td>\n",
       "    </tr>\n",
       "    <tr>\n",
       "      <th>9</th>\n",
       "      <td>Female</td>\n",
       "      <td>Casado</td>\n",
       "      <td>Amarrillo</td>\n",
       "      <td>3</td>\n",
       "      <td>2019</td>\n",
       "      <td>9</td>\n",
       "      <td>11180.0</td>\n",
       "    </tr>\n",
       "    <tr>\n",
       "      <th>10</th>\n",
       "      <td>Female</td>\n",
       "      <td>Casado</td>\n",
       "      <td>Amarrillo</td>\n",
       "      <td>4</td>\n",
       "      <td>2019</td>\n",
       "      <td>1</td>\n",
       "      <td>14270.0</td>\n",
       "    </tr>\n",
       "    <tr>\n",
       "      <th>11</th>\n",
       "      <td>Female</td>\n",
       "      <td>Casado</td>\n",
       "      <td>Amarrillo</td>\n",
       "      <td>4</td>\n",
       "      <td>2019</td>\n",
       "      <td>7</td>\n",
       "      <td>2890.0</td>\n",
       "    </tr>\n",
       "    <tr>\n",
       "      <th>12</th>\n",
       "      <td>Female</td>\n",
       "      <td>Casado</td>\n",
       "      <td>Amarrillo</td>\n",
       "      <td>4</td>\n",
       "      <td>2019</td>\n",
       "      <td>9</td>\n",
       "      <td>3080.0</td>\n",
       "    </tr>\n",
       "    <tr>\n",
       "      <th>13</th>\n",
       "      <td>Female</td>\n",
       "      <td>Casado</td>\n",
       "      <td>Amarrillo</td>\n",
       "      <td>4</td>\n",
       "      <td>2019</td>\n",
       "      <td>11</td>\n",
       "      <td>3990.0</td>\n",
       "    </tr>\n",
       "    <tr>\n",
       "      <th>14</th>\n",
       "      <td>Female</td>\n",
       "      <td>Casado</td>\n",
       "      <td>Azul</td>\n",
       "      <td>1</td>\n",
       "      <td>2019</td>\n",
       "      <td>4</td>\n",
       "      <td>2350.0</td>\n",
       "    </tr>\n",
       "    <tr>\n",
       "      <th>15</th>\n",
       "      <td>Female</td>\n",
       "      <td>Casado</td>\n",
       "      <td>Azul</td>\n",
       "      <td>1</td>\n",
       "      <td>2019</td>\n",
       "      <td>5</td>\n",
       "      <td>3000.0</td>\n",
       "    </tr>\n",
       "    <tr>\n",
       "      <th>16</th>\n",
       "      <td>Female</td>\n",
       "      <td>Casado</td>\n",
       "      <td>Azul</td>\n",
       "      <td>1</td>\n",
       "      <td>2019</td>\n",
       "      <td>7</td>\n",
       "      <td>2810.0</td>\n",
       "    </tr>\n",
       "    <tr>\n",
       "      <th>17</th>\n",
       "      <td>Female</td>\n",
       "      <td>Casado</td>\n",
       "      <td>Azul</td>\n",
       "      <td>1</td>\n",
       "      <td>2019</td>\n",
       "      <td>8</td>\n",
       "      <td>8740.0</td>\n",
       "    </tr>\n",
       "    <tr>\n",
       "      <th>18</th>\n",
       "      <td>Female</td>\n",
       "      <td>Casado</td>\n",
       "      <td>Azul</td>\n",
       "      <td>1</td>\n",
       "      <td>2019</td>\n",
       "      <td>9</td>\n",
       "      <td>14030.0</td>\n",
       "    </tr>\n",
       "    <tr>\n",
       "      <th>19</th>\n",
       "      <td>Female</td>\n",
       "      <td>Casado</td>\n",
       "      <td>Azul</td>\n",
       "      <td>2</td>\n",
       "      <td>2019</td>\n",
       "      <td>1</td>\n",
       "      <td>7340.0</td>\n",
       "    </tr>\n",
       "  </tbody>\n",
       "</table>\n",
       "</div>"
      ],
      "text/plain": [
       "    genero estado_civil  color_fav  cant_hijos  year  month  monto_total\n",
       "0   Female       Casado  Amarrillo           1  2019      2       1390.0\n",
       "1   Female       Casado  Amarrillo           1  2019      3       5950.0\n",
       "2   Female       Casado  Amarrillo           1  2019      8      22330.0\n",
       "3   Female       Casado  Amarrillo           1  2019      9      10240.0\n",
       "4   Female       Casado  Amarrillo           1  2019     12       1000.0\n",
       "5   Female       Casado  Amarrillo           2  2019      4       2180.0\n",
       "6   Female       Casado  Amarrillo           2  2019      6      14040.0\n",
       "7   Female       Casado  Amarrillo           2  2019     12       1500.0\n",
       "8   Female       Casado  Amarrillo           3  2019      1       5700.0\n",
       "9   Female       Casado  Amarrillo           3  2019      9      11180.0\n",
       "10  Female       Casado  Amarrillo           4  2019      1      14270.0\n",
       "11  Female       Casado  Amarrillo           4  2019      7       2890.0\n",
       "12  Female       Casado  Amarrillo           4  2019      9       3080.0\n",
       "13  Female       Casado  Amarrillo           4  2019     11       3990.0\n",
       "14  Female       Casado       Azul           1  2019      4       2350.0\n",
       "15  Female       Casado       Azul           1  2019      5       3000.0\n",
       "16  Female       Casado       Azul           1  2019      7       2810.0\n",
       "17  Female       Casado       Azul           1  2019      8       8740.0\n",
       "18  Female       Casado       Azul           1  2019      9      14030.0\n",
       "19  Female       Casado       Azul           2  2019      1       7340.0"
      ]
     },
     "execution_count": 54,
     "metadata": {},
     "output_type": "execute_result"
    }
   ],
   "source": [
    "grouper_columns =['genero','estado_civil', 'color_fav', 'cant_hijos', 'year', 'month']\n",
    "grouped_sales = sales.groupby(by=grouper_columns)['monto_total'].sum().reset_index()\n",
    "grouped_sales.head(20)"
   ]
  },
  {
   "cell_type": "markdown",
   "metadata": {
    "id": "JDD1AK3q0_ED"
   },
   "source": [
    "# Gráfico 1"
   ]
  },
  {
   "cell_type": "code",
   "execution_count": 55,
   "metadata": {},
   "outputs": [
    {
     "data": {
      "text/html": [
       "<div>\n",
       "<style scoped>\n",
       "    .dataframe tbody tr th:only-of-type {\n",
       "        vertical-align: middle;\n",
       "    }\n",
       "\n",
       "    .dataframe tbody tr th {\n",
       "        vertical-align: top;\n",
       "    }\n",
       "\n",
       "    .dataframe thead th {\n",
       "        text-align: right;\n",
       "    }\n",
       "</style>\n",
       "<table border=\"1\" class=\"dataframe\">\n",
       "  <thead>\n",
       "    <tr style=\"text-align: right;\">\n",
       "      <th></th>\n",
       "      <th>cantidad</th>\n",
       "      <th>monto_total</th>\n",
       "      <th>cant_hijos</th>\n",
       "      <th>edad</th>\n",
       "      <th>year</th>\n",
       "      <th>month</th>\n",
       "    </tr>\n",
       "  </thead>\n",
       "  <tbody>\n",
       "    <tr>\n",
       "      <th>count</th>\n",
       "      <td>1752.000000</td>\n",
       "      <td>1752.000000</td>\n",
       "      <td>1752.000000</td>\n",
       "      <td>1752.000000</td>\n",
       "      <td>1752.0</td>\n",
       "      <td>1752.000000</td>\n",
       "    </tr>\n",
       "    <tr>\n",
       "      <th>mean</th>\n",
       "      <td>1.335616</td>\n",
       "      <td>3606.461187</td>\n",
       "      <td>2.468607</td>\n",
       "      <td>31.251712</td>\n",
       "      <td>2019.0</td>\n",
       "      <td>5.765982</td>\n",
       "    </tr>\n",
       "    <tr>\n",
       "      <th>std</th>\n",
       "      <td>1.191215</td>\n",
       "      <td>2885.255617</td>\n",
       "      <td>1.122501</td>\n",
       "      <td>18.363392</td>\n",
       "      <td>0.0</td>\n",
       "      <td>3.409937</td>\n",
       "    </tr>\n",
       "    <tr>\n",
       "      <th>min</th>\n",
       "      <td>1.000000</td>\n",
       "      <td>150.000000</td>\n",
       "      <td>1.000000</td>\n",
       "      <td>1.000000</td>\n",
       "      <td>2019.0</td>\n",
       "      <td>1.000000</td>\n",
       "    </tr>\n",
       "    <tr>\n",
       "      <th>25%</th>\n",
       "      <td>1.000000</td>\n",
       "      <td>1700.000000</td>\n",
       "      <td>1.000000</td>\n",
       "      <td>16.000000</td>\n",
       "      <td>2019.0</td>\n",
       "      <td>3.000000</td>\n",
       "    </tr>\n",
       "    <tr>\n",
       "      <th>50%</th>\n",
       "      <td>1.000000</td>\n",
       "      <td>2985.000000</td>\n",
       "      <td>2.000000</td>\n",
       "      <td>30.000000</td>\n",
       "      <td>2019.0</td>\n",
       "      <td>6.000000</td>\n",
       "    </tr>\n",
       "    <tr>\n",
       "      <th>75%</th>\n",
       "      <td>1.000000</td>\n",
       "      <td>4710.000000</td>\n",
       "      <td>3.000000</td>\n",
       "      <td>46.000000</td>\n",
       "      <td>2019.0</td>\n",
       "      <td>9.000000</td>\n",
       "    </tr>\n",
       "    <tr>\n",
       "      <th>max</th>\n",
       "      <td>20.000000</td>\n",
       "      <td>23520.000000</td>\n",
       "      <td>4.000000</td>\n",
       "      <td>65.000000</td>\n",
       "      <td>2019.0</td>\n",
       "      <td>12.000000</td>\n",
       "    </tr>\n",
       "  </tbody>\n",
       "</table>\n",
       "</div>"
      ],
      "text/plain": [
       "          cantidad   monto_total   cant_hijos         edad    year  \\\n",
       "count  1752.000000   1752.000000  1752.000000  1752.000000  1752.0   \n",
       "mean      1.335616   3606.461187     2.468607    31.251712  2019.0   \n",
       "std       1.191215   2885.255617     1.122501    18.363392     0.0   \n",
       "min       1.000000    150.000000     1.000000     1.000000  2019.0   \n",
       "25%       1.000000   1700.000000     1.000000    16.000000  2019.0   \n",
       "50%       1.000000   2985.000000     2.000000    30.000000  2019.0   \n",
       "75%       1.000000   4710.000000     3.000000    46.000000  2019.0   \n",
       "max      20.000000  23520.000000     4.000000    65.000000  2019.0   \n",
       "\n",
       "             month  \n",
       "count  1752.000000  \n",
       "mean      5.765982  \n",
       "std       3.409937  \n",
       "min       1.000000  \n",
       "25%       3.000000  \n",
       "50%       6.000000  \n",
       "75%       9.000000  \n",
       "max      12.000000  "
      ]
     },
     "execution_count": 55,
     "metadata": {},
     "output_type": "execute_result"
    }
   ],
   "source": [
    "sales.describe()"
   ]
  },
  {
   "cell_type": "code",
   "execution_count": 56,
   "metadata": {
    "id": "IFqeGniC0-dw"
   },
   "outputs": [
    {
     "data": {
      "text/plain": [
       "<seaborn.axisgrid.FacetGrid at 0x2a139aaa880>"
      ]
     },
     "execution_count": 56,
     "metadata": {},
     "output_type": "execute_result"
    },
    {
     "data": {
      "image/png": "[encoded data removed]",
      "text/plain": [
       "<Figure size 432.125x360 with 1 Axes>"
      ]
     },
     "metadata": {
      "needs_background": "light"
     },
     "output_type": "display_data"
    }
   ],
   "source": [
    "# Programe el gráfico 1\n",
    "\n",
    "sbn.catplot(x=\"cant_hijos\", y=\"monto_total\", hue=\"genero\", data=sales)"
   ]
  },
  {
   "cell_type": "markdown",
   "metadata": {
    "id": "J2bX1Y97k0Y3"
   },
   "source": [
    "### Descripción\n",
    "\n",
    "* En este gráfico podemos apreciar la distribución de las ventas según cantidad de hijos y el monto total de la compra.\n",
    "* Se observa una media de compra de $3600, distribuida fuertemente entre $1700 y $4710 (percentil 25% y 75% respectivamente)\n",
    "* La cantidad de compras según cantidad de hijos es bastante equilibrada\n",
    "    - 1 459\n",
    "    - 2 439\n",
    "    - 3 428\n",
    "    - 4 427"
   ]
  },
  {
   "cell_type": "markdown",
   "metadata": {
    "id": "BKZ0u1QG1HwF"
   },
   "source": [
    "# Gráfico 2"
   ]
  },
  {
   "cell_type": "code",
   "execution_count": 57,
   "metadata": {
    "id": "VPzJKazc1JFK"
   },
   "outputs": [
    {
     "data": {
      "text/plain": [
       "<AxesSubplot:xlabel='estado_civil', ylabel='monto_total'>"
      ]
     },
     "execution_count": 57,
     "metadata": {},
     "output_type": "execute_result"
    },
    {
     "data": {
      "image/png": "[encoded data removed]",
      "text/plain": [
       "<Figure size 432x288 with 1 Axes>"
      ]
     },
     "metadata": {
      "needs_background": "light"
     },
     "output_type": "display_data"
    }
   ],
   "source": [
    "# Programe el gráfico 2\n",
    "sbn.boxplot(x=\"estado_civil\", y=\"monto_total\", hue=\"genero\", data=sales[sales['estado_civil'] != 'Otro'])\n"
   ]
  },
  {
   "cell_type": "markdown",
   "metadata": {
    "id": "T8PXT1zmn9q9"
   },
   "source": [
    "#### Descripción\n",
    "\n",
    "\n",
    "* En este gráfico podemos apreciar la distribución de las ventas según estado civil y género (se excluye estado_civil=Otro)\n",
    "* Las personas casadas generan el mayor volumen de ventas\n",
    "* En los solteros se aprecia una gran igualdad entre las compras de hombres y mujeres\n",
    "* Las personas viudas tienen el menor nivel de compras, pero se aprecia una mayor desviación que los hombres"
   ]
  },
  {
   "cell_type": "markdown",
   "metadata": {
    "id": "wyRjpfeg1LLz"
   },
   "source": [
    "# Gráfico 3"
   ]
  },
  {
   "cell_type": "code",
   "execution_count": 58,
   "metadata": {},
   "outputs": [
    {
     "name": "stdout",
     "output_type": "stream",
     "text": [
      "Promedio Mensual de ventas 263272.0\n"
     ]
    },
    {
     "data": {
      "text/html": [
       "<div>\n",
       "<style scoped>\n",
       "    .dataframe tbody tr th:only-of-type {\n",
       "        vertical-align: middle;\n",
       "    }\n",
       "\n",
       "    .dataframe tbody tr th {\n",
       "        vertical-align: top;\n",
       "    }\n",
       "\n",
       "    .dataframe thead th {\n",
       "        text-align: right;\n",
       "    }\n",
       "</style>\n",
       "<table border=\"1\" class=\"dataframe\">\n",
       "  <thead>\n",
       "    <tr style=\"text-align: right;\">\n",
       "      <th></th>\n",
       "      <th>month</th>\n",
       "      <th>genero</th>\n",
       "      <th>monto_total</th>\n",
       "    </tr>\n",
       "  </thead>\n",
       "  <tbody>\n",
       "    <tr>\n",
       "      <th>0</th>\n",
       "      <td>1</td>\n",
       "      <td>Female</td>\n",
       "      <td>424510.0</td>\n",
       "    </tr>\n",
       "    <tr>\n",
       "      <th>1</th>\n",
       "      <td>1</td>\n",
       "      <td>Male</td>\n",
       "      <td>581610.0</td>\n",
       "    </tr>\n",
       "    <tr>\n",
       "      <th>2</th>\n",
       "      <td>2</td>\n",
       "      <td>Female</td>\n",
       "      <td>203880.0</td>\n",
       "    </tr>\n",
       "    <tr>\n",
       "      <th>3</th>\n",
       "      <td>2</td>\n",
       "      <td>Male</td>\n",
       "      <td>257530.0</td>\n",
       "    </tr>\n",
       "    <tr>\n",
       "      <th>4</th>\n",
       "      <td>3</td>\n",
       "      <td>Female</td>\n",
       "      <td>380770.0</td>\n",
       "    </tr>\n",
       "    <tr>\n",
       "      <th>5</th>\n",
       "      <td>3</td>\n",
       "      <td>Male</td>\n",
       "      <td>321300.0</td>\n",
       "    </tr>\n",
       "    <tr>\n",
       "      <th>6</th>\n",
       "      <td>4</td>\n",
       "      <td>Female</td>\n",
       "      <td>256440.0</td>\n",
       "    </tr>\n",
       "    <tr>\n",
       "      <th>7</th>\n",
       "      <td>4</td>\n",
       "      <td>Male</td>\n",
       "      <td>276770.0</td>\n",
       "    </tr>\n",
       "    <tr>\n",
       "      <th>8</th>\n",
       "      <td>5</td>\n",
       "      <td>Female</td>\n",
       "      <td>164350.0</td>\n",
       "    </tr>\n",
       "    <tr>\n",
       "      <th>9</th>\n",
       "      <td>5</td>\n",
       "      <td>Male</td>\n",
       "      <td>176140.0</td>\n",
       "    </tr>\n",
       "    <tr>\n",
       "      <th>10</th>\n",
       "      <td>6</td>\n",
       "      <td>Female</td>\n",
       "      <td>148980.0</td>\n",
       "    </tr>\n",
       "    <tr>\n",
       "      <th>11</th>\n",
       "      <td>6</td>\n",
       "      <td>Male</td>\n",
       "      <td>191320.0</td>\n",
       "    </tr>\n",
       "    <tr>\n",
       "      <th>12</th>\n",
       "      <td>7</td>\n",
       "      <td>Female</td>\n",
       "      <td>53890.0</td>\n",
       "    </tr>\n",
       "    <tr>\n",
       "      <th>13</th>\n",
       "      <td>7</td>\n",
       "      <td>Male</td>\n",
       "      <td>63720.0</td>\n",
       "    </tr>\n",
       "    <tr>\n",
       "      <th>14</th>\n",
       "      <td>8</td>\n",
       "      <td>Female</td>\n",
       "      <td>459650.0</td>\n",
       "    </tr>\n",
       "    <tr>\n",
       "      <th>15</th>\n",
       "      <td>8</td>\n",
       "      <td>Male</td>\n",
       "      <td>473770.0</td>\n",
       "    </tr>\n",
       "    <tr>\n",
       "      <th>16</th>\n",
       "      <td>9</td>\n",
       "      <td>Female</td>\n",
       "      <td>577470.0</td>\n",
       "    </tr>\n",
       "    <tr>\n",
       "      <th>17</th>\n",
       "      <td>9</td>\n",
       "      <td>Male</td>\n",
       "      <td>748440.0</td>\n",
       "    </tr>\n",
       "    <tr>\n",
       "      <th>18</th>\n",
       "      <td>10</td>\n",
       "      <td>Female</td>\n",
       "      <td>66130.0</td>\n",
       "    </tr>\n",
       "    <tr>\n",
       "      <th>19</th>\n",
       "      <td>10</td>\n",
       "      <td>Male</td>\n",
       "      <td>90520.0</td>\n",
       "    </tr>\n",
       "    <tr>\n",
       "      <th>20</th>\n",
       "      <td>11</td>\n",
       "      <td>Female</td>\n",
       "      <td>107850.0</td>\n",
       "    </tr>\n",
       "    <tr>\n",
       "      <th>21</th>\n",
       "      <td>11</td>\n",
       "      <td>Male</td>\n",
       "      <td>80100.0</td>\n",
       "    </tr>\n",
       "    <tr>\n",
       "      <th>22</th>\n",
       "      <td>12</td>\n",
       "      <td>Female</td>\n",
       "      <td>122760.0</td>\n",
       "    </tr>\n",
       "    <tr>\n",
       "      <th>23</th>\n",
       "      <td>12</td>\n",
       "      <td>Male</td>\n",
       "      <td>90620.0</td>\n",
       "    </tr>\n",
       "  </tbody>\n",
       "</table>\n",
       "</div>"
      ],
      "text/plain": [
       "    month  genero  monto_total\n",
       "0       1  Female     424510.0\n",
       "1       1    Male     581610.0\n",
       "2       2  Female     203880.0\n",
       "3       2    Male     257530.0\n",
       "4       3  Female     380770.0\n",
       "5       3    Male     321300.0\n",
       "6       4  Female     256440.0\n",
       "7       4    Male     276770.0\n",
       "8       5  Female     164350.0\n",
       "9       5    Male     176140.0\n",
       "10      6  Female     148980.0\n",
       "11      6    Male     191320.0\n",
       "12      7  Female      53890.0\n",
       "13      7    Male      63720.0\n",
       "14      8  Female     459650.0\n",
       "15      8    Male     473770.0\n",
       "16      9  Female     577470.0\n",
       "17      9    Male     748440.0\n",
       "18     10  Female      66130.0\n",
       "19     10    Male      90520.0\n",
       "20     11  Female     107850.0\n",
       "21     11    Male      80100.0\n",
       "22     12  Female     122760.0\n",
       "23     12    Male      90620.0"
      ]
     },
     "execution_count": 58,
     "metadata": {},
     "output_type": "execute_result"
    }
   ],
   "source": [
    "sales_by_month = sales.groupby(by=['month', 'genero'])['monto_total'].sum().reset_index()\n",
    "print(\"Promedio Mensual de ventas \" + str(np.round(np.mean(sales_by_month['monto_total']), decimals=0)))\n",
    "sales_by_month"
   ]
  },
  {
   "cell_type": "code",
   "execution_count": 59,
   "metadata": {
    "id": "c9KupfXg1MdI"
   },
   "outputs": [
    {
     "data": {
      "text/plain": [
       "<AxesSubplot:xlabel='month', ylabel='monto_total'>"
      ]
     },
     "execution_count": 59,
     "metadata": {},
     "output_type": "execute_result"
    },
    {
     "data": {
      "image/png": "[encoded data removed]",
      "text/plain": [
       "<Figure size 432x288 with 1 Axes>"
      ]
     },
     "metadata": {
      "needs_background": "light"
     },
     "output_type": "display_data"
    }
   ],
   "source": [
    "# Programe el gráfico 3\n",
    "\n",
    "sbn.barplot(data=sales_by_month, x='month', y='monto_total', ci=None,estimator=sum, hue='genero')"
   ]
  },
  {
   "cell_type": "markdown",
   "metadata": {
    "id": "2IkzNvVen-TS"
   },
   "source": [
    "#### Descripción\n",
    "\n",
    "* Los meses peak de venta son Enero, Agosto y Septiembre. \n",
    "* El promedio mensual de ventas es de 526633.0\n",
    "* Parece preocupante el bajo nivel de ventas en los últimos meses del año, principalmente en diciembre ya que es época de festividades\n",
    "* Las mujeres compran en mayor cantidad en marzo, noviembre y diciembre, mientras que los hombres en enero y septiembre"
   ]
  },
  {
   "cell_type": "markdown",
   "metadata": {
    "id": "0eSLbqzW1OyJ"
   },
   "source": [
    "# Gráfico 4"
   ]
  },
  {
   "cell_type": "code",
   "execution_count": 60,
   "metadata": {},
   "outputs": [
    {
     "data": {
      "text/html": [
       "<div>\n",
       "<style scoped>\n",
       "    .dataframe tbody tr th:only-of-type {\n",
       "        vertical-align: middle;\n",
       "    }\n",
       "\n",
       "    .dataframe tbody tr th {\n",
       "        vertical-align: top;\n",
       "    }\n",
       "\n",
       "    .dataframe thead th {\n",
       "        text-align: right;\n",
       "    }\n",
       "</style>\n",
       "<table border=\"1\" class=\"dataframe\">\n",
       "  <thead>\n",
       "    <tr style=\"text-align: right;\">\n",
       "      <th></th>\n",
       "      <th>genero</th>\n",
       "      <th>color_fav</th>\n",
       "      <th>cajero</th>\n",
       "    </tr>\n",
       "  </thead>\n",
       "  <tbody>\n",
       "    <tr>\n",
       "      <th>0</th>\n",
       "      <td>Female</td>\n",
       "      <td>Amarrillo</td>\n",
       "      <td>93</td>\n",
       "    </tr>\n",
       "    <tr>\n",
       "      <th>1</th>\n",
       "      <td>Female</td>\n",
       "      <td>Azul</td>\n",
       "      <td>115</td>\n",
       "    </tr>\n",
       "    <tr>\n",
       "      <th>2</th>\n",
       "      <td>Female</td>\n",
       "      <td>Celeste</td>\n",
       "      <td>99</td>\n",
       "    </tr>\n",
       "    <tr>\n",
       "      <th>3</th>\n",
       "      <td>Female</td>\n",
       "      <td>Morado</td>\n",
       "      <td>135</td>\n",
       "    </tr>\n",
       "    <tr>\n",
       "      <th>4</th>\n",
       "      <td>Female</td>\n",
       "      <td>Otro</td>\n",
       "      <td>115</td>\n",
       "    </tr>\n",
       "    <tr>\n",
       "      <th>5</th>\n",
       "      <td>Female</td>\n",
       "      <td>Rojo</td>\n",
       "      <td>139</td>\n",
       "    </tr>\n",
       "    <tr>\n",
       "      <th>6</th>\n",
       "      <td>Female</td>\n",
       "      <td>Verde</td>\n",
       "      <td>136</td>\n",
       "    </tr>\n",
       "    <tr>\n",
       "      <th>7</th>\n",
       "      <td>Male</td>\n",
       "      <td>Amarrillo</td>\n",
       "      <td>127</td>\n",
       "    </tr>\n",
       "    <tr>\n",
       "      <th>8</th>\n",
       "      <td>Male</td>\n",
       "      <td>Azul</td>\n",
       "      <td>119</td>\n",
       "    </tr>\n",
       "    <tr>\n",
       "      <th>9</th>\n",
       "      <td>Male</td>\n",
       "      <td>Celeste</td>\n",
       "      <td>126</td>\n",
       "    </tr>\n",
       "    <tr>\n",
       "      <th>10</th>\n",
       "      <td>Male</td>\n",
       "      <td>Morado</td>\n",
       "      <td>135</td>\n",
       "    </tr>\n",
       "    <tr>\n",
       "      <th>11</th>\n",
       "      <td>Male</td>\n",
       "      <td>Otro</td>\n",
       "      <td>132</td>\n",
       "    </tr>\n",
       "    <tr>\n",
       "      <th>12</th>\n",
       "      <td>Male</td>\n",
       "      <td>Rojo</td>\n",
       "      <td>143</td>\n",
       "    </tr>\n",
       "    <tr>\n",
       "      <th>13</th>\n",
       "      <td>Male</td>\n",
       "      <td>Verde</td>\n",
       "      <td>138</td>\n",
       "    </tr>\n",
       "  </tbody>\n",
       "</table>\n",
       "</div>"
      ],
      "text/plain": [
       "    genero  color_fav  cajero\n",
       "0   Female  Amarrillo      93\n",
       "1   Female       Azul     115\n",
       "2   Female    Celeste      99\n",
       "3   Female     Morado     135\n",
       "4   Female       Otro     115\n",
       "5   Female       Rojo     139\n",
       "6   Female      Verde     136\n",
       "7     Male  Amarrillo     127\n",
       "8     Male       Azul     119\n",
       "9     Male    Celeste     126\n",
       "10    Male     Morado     135\n",
       "11    Male       Otro     132\n",
       "12    Male       Rojo     143\n",
       "13    Male      Verde     138"
      ]
     },
     "execution_count": 60,
     "metadata": {},
     "output_type": "execute_result"
    }
   ],
   "source": [
    "sales_by_color = sales.groupby(by=['genero','color_fav'])['cajero'].count().reset_index()\n",
    "sales_by_color\n",
    "#grouped_sales = sales.groupby(by=grouper_columns)['monto_total'].sum().reset_index()\n"
   ]
  },
  {
   "cell_type": "code",
   "execution_count": 61,
   "metadata": {
    "id": "T6LUghQ01Py0"
   },
   "outputs": [
    {
     "data": {
      "text/plain": [
       "<AxesSubplot:xlabel='color_fav', ylabel='cajero'>"
      ]
     },
     "execution_count": 61,
     "metadata": {},
     "output_type": "execute_result"
    },
    {
     "data": {
      "image/png": "[encoded data removed]",
      "text/plain": [
       "<Figure size 432x288 with 1 Axes>"
      ]
     },
     "metadata": {
      "needs_background": "light"
     },
     "output_type": "display_data"
    }
   ],
   "source": [
    "# Programe el gráfico 4\n",
    "sbn.scatterplot(data=sales_by_color, x='color_fav', y='cajero', hue='genero')"
   ]
  },
  {
   "cell_type": "markdown",
   "metadata": {
    "id": "UREmi1gKn_Rm"
   },
   "source": [
    "# Descripción\n",
    "\n",
    "* El color favorito de hombres y mujeres es el rojo, seguido del verde \n",
    "* Los colores menos llamativos para las mujeres son el amarillo y el celeste, mientras que en los hombres no se aprecia mayor desviación"
   ]
  },
  {
   "cell_type": "markdown",
   "metadata": {
    "id": "l5Bd5dh91Rfk"
   },
   "source": [
    "# Gráfico 5"
   ]
  },
  {
   "cell_type": "code",
   "execution_count": 62,
   "metadata": {},
   "outputs": [
    {
     "data": {
      "image/png": "[encoded data removed]",
      "text/plain": [
       "<Figure size 432x288 with 1 Axes>"
      ]
     },
     "metadata": {},
     "output_type": "display_data"
    }
   ],
   "source": [
    "sales_by_sex = sales.groupby(by=['genero'])['monto_total'].sum().reset_index()\n",
    "fig , ax = plt.subplots()\n",
    "ax.pie(sales_by_sex['monto_total'],labels = ['Mujeres','Hombres'],autopct='%1.2f%%',shadow = False)\n",
    "plt.show()"
   ]
  },
  {
   "cell_type": "code",
   "execution_count": 63,
   "metadata": {},
   "outputs": [
    {
     "data": {
      "text/plain": [
       "estado_civil  monto_total\n",
       "Casado        1609370.0      1\n",
       "Otro          1461870.0      1\n",
       "Soltero       1639880.0      1\n",
       "Viudo         1607400.0      1\n",
       "dtype: int64"
      ]
     },
     "execution_count": 63,
     "metadata": {},
     "output_type": "execute_result"
    }
   ],
   "source": [
    "sales_by_civil_status = sales.groupby(by=['estado_civil'])['monto_total'].sum().reset_index()\n",
    "sales_by_civil_status.value_counts()\n"
   ]
  },
  {
   "cell_type": "code",
   "execution_count": 64,
   "metadata": {},
   "outputs": [
    {
     "data": {
      "text/plain": [
       "<AxesSubplot:xlabel='cajero', ylabel='monto_total'>"
      ]
     },
     "execution_count": 64,
     "metadata": {},
     "output_type": "execute_result"
    },
    {
     "data": {
      "image/png": "[encoded data removed]",
      "text/plain": [
       "<Figure size 432x288 with 1 Axes>"
      ]
     },
     "metadata": {
      "needs_background": "light"
     },
     "output_type": "display_data"
    }
   ],
   "source": [
    "sales_by_seller = sales.groupby(by=['cajero'])['monto_total'].sum().reset_index()\n",
    "fig , ax = plt.subplots()\n",
    "sbn.barplot(data=sales_by_seller, x='cajero', y='monto_total', ci=None,estimator=sum)"
   ]
  },
  {
   "cell_type": "markdown",
   "metadata": {
    "id": "jlaMmaw-n__0"
   },
   "source": [
    "#### Descripción\n",
    "\n",
    "* Los hombres concentran 53% del total de compras, mientras que las mujeres un 47%\n",
    "* Las ventas según estado civil son prácticamente homogéneas\n",
    "* Zelda Wiggins es el cajero con la mayor concentración de ventas"
   ]
  },
  {
   "cell_type": "markdown",
   "metadata": {
    "id": "sfPGtctp6hxq"
   },
   "source": [
    "# Detalle aquí las conclusiones obtenidas respecto al dataset. Explique y complemente el análisis recalcando la importancia de la exploración de datos antes de comenzar a realizar modelos de Machine Learning.\n",
    "\n",
    "En síntesis, el dataset analizado corresponde a información de ventas realizadas en un supermercado durante el año 2019.\n",
    "\n",
    "Durante este análisis pudimos conocer información acerca de los compradores y sus preferencias.\n",
    "\n",
    "* La edad de los compradores oscila entre los 1 y los 65 años, con una media de 31.2 años\n",
    "* En promedio, los compradores tienen 2.5 hijos, con un espectro entre [1, 4]\n",
    "* 920 compradores son hombres, mientras que 832 mujeres, mientras que la media de compras hombres es ligeramente superior a la de las mujeres\n",
    "* El color predilecto de los compradores es el rojo.\n",
    "* El total de ventas en 2019 fue de $6,318,520\n",
    "\n",
    "A fin a modelos de machine learning, es de suma importancia realizar un análisis previo y preprocesamiento de la información, ya que gracias a esta actividad es posible obtener modelos limpios.\n",
    "\n",
    "De esta manera es posible establecer correlaciones entre variables y distinguir patrones y definir algoritmos predictivos en un dataset tan homogéneo como este, y poder responder preguntas tales como:\n",
    "\n",
    "¿Cuál será mi volumen de ventas en un futuro?\n",
    "¿Qué productos serán comprados con mayor freciencia?\n",
    "¿Con qué productos tengo que abastecerme para determinadas épocas del año?\n",
    "¿Con qué facilidad un nuevo producto entrará al mercado?\n",
    "¿Cómo impactará en las ventas y en mi clientela la disminución o aumento en el precio de un determinado producto?\n",
    "\n",
    "Entre otras más que dependerán de las necesidades y objetivos del negocio y/o disciplina\n",
    "\n",
    "El data wrangling es una disciplina clave de cara a obtener datos límpios y optimizadores, resultados realistas, para de esta manera mejorar el umbral de confianza de los modelos que se deseen implementar."
   ]
  }
 ],
 "metadata": {
  "colab": {
   "collapsed_sections": [],
   "name": "Estructura_Evaluación 1.ipynb",
   "provenance": [],
   "toc_visible": true
  },
  "interpreter": {
   "hash": "b3ba2566441a7c06988d0923437866b63cedc61552a5af99d1f4fb67d367b25f"
  },
  "kernelspec": {
   "display_name": "Python 3.8.8 64-bit ('base': conda)",
   "name": "python3"
  },
  "language_info": {
   "codemirror_mode": {
    "name": "ipython",
    "version": 3
   },
   "file_extension": ".py",
   "mimetype": "text/x-python",
   "name": "python",
   "nbconvert_exporter": "python",
   "pygments_lexer": "ipython3",
   "version": "3.8.8"
  }
 },
 "nbformat": 4,
 "nbformat_minor": 4
}
